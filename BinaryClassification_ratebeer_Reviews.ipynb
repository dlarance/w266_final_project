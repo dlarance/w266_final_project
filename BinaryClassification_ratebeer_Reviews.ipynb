{
 "cells": [
  {
   "cell_type": "markdown",
   "metadata": {},
   "source": [
    "# Binary Sentiment Classification of ratebeer Reviews"
   ]
  },
  {
   "cell_type": "code",
   "execution_count": 1,
   "metadata": {},
   "outputs": [],
   "source": [
    "import numpy as np\n",
    "import pandas as pd"
   ]
  },
  {
   "cell_type": "markdown",
   "metadata": {},
   "source": [
    "Paths to serialization files"
   ]
  },
  {
   "cell_type": "code",
   "execution_count": 2,
   "metadata": {},
   "outputs": [],
   "source": [
    "# Matt's paths\n",
    "# pathToBinClassDir = '/home/matt/w266_saved/binaryclassifier'\n",
    "# pathToWordId      = '/home/matt/w266_saved/binaryclassifier/wordId.npy'\n",
    "# pathToCheckpoint  = '/home/matt/w266_saved/binaryclassifier/model.ckpt'\n",
    "\n",
    "# Dave's paths\n",
    "pathToBinClassDir = '/home/dal7p/project_model/'\n",
    "pathToWordId      = '/home/dal7p/project_model/ratebeer/wordId.npy'\n",
    "pathToCheckpoint  = '/home/dal7p/project_model/model.ckpt'"
   ]
  },
  {
   "cell_type": "markdown",
   "metadata": {},
   "source": [
    "RNN Model Parameters"
   ]
  },
  {
   "cell_type": "code",
   "execution_count": 3,
   "metadata": {},
   "outputs": [],
   "source": [
    "batchSize = 24\n",
    "numClasses = 2  # Binary classification\n",
    "hiddenSize = 50\n",
    "\n",
    "assert(batchSize % numClasses == 0)"
   ]
  },
  {
   "cell_type": "markdown",
   "metadata": {},
   "source": [
    "## Word Vectors"
   ]
  },
  {
   "cell_type": "code",
   "execution_count": 4,
   "metadata": {},
   "outputs": [],
   "source": [
    "from pathlib import Path\n",
    "import os.path\n",
    "wordsList = np.load(os.path.join(str(Path.home()), '.kaggle/wordvectors/pretrained_glove/wordsList.npy'))\n",
    "wordsList = wordsList.tolist() #Originally loaded as numpy array\n",
    "wordsList = [word.decode('UTF-8') for word in wordsList] #Encode words as UTF-8\n",
    "wordVectors = np.load(os.path.join(str(Path.home()), '.kaggle/wordvectors/pretrained_glove/wordVectors.npy'))"
   ]
  },
  {
   "cell_type": "markdown",
   "metadata": {},
   "source": [
    "Word Vectors have dimension 50"
   ]
  },
  {
   "cell_type": "code",
   "execution_count": 5,
   "metadata": {},
   "outputs": [],
   "source": [
    "embedding_dimension = 50"
   ]
  },
  {
   "cell_type": "markdown",
   "metadata": {},
   "source": [
    "## Reviews"
   ]
  },
  {
   "cell_type": "markdown",
   "metadata": {},
   "source": [
    "Load the Reviews"
   ]
  },
  {
   "cell_type": "code",
   "execution_count": 6,
   "metadata": {},
   "outputs": [
    {
     "name": "stdout",
     "output_type": "stream",
     "text": [
      "[nltk_data] Downloading package punkt to /home/dal7p/nltk_data...\n",
      "[nltk_data]   Package punkt is already up-to-date!\n"
     ]
    }
   ],
   "source": [
    "import nltk\n",
    "nltk.download('punkt')\n",
    "from nltk.tokenize import word_tokenize"
   ]
  },
  {
   "cell_type": "code",
   "execution_count": 7,
   "metadata": {},
   "outputs": [],
   "source": [
    "# Read the reviews in\n",
    "review_df = pd.read_csv('./data_prep/rate_beer_binary_medium_v2.csv', encoding='utf8')\n"
   ]
  },
  {
   "cell_type": "markdown",
   "metadata": {},
   "source": [
    "Define the size of the train, dev, and test datasets"
   ]
  },
  {
   "cell_type": "code",
   "execution_count": 8,
   "metadata": {},
   "outputs": [],
   "source": [
    "import math\n",
    "\n",
    "# Get indicies of the rows in the dataframe for testing\n",
    "test_lower_index = 0\n",
    "test_size = review_df.shape[0]"
   ]
  },
  {
   "cell_type": "markdown",
   "metadata": {},
   "source": [
    "Remove punctuation, lowercase, and then tokenize the reviews.  The tokens need to be lowercase for the embedding lookup."
   ]
  },
  {
   "cell_type": "code",
   "execution_count": 9,
   "metadata": {},
   "outputs": [],
   "source": [
    "import re\n",
    "\n",
    "strip_special_chars = re.compile(\"[^A-Za-z0-9 ]+\")\n",
    "\n",
    "def cleanSentences(string):\n",
    "    return word_tokenize(re.sub(strip_special_chars, \" \", string.lower()))\n",
    "\n",
    "review_df['Tokens'] = review_df['Text'].apply(lambda text: cleanSentences(text))"
   ]
  },
  {
   "cell_type": "markdown",
   "metadata": {},
   "source": [
    "Create the array of input sentences converted to word IDs. \n",
    "One extra integer to store the review ID"
   ]
  },
  {
   "cell_type": "code",
   "execution_count": 10,
   "metadata": {},
   "outputs": [],
   "source": [
    "maxSeqLength = 267 # From EDA"
   ]
  },
  {
   "cell_type": "code",
   "execution_count": 11,
   "metadata": {},
   "outputs": [],
   "source": [
    "word_ids = np.zeros((test_size, maxSeqLength+2), dtype='int32')"
   ]
  },
  {
   "cell_type": "markdown",
   "metadata": {},
   "source": [
    "Convert words to word IDs and store in word_ids"
   ]
  },
  {
   "cell_type": "code",
   "execution_count": 12,
   "metadata": {},
   "outputs": [],
   "source": [
    "from pathlib import Path\n",
    "word_id_file = Path(pathToWordId)\n",
    "\n",
    "if not word_id_file.exists():\n",
    "\n",
    "    sentence_index = 0\n",
    "\n",
    "    for _, row in review_df.iterrows():\n",
    "\n",
    "        # Store the review Id for identifying misclassified reviews in testing\n",
    "        word_index = 0\n",
    "        word_ids[sentence_index][word_index] = row['Id']   # row['id']          #TODO: FIX LATER -- Fixed?\n",
    "        word_index = word_index + 1\n",
    "        word_ids[sentence_index][word_index] = row['Score']\n",
    "        word_index = word_index + 1\n",
    "\n",
    "        for word in row['Tokens']:\n",
    "\n",
    "            try:\n",
    "                word_ids[sentence_index][word_index] = wordsList.index(word)\n",
    "            except ValueError:\n",
    "                word_ids[sentence_index][word_index] = 399999 #Vector for unkown words\n",
    "\n",
    "            word_index = word_index + 1\n",
    "\n",
    "            if word_index == maxSeqLength:\n",
    "                break\n",
    "\n",
    "        sentence_index = sentence_index + 1\n",
    "\n",
    "    # Shuffle the word_ids matrix\n",
    "    np.random.shuffle(word_ids)\n",
    "    \n",
    "    # Save the word_ids matrix\n",
    "    binClassDir = Path(pathToBinClassDir)\n",
    "    \n",
    "    if not binClassDir.exists():\n",
    "        os.mkdir(pathToBinClassDir)\n",
    "    \n",
    "    np.save(pathToWordId, word_ids)\n",
    "else:\n",
    "    word_ids = np.load(pathToWordId)"
   ]
  },
  {
   "cell_type": "markdown",
   "metadata": {},
   "source": [
    "Create functions to get the train and test batches"
   ]
  },
  {
   "cell_type": "code",
   "execution_count": 13,
   "metadata": {},
   "outputs": [],
   "source": [
    "reviewsTestIndex = 0\n",
    "\n",
    "def getOrderedTestReviews(sectionOffset, sectionSize):\n",
    "    global reviewsTestIndex\n",
    "    \n",
    "    labels = []\n",
    "    arr = np.zeros([batchSize, maxSeqLength])\n",
    "    ids = np.zeros(batchSize)\n",
    "    finished = False\n",
    "    \n",
    "    for i in range(batchSize):\n",
    "        \n",
    "        if reviewsTestIndex >= sectionSize:\n",
    "            finished = True\n",
    "            break;\n",
    "\n",
    "        num = reviewsTestIndex + sectionOffset\n",
    "        \n",
    "        if (word_ids[num, 1] == 1) or (word_ids[num, 1] == 2):\n",
    "            labels.append([1, 0])\n",
    "        else: \n",
    "            labels.append([0, 1])\n",
    "        \n",
    "        arr[i] = word_ids[num, 2:]\n",
    "        ids[i] = word_ids[num, 0]\n",
    "        reviewsTestIndex += 1\n",
    "        \n",
    "    if reviewsTestIndex == sectionSize:\n",
    "        finished = True\n",
    "        \n",
    "    return arr, labels, ids, finished\n",
    "\n",
    "def resetDevTestIndicies():\n",
    "    global reviewsTestIndex\n",
    "\n",
    "    reviewsTestIndex = 0\n",
    "\n",
    "def getTestBatch():\n",
    "    return getOrderedTestReviews(test_lower_index, test_size)"
   ]
  },
  {
   "cell_type": "markdown",
   "metadata": {},
   "source": [
    "## Tensorflow Model"
   ]
  },
  {
   "cell_type": "markdown",
   "metadata": {},
   "source": [
    "Hyper Parameters"
   ]
  },
  {
   "cell_type": "code",
   "execution_count": 14,
   "metadata": {},
   "outputs": [],
   "source": [
    "epochs = 100\n",
    "learning_rate =  0.001\n",
    "dropout_keep_prob = 0.75\n",
    "num_layers = 2"
   ]
  },
  {
   "cell_type": "markdown",
   "metadata": {},
   "source": [
    "Model"
   ]
  },
  {
   "cell_type": "code",
   "execution_count": 15,
   "metadata": {},
   "outputs": [
    {
     "name": "stderr",
     "output_type": "stream",
     "text": [
      "/home/dal7p/anaconda3/lib/python3.6/site-packages/h5py/__init__.py:36: FutureWarning: Conversion of the second argument of issubdtype from `float` to `np.floating` is deprecated. In future, it will be treated as `np.float64 == np.dtype(float).type`.\n",
      "  from ._conv import register_converters as _register_converters\n"
     ]
    }
   ],
   "source": [
    "import tensorflow as tf\n",
    "\n",
    "class SentimentGraph:\n",
    "    \n",
    "    def __init__(self):\n",
    "        self.labels = tf.placeholder(tf.float32, [batchSize, numClasses])\n",
    "        self.input_data = tf.placeholder(tf.int32, [batchSize, maxSeqLength])\n",
    "        self.prediction = None\n",
    "        self.accuracy = None\n",
    "        self.loss = None\n",
    "        self.optimizer = None\n",
    "\n",
    "    def MakeFancyRNNCell(self, H, keep_prob, num_layers=1):\n",
    "        cells = []\n",
    "        for _ in range(num_layers):\n",
    "          cell = tf.nn.rnn_cell.BasicLSTMCell(H, forget_bias=0.0)\n",
    "          cell = tf.nn.rnn_cell.DropoutWrapper(\n",
    "              cell, input_keep_prob=keep_prob, output_keep_prob=keep_prob)\n",
    "          cells.append(cell)\n",
    "        return tf.nn.rnn_cell.MultiRNNCell(cells)\n",
    "\n",
    "    def CreateGraph(self):\n",
    "        data = tf.Variable(tf.zeros([batchSize, maxSeqLength, embedding_dimension]), dtype=tf.float32)\n",
    "        data = tf.nn.embedding_lookup(wordVectors, self.input_data)\n",
    "\n",
    "        lstmCell = self.MakeFancyRNNCell(hiddenSize, dropout_keep_prob, num_layers)\n",
    "        initial_h_ = lstmCell.zero_state(batchSize, dtype=tf.float32)\n",
    "        \n",
    "        rnn_out, _ = tf.nn.dynamic_rnn(lstmCell,\n",
    "                                       data,\n",
    "                                       initial_state=initial_h_,\n",
    "                                       dtype=tf.float32)\n",
    "\n",
    "        W_out = tf.Variable(tf.truncated_normal([hiddenSize, numClasses]), dtype=tf.float32)\n",
    "        b_out = tf.Variable(tf.constant(0.1, shape=[numClasses]), dtype=tf.float32)\n",
    "\n",
    "        # Get the output of the last RNN cell\n",
    "        rnn_out = tf.transpose(rnn_out, [1, 0, 2])\n",
    "        last_cell_out = tf.gather(rnn_out, int(rnn_out.get_shape()[0]) - 1)\n",
    "\n",
    "        # Calculate logits\n",
    "        logits = (tf.matmul(last_cell_out, W_out) + b_out)\n",
    "\n",
    "        # Calculate prediction and accuracy\n",
    "        self.prediction = tf.argmax(logits,1)\n",
    "        correctPred = tf.equal(self.prediction, tf.argmax(self.labels,1))\n",
    "        self.accuracy = tf.reduce_mean(tf.cast(correctPred, tf.float32))\n",
    "\n",
    "        # Loss function and optimizer\n",
    "        self.loss = tf.reduce_mean(tf.nn.softmax_cross_entropy_with_logits(logits=logits, labels=self.labels))\n",
    "        self.optimizer = tf.train.AdamOptimizer(learning_rate=learning_rate).minimize(self.loss)"
   ]
  },
  {
   "cell_type": "markdown",
   "metadata": {},
   "source": [
    "Examine the Mispredicted_IMDB_Classification.csv file for error analysis."
   ]
  },
  {
   "cell_type": "code",
   "execution_count": 16,
   "metadata": {},
   "outputs": [],
   "source": [
    "def TestModelTest(session, graph):\n",
    "\n",
    "    # Support for saving mispredicted reviews\n",
    "    csv = open('Mispredicted_ratebeer_Classification.csv', 'w')\n",
    "    csv.write(\"Id\\n\")\n",
    "    \n",
    "    i = 0  # Must stay outside the loops\n",
    "    \n",
    "    accuracy_measurements = []\n",
    "    loss_measurements = []\n",
    "    finished = False\n",
    "    \n",
    "    while not finished:\n",
    "    \n",
    "        nextBatch, nextBatchLabels, reviewIds, finished = getTestBatch()\n",
    "\n",
    "        # For ease of implementation, just skip partially filled batches\n",
    "        if not finished:\n",
    "            feed_dict = {\n",
    "                graph.input_data: nextBatch,\n",
    "                graph.labels: nextBatchLabels\n",
    "            }\n",
    "\n",
    "            accuracy_, loss_ = sess.run([graph.accuracy, graph.loss], feed_dict)\n",
    "            \n",
    "            i += 1\n",
    "\n",
    "            accuracy_measurements.append(accuracy_)\n",
    "            loss_measurements.append(loss_)\n",
    "            \n",
    "            # Write out mispredictions (review IDs) to a .csv file\n",
    "            if accuracy_ < 1.0:\n",
    "                \n",
    "                predictions_ = sess.run(graph.prediction, feed_dict)\n",
    "\n",
    "                for index in range(len(predictions_)):\n",
    "\n",
    "                    if predictions_[index] != np.argmax(nextBatchLabels[index]):\n",
    "                        csv.write(str(int(reviewIds[index])) + \"\\n\")\n",
    "\n",
    "    print('Testing (Test) Results:')\n",
    "    print('The average accuracy is: ', np.mean(accuracy_measurements))\n",
    "    print('The average loss is: ', np.mean(loss_measurements))"
   ]
  },
  {
   "cell_type": "markdown",
   "metadata": {},
   "source": [
    "### Run prior to testing"
   ]
  },
  {
   "cell_type": "code",
   "execution_count": 17,
   "metadata": {},
   "outputs": [],
   "source": [
    "import datetime\n",
    "\n",
    "logdir = \"tensorboard/\" + datetime.datetime.now().strftime(\"%Y%m%d-%H%M%S\") + \"/\""
   ]
  },
  {
   "cell_type": "markdown",
   "metadata": {},
   "source": [
    "Use the following:\n",
    "tensorboard --logdir=tensorboard"
   ]
  },
  {
   "cell_type": "markdown",
   "metadata": {},
   "source": [
    "### Run prior to testing"
   ]
  },
  {
   "cell_type": "code",
   "execution_count": 18,
   "metadata": {},
   "outputs": [],
   "source": [
    "resetDevTestIndicies()"
   ]
  },
  {
   "cell_type": "markdown",
   "metadata": {},
   "source": [
    "## Test"
   ]
  },
  {
   "cell_type": "code",
   "execution_count": 19,
   "metadata": {},
   "outputs": [
    {
     "name": "stdout",
     "output_type": "stream",
     "text": [
      "WARNING:tensorflow:From <ipython-input-15-63f01dc8dba4>:50: softmax_cross_entropy_with_logits (from tensorflow.python.ops.nn_ops) is deprecated and will be removed in a future version.\n",
      "Instructions for updating:\n",
      "\n",
      "Future major versions of TensorFlow will allow gradients to flow\n",
      "into the labels input on backprop by default.\n",
      "\n",
      "See @{tf.nn.softmax_cross_entropy_with_logits_v2}.\n",
      "\n",
      "INFO:tensorflow:Restoring parameters from /home/dal7p/project_model/model.ckpt\n",
      "Testing (Test) Results:\n",
      "The average accuracy is:  0.66222835\n",
      "The average loss is:  0.7247493\n"
     ]
    }
   ],
   "source": [
    "tf.reset_default_graph()\n",
    "    \n",
    "with tf.Session() as sess:\n",
    "\n",
    "    # Create the graph\n",
    "    sentimentGraph = SentimentGraph()\n",
    "    sentimentGraph.CreateGraph()\n",
    "    \n",
    "    sess.run(tf.global_variables_initializer())\n",
    "    \n",
    "    saver = tf.train.Saver()\n",
    "    saver.restore(sess, pathToCheckpoint)\n",
    "\n",
    "    # Test model\n",
    "    TestModelTest(sess, sentimentGraph)"
   ]
  }
 ],
 "metadata": {
  "kernelspec": {
   "display_name": "Python 3",
   "language": "python",
   "name": "python3"
  },
  "language_info": {
   "codemirror_mode": {
    "name": "ipython",
    "version": 3
   },
   "file_extension": ".py",
   "mimetype": "text/x-python",
   "name": "python",
   "nbconvert_exporter": "python",
   "pygments_lexer": "ipython3",
   "version": "3.6.4"
  },
  "toc": {
   "base_numbering": 1,
   "nav_menu": {},
   "number_sections": true,
   "sideBar": true,
   "skip_h1_title": true,
   "title_cell": "Table of Contents",
   "title_sidebar": "Contents",
   "toc_cell": false,
   "toc_position": {},
   "toc_section_display": true,
   "toc_window_display": false
  }
 },
 "nbformat": 4,
 "nbformat_minor": 2
}
