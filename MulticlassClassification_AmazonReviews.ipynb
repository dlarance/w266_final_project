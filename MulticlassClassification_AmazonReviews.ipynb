{
 "cells": [
  {
   "cell_type": "markdown",
   "metadata": {},
   "source": [
    "# Multi-class Sentiment Classification of Amazon Food Reviews"
   ]
  },
  {
   "cell_type": "code",
   "execution_count": 1,
   "metadata": {},
   "outputs": [],
   "source": [
    "import numpy as np\n",
    "import pandas as pd"
   ]
  },
  {
   "cell_type": "markdown",
   "metadata": {},
   "source": [
    "RNN Model Parameters"
   ]
  },
  {
   "cell_type": "code",
   "execution_count": 2,
   "metadata": {},
   "outputs": [],
   "source": [
    "batchSize = 25\n",
    "numClasses = 5  # Multi-class classification\n",
    "hiddenSize = 50\n",
    "\n",
    "assert(batchSize % numClasses == 0)"
   ]
  },
  {
   "cell_type": "markdown",
   "metadata": {},
   "source": [
    "## Word Vectors"
   ]
  },
  {
   "cell_type": "code",
   "execution_count": 3,
   "metadata": {},
   "outputs": [],
   "source": [
    "from pathlib import Path\n",
    "import os.path\n",
    "wordsList = np.load(os.path.join(str(Path.home()), '.kaggle/wordvectors/pretrained_glove/wordsList.npy'))\n",
    "wordsList = wordsList.tolist() #Originally loaded as numpy array\n",
    "wordsList = [word.decode('UTF-8') for word in wordsList] #Encode words as UTF-8\n",
    "wordVectors = np.load(os.path.join(str(Path.home()), '.kaggle/wordvectors/pretrained_glove/wordVectors.npy'))"
   ]
  },
  {
   "cell_type": "markdown",
   "metadata": {},
   "source": [
    "Word Vectors have dimension 50"
   ]
  },
  {
   "cell_type": "code",
   "execution_count": 4,
   "metadata": {},
   "outputs": [],
   "source": [
    "embedding_dimension = 50"
   ]
  },
  {
   "cell_type": "markdown",
   "metadata": {},
   "source": [
    "## Reviews"
   ]
  },
  {
   "cell_type": "markdown",
   "metadata": {},
   "source": [
    "Load the Reviews"
   ]
  },
  {
   "cell_type": "code",
   "execution_count": 5,
   "metadata": {},
   "outputs": [],
   "source": [
    "import nltk\n",
    "from nltk.tokenize import word_tokenize"
   ]
  },
  {
   "cell_type": "code",
   "execution_count": 6,
   "metadata": {},
   "outputs": [],
   "source": [
    "review_df = pd.read_csv('~/.kaggle/datasets/snap/amazon-fine-food-reviews/Reviews.csv', encoding='utf8')\n",
    "review_df = review_df.drop(['ProductId', 'UserId', 'ProfileName', 'HelpfulnessNumerator', 'HelpfulnessDenominator', 'Time', 'Summary'], axis=1)"
   ]
  },
  {
   "cell_type": "markdown",
   "metadata": {},
   "source": [
    "Use the one, two, three, four, and five star reviews"
   ]
  },
  {
   "cell_type": "code",
   "execution_count": 7,
   "metadata": {},
   "outputs": [],
   "source": [
    "one_df = review_df[review_df.Score == 1]\n",
    "one_df.reset_index(inplace=True)\n",
    "\n",
    "two_df = review_df[review_df.Score == 2]\n",
    "two_df.reset_index(inplace=True)\n",
    "\n",
    "three_df = review_df[review_df.Score == 3]\n",
    "three_df.reset_index(inplace=True)\n",
    "\n",
    "four_df = review_df[review_df.Score == 4]\n",
    "four_df.reset_index(inplace=True)\n",
    "\n",
    "five_df = review_df[review_df.Score == 5]\n",
    "five_df.reset_index(inplace=True)"
   ]
  },
  {
   "cell_type": "markdown",
   "metadata": {},
   "source": [
    "Find the smallest number of reviews for a rating, and that will be the size for all ratings (this ensures class balance)."
   ]
  },
  {
   "cell_type": "code",
   "execution_count": 8,
   "metadata": {},
   "outputs": [],
   "source": [
    "rating_sizes = [len(one_df), len(two_df), len(three_df), len(four_df), len(five_df)]\n",
    "max_num_ratings = rating_sizes[np.argmin(rating_sizes)]\n",
    "\n",
    "max_num_ratings = 12500  # Limit number of ratings for development\n",
    "\n",
    "one_df   = one_df[0:max_num_ratings]\n",
    "two_df   = two_df[0:max_num_ratings]\n",
    "three_df = three_df[0:max_num_ratings]\n",
    "four_df  = four_df[0:max_num_ratings]\n",
    "five_df  = five_df[0:max_num_ratings]"
   ]
  },
  {
   "cell_type": "markdown",
   "metadata": {},
   "source": [
    "Define the size of the train, dev, and test datasets"
   ]
  },
  {
   "cell_type": "code",
   "execution_count": 9,
   "metadata": {},
   "outputs": [],
   "source": [
    "import math\n",
    "\n",
    "# Train with 60%, , Dev: 10%, Test: 30%\n",
    "train_percent = 0.6\n",
    "dev_percent = 0.1\n",
    "test_percent = 0.3\n",
    "\n",
    "# Get indicies of the rows in the dataframe for training and testing\n",
    "train_lower_index = 0\n",
    "dev_lower_index   = math.floor(train_percent*max_num_ratings)\n",
    "test_lower_index  = math.floor( (train_percent+dev_percent)*max_num_ratings )\n",
    "\n",
    "train_size = dev_lower_index - train_lower_index\n",
    "dev_size   = test_lower_index - dev_lower_index\n",
    "test_size  = max_num_ratings - test_lower_index"
   ]
  },
  {
   "cell_type": "markdown",
   "metadata": {},
   "source": [
    "Remove punctuation, lowercase, and then tokenize the reviews.  The tokens need to be lowercase for the embedding lookup."
   ]
  },
  {
   "cell_type": "code",
   "execution_count": 10,
   "metadata": {},
   "outputs": [],
   "source": [
    "import re\n",
    "\n",
    "strip_special_chars = re.compile(\"[^A-Za-z0-9 ]+\")\n",
    "\n",
    "def cleanSentences(string):\n",
    "    return word_tokenize(re.sub(strip_special_chars, \" \", string.lower()))"
   ]
  },
  {
   "cell_type": "code",
   "execution_count": 11,
   "metadata": {},
   "outputs": [],
   "source": [
    "one_df['Tokens'] = one_df['Text'].apply(lambda text: cleanSentences(text))\n",
    "two_df['Tokens'] = two_df['Text'].apply(lambda text: cleanSentences(text))\n",
    "three_df['Tokens'] = three_df['Text'].apply(lambda text: cleanSentences(text))\n",
    "four_df['Tokens'] = four_df['Text'].apply(lambda text: cleanSentences(text))\n",
    "five_df['Tokens'] = five_df['Text'].apply(lambda text: cleanSentences(text))"
   ]
  },
  {
   "cell_type": "markdown",
   "metadata": {},
   "source": [
    "Create the array of input sentences converted to word IDs. \n",
    "One extra integer to store the review ID"
   ]
  },
  {
   "cell_type": "code",
   "execution_count": 12,
   "metadata": {},
   "outputs": [],
   "source": [
    "maxSeqLength = 267  # From EDA"
   ]
  },
  {
   "cell_type": "code",
   "execution_count": 13,
   "metadata": {},
   "outputs": [],
   "source": [
    "word_ids = np.zeros((5*max_num_ratings, maxSeqLength+1), dtype='int32')"
   ]
  },
  {
   "cell_type": "markdown",
   "metadata": {},
   "source": [
    "Convert words to word IDs and store in word_ids"
   ]
  },
  {
   "cell_type": "code",
   "execution_count": 14,
   "metadata": {},
   "outputs": [],
   "source": [
    "sentence_index = 0\n",
    "\n",
    "for df in [one_df, two_df, three_df, four_df, five_df]:\n",
    "\n",
    "    for _, row in df.iterrows():\n",
    "\n",
    "        # Store the review Id for identifying misclassified reviews in testing\n",
    "        word_index = 0\n",
    "        word_ids[sentence_index][word_index] = row['Id']\n",
    "        word_index = word_index + 1\n",
    "\n",
    "        for word in row['Tokens']:\n",
    "\n",
    "            try:\n",
    "                word_ids[sentence_index][word_index] = wordsList.index(word)\n",
    "            except ValueError:\n",
    "                word_ids[sentence_index][word_index] = 399999 #Vector for unkown words\n",
    "\n",
    "            word_index = word_index + 1\n",
    "\n",
    "            if word_index == maxSeqLength:\n",
    "                break\n",
    "\n",
    "        sentence_index = sentence_index + 1"
   ]
  },
  {
   "cell_type": "markdown",
   "metadata": {},
   "source": [
    "Create functions to get the train and test batches"
   ]
  },
  {
   "cell_type": "code",
   "execution_count": 15,
   "metadata": {},
   "outputs": [],
   "source": [
    "from random import randint\n",
    "\n",
    "def getBalancedReviews(sectionOffset, sectionSize):\n",
    "    labels = []\n",
    "    arr = np.zeros([batchSize, maxSeqLength])\n",
    "    ids = np.zeros(batchSize)\n",
    "    \n",
    "    for i in range(batchSize):\n",
    "        \n",
    "        rating = i % 5\n",
    "        \n",
    "        if (rating == 0): \n",
    "            num = randint(0,sectionSize-1)\n",
    "            labels.append([1, 0, 0, 0, 0])\n",
    "        elif (rating == 1): \n",
    "            num = randint(1*sectionSize,2*sectionSize-1)\n",
    "            labels.append([0, 1, 0, 0, 0])\n",
    "        elif (rating== 2): \n",
    "            num = randint(2*sectionSize,3*sectionSize-1)\n",
    "            labels.append([0, 0, 1, 0, 0])\n",
    "        elif (rating == 3): \n",
    "            num = randint(3*sectionSize,4*sectionSize-1)\n",
    "            labels.append([0, 0, 0, 1, 0])\n",
    "        elif (rating == 4): \n",
    "            num = randint(4*sectionSize,5*sectionSize-1)\n",
    "            labels.append([0, 0, 0, 0, 1])\n",
    "        \n",
    "        num = num + sectionOffset\n",
    "        arr[i] = word_ids[num, 1:]\n",
    "        ids[i] = word_ids[num, 0]\n",
    "        \n",
    "    return arr, labels, ids\n",
    "\n",
    "def getRandomReviews(sectionOffset, sectionSize):\n",
    "    labels = []\n",
    "    arr = np.zeros([batchSize, maxSeqLength])\n",
    "    ids = np.zeros(batchSize)\n",
    "    \n",
    "    for i in range(batchSize):\n",
    "        \n",
    "        num = randint(0, 5*sectionSize-1)\n",
    "        \n",
    "        if (num < sectionSize): \n",
    "            labels.append([1, 0, 0, 0, 0])\n",
    "        elif (num < 2*sectionSize): \n",
    "            labels.append([0, 1, 0, 0, 0])\n",
    "        elif (num < 3*sectionSize): \n",
    "            labels.append([0, 0, 1, 0, 0])\n",
    "        elif (num < 4*sectionSize): \n",
    "            labels.append([0, 0, 0, 1, 0])\n",
    "        elif (num < 5*sectionSize): \n",
    "            labels.append([0, 0, 0, 0, 1])\n",
    "        \n",
    "        num = num + sectionOffset\n",
    "        arr[i] = word_ids[num, 1:]\n",
    "        ids[i] = word_ids[num, 0]\n",
    "        \n",
    "    return arr, labels, ids\n",
    "\n",
    "def getTrainBatch():\n",
    "    return getBalancedReviews(train_lower_index, train_size)\n",
    "\n",
    "def getDevBatch():\n",
    "    return getRandomReviews(dev_lower_index, dev_size)\n",
    "\n",
    "def getTestBatch():\n",
    "    return getRandomReviews(test_lower_index, test_size)"
   ]
  },
  {
   "cell_type": "markdown",
   "metadata": {},
   "source": [
    "## Tensorflow Model"
   ]
  },
  {
   "cell_type": "markdown",
   "metadata": {},
   "source": [
    "Hyper Parameters"
   ]
  },
  {
   "cell_type": "code",
   "execution_count": 16,
   "metadata": {},
   "outputs": [],
   "source": [
    "learning_rate =  0.001\n",
    "dropout_keep_prob = 0.75"
   ]
  },
  {
   "cell_type": "markdown",
   "metadata": {},
   "source": [
    "Model"
   ]
  },
  {
   "cell_type": "code",
   "execution_count": 17,
   "metadata": {},
   "outputs": [
    {
     "name": "stdout",
     "output_type": "stream",
     "text": [
      "WARNING:tensorflow:From <ipython-input-17-62f659ee654a>:30: softmax_cross_entropy_with_logits (from tensorflow.python.ops.nn_ops) is deprecated and will be removed in a future version.\n",
      "Instructions for updating:\n",
      "\n",
      "Future major versions of TensorFlow will allow gradients to flow\n",
      "into the labels input on backprop by default.\n",
      "\n",
      "See @{tf.nn.softmax_cross_entropy_with_logits_v2}.\n",
      "\n"
     ]
    }
   ],
   "source": [
    "import tensorflow as tf\n",
    "tf.reset_default_graph()\n",
    "\n",
    "labels = tf.placeholder(tf.float32, [batchSize, numClasses])\n",
    "input_data = tf.placeholder(tf.int32, [batchSize, maxSeqLength])\n",
    "\n",
    "data = tf.Variable(tf.zeros([batchSize, maxSeqLength, embedding_dimension]), dtype=tf.float32)\n",
    "data = tf.nn.embedding_lookup(wordVectors, input_data)\n",
    "\n",
    "lstmCell = tf.contrib.rnn.BasicLSTMCell(hiddenSize)\n",
    "lstmCell = tf.contrib.rnn.DropoutWrapper(cell=lstmCell, output_keep_prob=dropout_keep_prob)\n",
    "rnn_out, _ = tf.nn.dynamic_rnn(lstmCell, data, dtype=tf.float32)\n",
    "\n",
    "W_out = tf.Variable(tf.truncated_normal([hiddenSize, numClasses]), dtype=tf.float32)\n",
    "b_out = tf.Variable(tf.constant(0.1, shape=[numClasses]), dtype=tf.float32)\n",
    "\n",
    "# Get the output of the last RNN cell\n",
    "rnn_out = tf.transpose(rnn_out, [1, 0, 2])\n",
    "last_cell_out = tf.gather(rnn_out, int(rnn_out.get_shape()[0]) - 1)\n",
    "\n",
    "# Calculate logits\n",
    "logits = (tf.matmul(last_cell_out, W_out) + b_out)\n",
    "\n",
    "# Calculate prediction and accuracy\n",
    "prediction = tf.argmax(logits,1)\n",
    "correctPred = tf.equal(prediction, tf.argmax(labels,1))\n",
    "accuracy = tf.reduce_mean(tf.cast(correctPred, tf.float32))\n",
    "\n",
    "# Loss function and optimizer\n",
    "loss = tf.reduce_mean(tf.nn.softmax_cross_entropy_with_logits(logits=logits, labels=labels))\n",
    "optimizer = tf.train.AdamOptimizer(learning_rate=learning_rate).minimize(loss)"
   ]
  },
  {
   "cell_type": "markdown",
   "metadata": {},
   "source": [
    "## Train Model"
   ]
  },
  {
   "cell_type": "code",
   "execution_count": 18,
   "metadata": {},
   "outputs": [],
   "source": [
    "import datetime\n",
    "\n",
    "def TrainModel(session, writer):\n",
    "    \n",
    "    start_time = datetime.datetime.now()\n",
    "    \n",
    "    i = 0  # Must stay outside the loops\n",
    "    \n",
    "    for epoch in range(460000):\n",
    "        \n",
    "        # Next Batch of reviews\n",
    "        nextBatch, nextBatchLabels, reviewIds = getTrainBatch()\n",
    "\n",
    "        feed_dict_ = {\n",
    "            input_data: nextBatch,\n",
    "            labels: nextBatchLabels\n",
    "        }\n",
    "\n",
    "        loss_, _ = session.run([loss, optimizer], feed_dict=feed_dict_)\n",
    "\n",
    "        #Write summary to Tensorboard\n",
    "        if (i % 10 == 0):\n",
    "            summary = session.run(merged, {input_data: nextBatch, labels: nextBatchLabels})\n",
    "            writer.add_summary(summary, i)\n",
    "\n",
    "        if (i % 1000 == 0):\n",
    "            print(\"Loss is: \", loss_, \", \", (datetime.datetime.now() - start_time).seconds, \" seconds\")\n",
    "\n",
    "        i = i + 1"
   ]
  },
  {
   "cell_type": "markdown",
   "metadata": {},
   "source": [
    "## Test Model"
   ]
  },
  {
   "cell_type": "code",
   "execution_count": 25,
   "metadata": {},
   "outputs": [],
   "source": [
    "import csv\n",
    "\n",
    "def TestModel(session):\n",
    "    \n",
    "    with open('Mispredicted_AmazonMulticlassClassification.csv', 'w') as csv_file:\n",
    "        csvwriter = csv.writer(csv_file)\n",
    "        csvwriter.writerow(['Id', 'Prediction', 'Label'])\n",
    "\n",
    "        accuracy_measurements = []\n",
    "        loss_measurements = []\n",
    "\n",
    "        for epoch in range(20):\n",
    "\n",
    "            nextBatch, nextBatchLabels, reviewIds = getTestBatch()\n",
    "\n",
    "            feed_dict = {\n",
    "                input_data: nextBatch,\n",
    "                labels: nextBatchLabels\n",
    "            }\n",
    "\n",
    "            accuracy_, loss_ = sess.run([accuracy, loss], feed_dict)\n",
    "\n",
    "            accuracy_measurements.append(accuracy_)\n",
    "            loss_measurements.append(loss_)\n",
    "\n",
    "            if accuracy_ < 1.0:\n",
    "\n",
    "                predictions_ = sess.run(prediction, feed_dict)\n",
    "\n",
    "                for index in range(len(predictions_)):\n",
    "\n",
    "                    if predictions_[index] != np.argmax(nextBatchLabels[index]):\n",
    "                        csvwriter.writerow([str(int(reviewIds[index])), predictions_[index], np.argmax(nextBatchLabels[index])])\n",
    "\n",
    "        print('Testing Results:')                    \n",
    "        print('The average accuracy is: ', np.mean(accuracy_measurements))\n",
    "        print('The average loss is: ', np.mean(loss_measurements))"
   ]
  },
  {
   "cell_type": "markdown",
   "metadata": {},
   "source": [
    "## Train and Test"
   ]
  },
  {
   "cell_type": "markdown",
   "metadata": {},
   "source": [
    "Use the following:\n",
    "tensorboard --logdir=tensorboard"
   ]
  },
  {
   "cell_type": "code",
   "execution_count": 26,
   "metadata": {},
   "outputs": [
    {
     "name": "stdout",
     "output_type": "stream",
     "text": [
      "Loss is:  1.6094378 ,  0  seconds\n",
      "Testing Results:\n",
      "The average accuracy is:  0.224\n",
      "The average loss is:  1.6170435\n"
     ]
    }
   ],
   "source": [
    "import datetime\n",
    "\n",
    "with tf.Session() as sess:\n",
    "    #saver = tf.train.Saver()\n",
    "    sess.run(tf.global_variables_initializer())\n",
    "    \n",
    "    tf.summary.scalar('Loss', loss)\n",
    "    tf.summary.scalar('Accuracy', accuracy)\n",
    "    merged = tf.summary.merge_all()\n",
    "    logdir = \"tensorboard/\" + datetime.datetime.now().strftime(\"%Y%m%d-%H%M%S\") + \"/\"\n",
    "    writer = tf.summary.FileWriter(logdir, sess.graph)\n",
    "        \n",
    "    # Train model\n",
    "    TrainModel(sess, writer)\n",
    "    \n",
    "    # Test model\n",
    "    TestModel(sess)\n",
    "    \n",
    "    writer.close()"
   ]
  }
 ],
 "metadata": {
  "kernelspec": {
   "display_name": "Python 3",
   "language": "python",
   "name": "python3"
  },
  "language_info": {
   "codemirror_mode": {
    "name": "ipython",
    "version": 3
   },
   "file_extension": ".py",
   "mimetype": "text/x-python",
   "name": "python",
   "nbconvert_exporter": "python",
   "pygments_lexer": "ipython3",
   "version": "3.5.5"
  },
  "toc": {
   "base_numbering": 1,
   "nav_menu": {},
   "number_sections": true,
   "sideBar": true,
   "skip_h1_title": true,
   "title_cell": "Table of Contents",
   "title_sidebar": "Contents",
   "toc_cell": false,
   "toc_position": {},
   "toc_section_display": true,
   "toc_window_display": false
  }
 },
 "nbformat": 4,
 "nbformat_minor": 2
}
