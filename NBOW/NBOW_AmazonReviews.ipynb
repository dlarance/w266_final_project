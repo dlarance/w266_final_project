{
 "cells": [
  {
   "cell_type": "markdown",
   "metadata": {},
   "source": [
    "# Neural Bag of Words for Amazon Reviews"
   ]
  },
  {
   "cell_type": "code",
   "execution_count": 1,
   "metadata": {},
   "outputs": [],
   "source": [
    "from __future__ import division\n",
    "import os, sys, re, json, time, datetime, shutil\n",
    "import itertools, collections\n",
    "from importlib import reload\n",
    "from IPython.display import display, HTML\n",
    "\n",
    "# NLTK for NLP utils and corpora\n",
    "import nltk\n",
    "\n",
    "# NumPy and TensorFlow\n",
    "import numpy as np\n",
    "import pandas as pd\n",
    "import tensorflow as tf\n",
    "assert(tf.__version__.startswith(\"1.8\"))\n",
    "\n",
    "# This creates a symbolic link on python in tmp directory\n",
    "\n",
    "# Helper libraries for 's instance\n",
    "from w266_common import utils, vocabulary, tf_embed_viz, treeviz\n",
    "from w266_common import patched_numpy_io\n",
    "\n",
    "# Code for this assignment\n",
    "\n",
    "import models\n",
    "\n",
    "import nltk\n",
    "from nltk.tokenize import word_tokenize"
   ]
  },
  {
   "cell_type": "markdown",
   "metadata": {},
   "source": [
    "## Word Vectors"
   ]
  },
  {
   "cell_type": "code",
   "execution_count": 2,
   "metadata": {},
   "outputs": [],
   "source": [
    "from pathlib import Path\n",
    "import os.path\n",
    "wordsList = np.load(os.path.join(str(Path.home()), '.kaggle/wordvectors/pretrained_glove/wordsList.npy'))\n",
    "wordsList = wordsList.tolist() #Originally loaded as numpy array\n",
    "wordsList = [word.decode('UTF-8') for word in wordsList] #Encode words as UTF-8\n",
    "wordVectors = np.load(os.path.join(str(Path.home()), '.kaggle/wordvectors/pretrained_glove/wordVectors.npy'))"
   ]
  },
  {
   "cell_type": "markdown",
   "metadata": {},
   "source": [
    "## Load Reviews"
   ]
  },
  {
   "cell_type": "code",
   "execution_count": 3,
   "metadata": {},
   "outputs": [],
   "source": [
    "review_df = pd.read_csv('~/.kaggle/datasets/snap/amazon-fine-food-reviews/Reviews.csv', encoding='utf8')\n",
    "review_df = review_df.drop(['Id', 'ProductId', 'UserId', 'ProfileName', 'HelpfulnessNumerator', 'HelpfulnessDenominator', 'Time', 'Summary'], axis=1)"
   ]
  },
  {
   "cell_type": "code",
   "execution_count": 4,
   "metadata": {},
   "outputs": [],
   "source": [
    "# Reduce size for development\n",
    "numReviews = 100\n",
    "review_df = review_df.loc[0:numReviews-1]"
   ]
  },
  {
   "cell_type": "markdown",
   "metadata": {},
   "source": [
    "## Tokenize"
   ]
  },
  {
   "cell_type": "code",
   "execution_count": 5,
   "metadata": {},
   "outputs": [],
   "source": [
    "review_df['Tokens'] = review_df['Text'].apply(lambda text: word_tokenize(text.lower()))"
   ]
  },
  {
   "cell_type": "markdown",
   "metadata": {},
   "source": [
    "## Train, Dev, Test data"
   ]
  },
  {
   "cell_type": "code",
   "execution_count": 6,
   "metadata": {},
   "outputs": [],
   "source": [
    "# Train with 60%, , Dev: 10%, Test: 30%\n",
    "train_percent = 0.6\n",
    "dev_percent = 0.1\n",
    "test_percent = 0.3\n",
    "\n",
    "# Get indicies of the rows in the dataframe for training and testing\n",
    "train_lower_index = 0\n",
    "train_upper_index = train_lower_index + round(len(review_df)*train_percent)\n",
    "dev_lower_index   = train_upper_index+1\n",
    "dev_upper_index   = dev_lower_index + round(len(review_df)*dev_percent)\n",
    "test_lower_index  = dev_upper_index+1\n",
    "test_upper_index  = len(review_df)-1"
   ]
  },
  {
   "cell_type": "code",
   "execution_count": 7,
   "metadata": {},
   "outputs": [],
   "source": [
    "maxSeqLength = 250  # Determined by EDA"
   ]
  },
  {
   "cell_type": "code",
   "execution_count": 8,
   "metadata": {},
   "outputs": [],
   "source": [
    "word_ids = np.zeros([review_df.shape[0], maxSeqLength], dtype=np.int32)\n",
    "word_ids_ns = np.zeros([review_df.shape[0]], dtype=np.int32)\n",
    "word_ids_labels = np.zeros([review_df.shape[0]], dtype=np.int32)"
   ]
  },
  {
   "cell_type": "code",
   "execution_count": 9,
   "metadata": {},
   "outputs": [],
   "source": [
    "for sentence_index, row in review_df.iterrows():\n",
    "    \n",
    "    word_index = 0\n",
    "    \n",
    "    for word in row['Tokens']:\n",
    "\n",
    "        try:\n",
    "            word_ids[sentence_index][word_index] = wordsList.index(word)\n",
    "        except ValueError:\n",
    "            word_ids[sentence_index][word_index] = 399999 #Vector for unkown words\n",
    "        \n",
    "        word_index = word_index + 1\n",
    "\n",
    "        if word_index == maxSeqLength:\n",
    "            break\n",
    "\n",
    "    word_ids_ns[sentence_index] = word_index\n",
    "\n",
    "    if row['Score'] >= 3:\n",
    "        word_ids_labels[sentence_index] = 1\n",
    "    else:\n",
    "        word_ids_labels[sentence_index] = 0"
   ]
  },
  {
   "cell_type": "code",
   "execution_count": 10,
   "metadata": {},
   "outputs": [],
   "source": [
    "def Split(lower_idx, upper_idx):\n",
    "    return word_ids[lower_idx:upper_idx], word_ids_ns[lower_idx:upper_idx], word_ids_labels[lower_idx:upper_idx]"
   ]
  },
  {
   "cell_type": "code",
   "execution_count": 11,
   "metadata": {},
   "outputs": [],
   "source": [
    "train_x, train_ns, train_y = Split(train_lower_index, train_upper_index)\n",
    "dev_x,   dev_ns,   dev_y   = Split(dev_lower_index, dev_upper_index)\n",
    "test_x,  test_ns,  test_y  = Split(test_lower_index, test_upper_index)"
   ]
  },
  {
   "cell_type": "markdown",
   "metadata": {},
   "source": [
    "## Model Parameters"
   ]
  },
  {
   "cell_type": "code",
   "execution_count": 12,
   "metadata": {},
   "outputs": [
    {
     "data": {
      "text/plain": [
       "<module 'models' from '/home/matt/w266_final_project/NBOW/models.py'>"
      ]
     },
     "execution_count": 12,
     "metadata": {},
     "output_type": "execute_result"
    }
   ],
   "source": [
    "import models; reload(models)"
   ]
  },
  {
   "cell_type": "code",
   "execution_count": 13,
   "metadata": {},
   "outputs": [],
   "source": [
    "# Specify model hyperparameters as used by model_fn\n",
    "model_params = dict(V=len(wordsList),\n",
    "                    embed_dim=50,\n",
    "                    hidden_dims=[25],\n",
    "                    num_classes=2,      # 2 for binary classifier\n",
    "                    encoder_type='bow',\n",
    "                    lr=0.1,\n",
    "                    optimizer='adagrad',\n",
    "                    beta=0.01,\n",
    "                    dropout_rate=0.1)  # fill this in"
   ]
  },
  {
   "cell_type": "markdown",
   "metadata": {},
   "source": [
    "## Training Parameters"
   ]
  },
  {
   "cell_type": "code",
   "execution_count": 14,
   "metadata": {},
   "outputs": [],
   "source": [
    "# Specify training schedule\n",
    "train_params = dict(batch_size=32,\n",
    "                    total_epochs=20,\n",
    "                    eval_every=2)  # fill this in"
   ]
  },
  {
   "cell_type": "code",
   "execution_count": 15,
   "metadata": {},
   "outputs": [],
   "source": [
    "checkpoint_dir = \"/tmp/tf_bow_sst_\" + datetime.datetime.now().strftime(\"%Y%m%d-%H%M\")\n",
    "\n",
    "if os.path.isdir(checkpoint_dir):\n",
    "    shutil.rmtree(checkpoint_dir)\n",
    "#ds.vocab.write_projector_config(checkpoint_dir, \"Encoder/Embedding_Layer/W_embed\")"
   ]
  },
  {
   "cell_type": "code",
   "execution_count": 16,
   "metadata": {},
   "outputs": [
    {
     "name": "stdout",
     "output_type": "stream",
     "text": [
      "INFO:tensorflow:Using default config.\n",
      "INFO:tensorflow:Using config: {'_keep_checkpoint_max': 5, '_is_chief': True, '_keep_checkpoint_every_n_hours': 10000, '_global_id_in_cluster': 0, '_num_ps_replicas': 0, '_cluster_spec': <tensorflow.python.training.server_lib.ClusterSpec object at 0x7f004b3c46d8>, '_train_distribute': None, '_log_step_count_steps': 100, '_save_summary_steps': 100, '_num_worker_replicas': 1, '_service': None, '_task_type': 'worker', '_task_id': 0, '_model_dir': '/tmp/tf_bow_sst_20180716-1432', '_evaluation_master': '', '_tf_random_seed': None, '_master': '', '_session_config': None, '_save_checkpoints_steps': None, '_save_checkpoints_secs': 600}\n",
      "\n",
      "To view training (once it starts), run:\n",
      "\n",
      "    tensorboard --logdir='/tmp/tf_bow_sst_20180716-1432' --port 6006\n",
      "\n",
      "Then in your browser, open: http://localhost:6006\n",
      "\n"
     ]
    }
   ],
   "source": [
    "model = tf.estimator.Estimator(model_fn=models.classifier_model_fn,\n",
    "                               params=model_params,\n",
    "                               model_dir=checkpoint_dir)\n",
    "\n",
    "print(\"\\nTo view training (once it starts), run:\\n\")\n",
    "print(\"    tensorboard --logdir='{:s}' --port 6006\".format(checkpoint_dir))\n",
    "print(\"\\nThen in your browser, open: http://localhost:6006\\n\")"
   ]
  },
  {
   "cell_type": "code",
   "execution_count": 17,
   "metadata": {},
   "outputs": [],
   "source": [
    "train_input_fn = patched_numpy_io.numpy_input_fn(\n",
    "                    x={\"ids\": train_x, \"ns\": train_ns},\n",
    "                    y=train_y,\n",
    "                    batch_size=train_params['batch_size'], \n",
    "                    num_epochs=train_params['eval_every'],\n",
    "                    shuffle=True,\n",
    "                    seed=42)\n",
    "\n",
    "dev_input_fn = patched_numpy_io.numpy_input_fn(\n",
    "                    x={\"ids\": dev_x, \"ns\": dev_ns},\n",
    "                    y=dev_y,\n",
    "                    batch_size=128,\n",
    "                    num_epochs=1,\n",
    "                    shuffle=False)"
   ]
  },
  {
   "cell_type": "markdown",
   "metadata": {},
   "source": [
    "## Train"
   ]
  },
  {
   "cell_type": "code",
   "execution_count": 18,
   "metadata": {},
   "outputs": [
    {
     "name": "stdout",
     "output_type": "stream",
     "text": [
      "INFO:tensorflow:Calling model_fn.\n",
      "INFO:tensorflow:Done calling model_fn.\n",
      "INFO:tensorflow:Create CheckpointSaverHook.\n",
      "INFO:tensorflow:Graph was finalized.\n",
      "INFO:tensorflow:Running local_init_op.\n",
      "INFO:tensorflow:Done running local_init_op.\n",
      "INFO:tensorflow:Saving checkpoints for 1 into /tmp/tf_bow_sst_20180716-1432/model.ckpt.\n",
      "INFO:tensorflow:loss = 1.0525326, step = 1\n",
      "INFO:tensorflow:Saving checkpoints for 4 into /tmp/tf_bow_sst_20180716-1432/model.ckpt.\n",
      "INFO:tensorflow:Loss for final step: 4.887794.\n",
      "INFO:tensorflow:Calling model_fn.\n",
      "INFO:tensorflow:Done calling model_fn.\n",
      "INFO:tensorflow:Starting evaluation at 2018-07-16-21:32:34\n",
      "INFO:tensorflow:Graph was finalized.\n",
      "INFO:tensorflow:Restoring parameters from /tmp/tf_bow_sst_20180716-1432/model.ckpt-4\n",
      "INFO:tensorflow:Running local_init_op.\n",
      "INFO:tensorflow:Done running local_init_op.\n",
      "INFO:tensorflow:Finished evaluation at 2018-07-16-21:32:35\n",
      "INFO:tensorflow:Saving dict for global step 4: accuracy = 0.8, cross_entropy_loss = 3.919354, global_step = 4, loss = 4.835321\n",
      "INFO:tensorflow:Calling model_fn.\n",
      "INFO:tensorflow:Done calling model_fn.\n",
      "INFO:tensorflow:Create CheckpointSaverHook.\n",
      "INFO:tensorflow:Graph was finalized.\n",
      "INFO:tensorflow:Restoring parameters from /tmp/tf_bow_sst_20180716-1432/model.ckpt-4\n",
      "INFO:tensorflow:Running local_init_op.\n",
      "INFO:tensorflow:Done running local_init_op.\n",
      "INFO:tensorflow:Saving checkpoints for 5 into /tmp/tf_bow_sst_20180716-1432/model.ckpt.\n",
      "INFO:tensorflow:loss = 4.604911, step = 5\n",
      "INFO:tensorflow:Saving checkpoints for 8 into /tmp/tf_bow_sst_20180716-1432/model.ckpt.\n",
      "INFO:tensorflow:Loss for final step: 3.026558.\n",
      "INFO:tensorflow:Calling model_fn.\n",
      "INFO:tensorflow:Done calling model_fn.\n",
      "INFO:tensorflow:Starting evaluation at 2018-07-16-21:32:36\n",
      "INFO:tensorflow:Graph was finalized.\n",
      "INFO:tensorflow:Restoring parameters from /tmp/tf_bow_sst_20180716-1432/model.ckpt-8\n",
      "INFO:tensorflow:Running local_init_op.\n",
      "INFO:tensorflow:Done running local_init_op.\n",
      "INFO:tensorflow:Finished evaluation at 2018-07-16-21:32:36\n",
      "INFO:tensorflow:Saving dict for global step 8: accuracy = 0.8, cross_entropy_loss = 2.4300435, global_step = 8, loss = 3.2075818\n",
      "INFO:tensorflow:Calling model_fn.\n",
      "INFO:tensorflow:Done calling model_fn.\n",
      "INFO:tensorflow:Create CheckpointSaverHook.\n",
      "INFO:tensorflow:Graph was finalized.\n",
      "INFO:tensorflow:Restoring parameters from /tmp/tf_bow_sst_20180716-1432/model.ckpt-8\n",
      "INFO:tensorflow:Running local_init_op.\n",
      "INFO:tensorflow:Done running local_init_op.\n",
      "INFO:tensorflow:Saving checkpoints for 9 into /tmp/tf_bow_sst_20180716-1432/model.ckpt.\n",
      "INFO:tensorflow:loss = 3.6027455, step = 9\n",
      "INFO:tensorflow:Saving checkpoints for 12 into /tmp/tf_bow_sst_20180716-1432/model.ckpt.\n",
      "INFO:tensorflow:Loss for final step: 1.9623992.\n",
      "INFO:tensorflow:Calling model_fn.\n",
      "INFO:tensorflow:Done calling model_fn.\n",
      "INFO:tensorflow:Starting evaluation at 2018-07-16-21:32:41\n",
      "INFO:tensorflow:Graph was finalized.\n",
      "INFO:tensorflow:Restoring parameters from /tmp/tf_bow_sst_20180716-1432/model.ckpt-12\n",
      "INFO:tensorflow:Running local_init_op.\n",
      "INFO:tensorflow:Done running local_init_op.\n",
      "INFO:tensorflow:Finished evaluation at 2018-07-16-21:32:42\n",
      "INFO:tensorflow:Saving dict for global step 12: accuracy = 0.8, cross_entropy_loss = 3.144277, global_step = 12, loss = 3.826748\n",
      "INFO:tensorflow:Calling model_fn.\n",
      "INFO:tensorflow:Done calling model_fn.\n",
      "INFO:tensorflow:Create CheckpointSaverHook.\n",
      "INFO:tensorflow:Graph was finalized.\n",
      "INFO:tensorflow:Restoring parameters from /tmp/tf_bow_sst_20180716-1432/model.ckpt-12\n",
      "INFO:tensorflow:Running local_init_op.\n",
      "INFO:tensorflow:Done running local_init_op.\n",
      "INFO:tensorflow:Saving checkpoints for 13 into /tmp/tf_bow_sst_20180716-1432/model.ckpt.\n",
      "INFO:tensorflow:loss = 2.195251, step = 13\n",
      "INFO:tensorflow:Saving checkpoints for 16 into /tmp/tf_bow_sst_20180716-1432/model.ckpt.\n",
      "INFO:tensorflow:Loss for final step: 1.4708172.\n",
      "INFO:tensorflow:Calling model_fn.\n",
      "INFO:tensorflow:Done calling model_fn.\n",
      "INFO:tensorflow:Starting evaluation at 2018-07-16-21:32:49\n",
      "INFO:tensorflow:Graph was finalized.\n",
      "INFO:tensorflow:Restoring parameters from /tmp/tf_bow_sst_20180716-1432/model.ckpt-16\n",
      "INFO:tensorflow:Running local_init_op.\n",
      "INFO:tensorflow:Done running local_init_op.\n",
      "INFO:tensorflow:Finished evaluation at 2018-07-16-21:32:50\n",
      "INFO:tensorflow:Saving dict for global step 16: accuracy = 0.8, cross_entropy_loss = 3.1627574, global_step = 16, loss = 3.776359\n",
      "INFO:tensorflow:Calling model_fn.\n",
      "INFO:tensorflow:Done calling model_fn.\n",
      "INFO:tensorflow:Create CheckpointSaverHook.\n",
      "INFO:tensorflow:Graph was finalized.\n",
      "INFO:tensorflow:Restoring parameters from /tmp/tf_bow_sst_20180716-1432/model.ckpt-16\n",
      "INFO:tensorflow:Running local_init_op.\n",
      "INFO:tensorflow:Done running local_init_op.\n",
      "INFO:tensorflow:Saving checkpoints for 17 into /tmp/tf_bow_sst_20180716-1432/model.ckpt.\n",
      "INFO:tensorflow:loss = 1.955914, step = 17\n",
      "INFO:tensorflow:Saving checkpoints for 20 into /tmp/tf_bow_sst_20180716-1432/model.ckpt.\n",
      "INFO:tensorflow:Loss for final step: 1.1307535.\n",
      "INFO:tensorflow:Calling model_fn.\n",
      "INFO:tensorflow:Done calling model_fn.\n",
      "INFO:tensorflow:Starting evaluation at 2018-07-16-21:32:53\n",
      "INFO:tensorflow:Graph was finalized.\n",
      "INFO:tensorflow:Restoring parameters from /tmp/tf_bow_sst_20180716-1432/model.ckpt-20\n",
      "INFO:tensorflow:Running local_init_op.\n",
      "INFO:tensorflow:Done running local_init_op.\n",
      "INFO:tensorflow:Finished evaluation at 2018-07-16-21:32:53\n",
      "INFO:tensorflow:Saving dict for global step 20: accuracy = 0.8, cross_entropy_loss = 3.1000247, global_step = 20, loss = 3.659923\n",
      "INFO:tensorflow:Calling model_fn.\n",
      "INFO:tensorflow:Done calling model_fn.\n",
      "INFO:tensorflow:Create CheckpointSaverHook.\n",
      "INFO:tensorflow:Graph was finalized.\n",
      "INFO:tensorflow:Restoring parameters from /tmp/tf_bow_sst_20180716-1432/model.ckpt-20\n",
      "INFO:tensorflow:Running local_init_op.\n",
      "INFO:tensorflow:Done running local_init_op.\n",
      "INFO:tensorflow:Saving checkpoints for 21 into /tmp/tf_bow_sst_20180716-1432/model.ckpt.\n",
      "INFO:tensorflow:loss = 1.6330817, step = 21\n",
      "INFO:tensorflow:Saving checkpoints for 24 into /tmp/tf_bow_sst_20180716-1432/model.ckpt.\n",
      "INFO:tensorflow:Loss for final step: 0.95115083.\n",
      "INFO:tensorflow:Calling model_fn.\n",
      "INFO:tensorflow:Done calling model_fn.\n",
      "INFO:tensorflow:Starting evaluation at 2018-07-16-21:32:59\n",
      "INFO:tensorflow:Graph was finalized.\n",
      "INFO:tensorflow:Restoring parameters from /tmp/tf_bow_sst_20180716-1432/model.ckpt-24\n",
      "INFO:tensorflow:Running local_init_op.\n",
      "INFO:tensorflow:Done running local_init_op.\n",
      "INFO:tensorflow:Finished evaluation at 2018-07-16-21:33:00\n",
      "INFO:tensorflow:Saving dict for global step 24: accuracy = 0.8, cross_entropy_loss = 2.902672, global_step = 24, loss = 3.422931\n",
      "INFO:tensorflow:Calling model_fn.\n",
      "INFO:tensorflow:Done calling model_fn.\n",
      "INFO:tensorflow:Create CheckpointSaverHook.\n",
      "INFO:tensorflow:Graph was finalized.\n",
      "INFO:tensorflow:Restoring parameters from /tmp/tf_bow_sst_20180716-1432/model.ckpt-24\n",
      "INFO:tensorflow:Running local_init_op.\n",
      "INFO:tensorflow:Done running local_init_op.\n",
      "INFO:tensorflow:Saving checkpoints for 25 into /tmp/tf_bow_sst_20180716-1432/model.ckpt.\n",
      "INFO:tensorflow:loss = 1.3166412, step = 25\n",
      "INFO:tensorflow:Saving checkpoints for 28 into /tmp/tf_bow_sst_20180716-1432/model.ckpt.\n",
      "INFO:tensorflow:Loss for final step: 0.8352692.\n",
      "INFO:tensorflow:Calling model_fn.\n",
      "INFO:tensorflow:Done calling model_fn.\n",
      "INFO:tensorflow:Starting evaluation at 2018-07-16-21:33:06\n",
      "INFO:tensorflow:Graph was finalized.\n",
      "INFO:tensorflow:Restoring parameters from /tmp/tf_bow_sst_20180716-1432/model.ckpt-28\n",
      "INFO:tensorflow:Running local_init_op.\n",
      "INFO:tensorflow:Done running local_init_op.\n",
      "INFO:tensorflow:Finished evaluation at 2018-07-16-21:33:07\n",
      "INFO:tensorflow:Saving dict for global step 28: accuracy = 0.8, cross_entropy_loss = 2.8841596, global_step = 28, loss = 3.370343\n",
      "INFO:tensorflow:Calling model_fn.\n",
      "INFO:tensorflow:Done calling model_fn.\n",
      "INFO:tensorflow:Create CheckpointSaverHook.\n",
      "INFO:tensorflow:Graph was finalized.\n",
      "INFO:tensorflow:Restoring parameters from /tmp/tf_bow_sst_20180716-1432/model.ckpt-28\n",
      "INFO:tensorflow:Running local_init_op.\n",
      "INFO:tensorflow:Done running local_init_op.\n",
      "INFO:tensorflow:Saving checkpoints for 29 into /tmp/tf_bow_sst_20180716-1432/model.ckpt.\n",
      "INFO:tensorflow:loss = 1.1915511, step = 29\n",
      "INFO:tensorflow:Saving checkpoints for 32 into /tmp/tf_bow_sst_20180716-1432/model.ckpt.\n"
     ]
    },
    {
     "name": "stdout",
     "output_type": "stream",
     "text": [
      "INFO:tensorflow:Loss for final step: 0.7565158.\n",
      "INFO:tensorflow:Calling model_fn.\n",
      "INFO:tensorflow:Done calling model_fn.\n",
      "INFO:tensorflow:Starting evaluation at 2018-07-16-21:33:09\n",
      "INFO:tensorflow:Graph was finalized.\n",
      "INFO:tensorflow:Restoring parameters from /tmp/tf_bow_sst_20180716-1432/model.ckpt-32\n",
      "INFO:tensorflow:Running local_init_op.\n",
      "INFO:tensorflow:Done running local_init_op.\n",
      "INFO:tensorflow:Finished evaluation at 2018-07-16-21:33:09\n",
      "INFO:tensorflow:Saving dict for global step 32: accuracy = 0.8, cross_entropy_loss = 2.847197, global_step = 32, loss = 3.305313\n",
      "INFO:tensorflow:Calling model_fn.\n",
      "INFO:tensorflow:Done calling model_fn.\n",
      "INFO:tensorflow:Create CheckpointSaverHook.\n",
      "INFO:tensorflow:Graph was finalized.\n",
      "INFO:tensorflow:Restoring parameters from /tmp/tf_bow_sst_20180716-1432/model.ckpt-32\n",
      "INFO:tensorflow:Running local_init_op.\n",
      "INFO:tensorflow:Done running local_init_op.\n",
      "INFO:tensorflow:Saving checkpoints for 33 into /tmp/tf_bow_sst_20180716-1432/model.ckpt.\n",
      "INFO:tensorflow:loss = 1.0896565, step = 33\n",
      "INFO:tensorflow:Saving checkpoints for 36 into /tmp/tf_bow_sst_20180716-1432/model.ckpt.\n",
      "INFO:tensorflow:Loss for final step: 0.6960084.\n",
      "INFO:tensorflow:Calling model_fn.\n",
      "INFO:tensorflow:Done calling model_fn.\n",
      "INFO:tensorflow:Starting evaluation at 2018-07-16-21:33:12\n",
      "INFO:tensorflow:Graph was finalized.\n",
      "INFO:tensorflow:Restoring parameters from /tmp/tf_bow_sst_20180716-1432/model.ckpt-36\n",
      "INFO:tensorflow:Running local_init_op.\n",
      "INFO:tensorflow:Done running local_init_op.\n",
      "INFO:tensorflow:Finished evaluation at 2018-07-16-21:33:13\n",
      "INFO:tensorflow:Saving dict for global step 36: accuracy = 0.8, cross_entropy_loss = 2.7977612, global_step = 36, loss = 3.232156\n",
      "INFO:tensorflow:Calling model_fn.\n",
      "INFO:tensorflow:Done calling model_fn.\n",
      "INFO:tensorflow:Create CheckpointSaverHook.\n",
      "INFO:tensorflow:Graph was finalized.\n",
      "INFO:tensorflow:Restoring parameters from /tmp/tf_bow_sst_20180716-1432/model.ckpt-36\n",
      "INFO:tensorflow:Running local_init_op.\n",
      "INFO:tensorflow:Done running local_init_op.\n",
      "INFO:tensorflow:Saving checkpoints for 37 into /tmp/tf_bow_sst_20180716-1432/model.ckpt.\n",
      "INFO:tensorflow:loss = 1.0044321, step = 37\n",
      "INFO:tensorflow:Saving checkpoints for 40 into /tmp/tf_bow_sst_20180716-1432/model.ckpt.\n",
      "INFO:tensorflow:Loss for final step: 0.6463576.\n",
      "INFO:tensorflow:Calling model_fn.\n",
      "INFO:tensorflow:Done calling model_fn.\n",
      "INFO:tensorflow:Starting evaluation at 2018-07-16-21:33:18\n",
      "INFO:tensorflow:Graph was finalized.\n",
      "INFO:tensorflow:Restoring parameters from /tmp/tf_bow_sst_20180716-1432/model.ckpt-40\n",
      "INFO:tensorflow:Running local_init_op.\n",
      "INFO:tensorflow:Done running local_init_op.\n",
      "INFO:tensorflow:Finished evaluation at 2018-07-16-21:33:18\n",
      "INFO:tensorflow:Saving dict for global step 40: accuracy = 0.8, cross_entropy_loss = 2.7480311, global_step = 40, loss = 3.1619184\n"
     ]
    }
   ],
   "source": [
    "for _ in range(train_params['total_epochs'] // train_params['eval_every']):\n",
    "    model.train(input_fn=train_input_fn)\n",
    "    model.evaluate(input_fn=dev_input_fn, name=\"dev\")"
   ]
  },
  {
   "cell_type": "markdown",
   "metadata": {},
   "source": [
    "## Test"
   ]
  },
  {
   "cell_type": "code",
   "execution_count": 19,
   "metadata": {},
   "outputs": [
    {
     "name": "stdout",
     "output_type": "stream",
     "text": [
      "INFO:tensorflow:Calling model_fn.\n",
      "INFO:tensorflow:Done calling model_fn.\n",
      "INFO:tensorflow:Starting evaluation at 2018-07-16-21:33:18\n",
      "INFO:tensorflow:Graph was finalized.\n",
      "INFO:tensorflow:Restoring parameters from /tmp/tf_bow_sst_20180716-1432/model.ckpt-40\n",
      "INFO:tensorflow:Running local_init_op.\n",
      "INFO:tensorflow:Done running local_init_op.\n",
      "INFO:tensorflow:Finished evaluation at 2018-07-16-21:33:19\n",
      "INFO:tensorflow:Saving dict for global step 40: accuracy = 0.8888889, cross_entropy_loss = 1.2038612, global_step = 40, loss = 1.7916863\n",
      "Accuracy on test set: 88.89%\n"
     ]
    }
   ],
   "source": [
    "test_input_fn = patched_numpy_io.numpy_input_fn(\n",
    "                    x={\"ids\": test_x, \"ns\": test_ns},\n",
    "                    y=test_y,\n",
    "                    batch_size=128,\n",
    "                    num_epochs=1,\n",
    "                    shuffle=False)\n",
    "\n",
    "eval_metrics = model.evaluate(input_fn=test_input_fn, name=\"test\")\n",
    "print(\"Accuracy on test set: {:.02%}\".format(eval_metrics['accuracy']))"
   ]
  }
 ],
 "metadata": {
  "kernelspec": {
   "display_name": "Python 3",
   "language": "python",
   "name": "python3"
  },
  "language_info": {
   "codemirror_mode": {
    "name": "ipython",
    "version": 3
   },
   "file_extension": ".py",
   "mimetype": "text/x-python",
   "name": "python",
   "nbconvert_exporter": "python",
   "pygments_lexer": "ipython3",
   "version": "3.5.5"
  }
 },
 "nbformat": 4,
 "nbformat_minor": 2
}
