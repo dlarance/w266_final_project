{
 "cells": [
  {
   "cell_type": "markdown",
   "metadata": {},
   "source": [
    "# Neural Bag of Words for Yelp\n"
   ]
  },
  {
   "cell_type": "code",
   "execution_count": 1,
   "metadata": {},
   "outputs": [],
   "source": [
    "from __future__ import division\n",
    "import os, sys, re, json, time, datetime, shutil\n",
    "import itertools, collections\n",
    "from importlib import reload\n",
    "from IPython.display import display, HTML\n",
    "\n",
    "# NLTK for NLP utils and corpora\n",
    "import nltk\n",
    "\n",
    "# NumPy and TensorFlow\n",
    "import numpy as np\n",
    "import pandas as pd\n",
    "import tensorflow as tf\n",
    "assert(tf.__version__.startswith(\"1.8\"))\n",
    "\n",
    "# This creates a symbolic link on python in tmp directory\n",
    "\n",
    "# Helper libraries for 's instance\n",
    "from w266_common import utils, vocabulary, tf_embed_viz, treeviz\n",
    "from w266_common import patched_numpy_io\n",
    "\n",
    "# Code for this assignment\n",
    "\n",
    "import models\n",
    "\n",
    "import nltk\n",
    "from nltk.tokenize import word_tokenize"
   ]
  },
  {
   "cell_type": "markdown",
   "metadata": {},
   "source": [
    "## Word Vectors"
   ]
  },
  {
   "cell_type": "code",
   "execution_count": 2,
   "metadata": {},
   "outputs": [],
   "source": [
    "from pathlib import Path\n",
    "import os.path\n",
    "wordsList = np.load(os.path.join(str(Path.home()), '.kaggle/wordvectors/pretrained_glove/wordsList.npy'))\n",
    "wordsList = wordsList.tolist() #Originally loaded as numpy array\n",
    "wordsList = [word.decode('UTF-8') for word in wordsList] #Encode words as UTF-8\n",
    "wordVectors = np.load(os.path.join(str(Path.home()), '.kaggle/wordvectors/pretrained_glove/wordVectors.npy'))"
   ]
  },
  {
   "cell_type": "markdown",
   "metadata": {},
   "source": [
    "## Load Reviews"
   ]
  },
  {
   "cell_type": "code",
   "execution_count": 3,
   "metadata": {},
   "outputs": [],
   "source": [
    "review_df = pd.read_csv('../data_prep/yelp_1_5_v2.csv', encoding='utf8')"
   ]
  },
  {
   "cell_type": "markdown",
   "metadata": {},
   "source": [
    "## Tokenize"
   ]
  },
  {
   "cell_type": "code",
   "execution_count": 4,
   "metadata": {},
   "outputs": [],
   "source": [
    "review_df['Tokens'] = review_df['Text'].apply(lambda text: word_tokenize(text.lower()))"
   ]
  },
  {
   "cell_type": "markdown",
   "metadata": {},
   "source": [
    "## Train, Dev, Test data"
   ]
  },
  {
   "cell_type": "code",
   "execution_count": 5,
   "metadata": {},
   "outputs": [],
   "source": [
    "# Train with 60%, , Dev: 10%, Test: 30%\n",
    "train_percent = 0.6\n",
    "dev_percent = 0.1\n",
    "test_percent = 0.3\n",
    "\n",
    "# Get indicies of the rows in the dataframe for training and testing\n",
    "train_lower_index = 0\n",
    "train_upper_index = train_lower_index + round(len(review_df)*train_percent)\n",
    "dev_lower_index   = train_upper_index+1\n",
    "dev_upper_index   = dev_lower_index + round(len(review_df)*dev_percent)\n",
    "test_lower_index  = dev_upper_index+1\n",
    "test_upper_index  = len(review_df)-1"
   ]
  },
  {
   "cell_type": "code",
   "execution_count": 6,
   "metadata": {},
   "outputs": [],
   "source": [
    "maxSeqLength = 267  # Determined by EDA"
   ]
  },
  {
   "cell_type": "code",
   "execution_count": 7,
   "metadata": {},
   "outputs": [],
   "source": [
    "word_ids = np.zeros([review_df.shape[0], maxSeqLength], dtype=np.int32)\n",
    "word_ids_ns = np.zeros([review_df.shape[0]], dtype=np.int32)\n",
    "word_ids_labels = np.zeros([review_df.shape[0]], dtype=np.int32)"
   ]
  },
  {
   "cell_type": "code",
   "execution_count": 8,
   "metadata": {},
   "outputs": [],
   "source": [
    "for sentence_index, row in review_df.iterrows():\n",
    "    \n",
    "    word_index = 0\n",
    "    \n",
    "    for word in row['Tokens']:\n",
    "\n",
    "        try:\n",
    "            word_ids[sentence_index][word_index] = wordsList.index(word)\n",
    "        except ValueError:\n",
    "            word_ids[sentence_index][word_index] = 399999 #Vector for unkown words\n",
    "        \n",
    "        word_index = word_index + 1\n",
    "\n",
    "        if word_index == maxSeqLength:\n",
    "            break\n",
    "\n",
    "    word_ids_ns[sentence_index] = word_index\n",
    "\n",
    "    if row['Score'] > 3:\n",
    "        word_ids_labels[sentence_index] = 1\n",
    "    elif row['Score'] < 3:\n",
    "        word_ids_labels[sentence_index] = 0"
   ]
  },
  {
   "cell_type": "code",
   "execution_count": 9,
   "metadata": {},
   "outputs": [],
   "source": [
    "def Split(lower_idx, upper_idx):\n",
    "    return word_ids[lower_idx:upper_idx], word_ids_ns[lower_idx:upper_idx], word_ids_labels[lower_idx:upper_idx]"
   ]
  },
  {
   "cell_type": "code",
   "execution_count": 10,
   "metadata": {},
   "outputs": [],
   "source": [
    "train_x, train_ns, train_y = Split(train_lower_index, train_upper_index)\n",
    "dev_x,   dev_ns,   dev_y   = Split(dev_lower_index, dev_upper_index)\n",
    "test_x,  test_ns,  test_y  = Split(test_lower_index, test_upper_index)"
   ]
  },
  {
   "cell_type": "markdown",
   "metadata": {},
   "source": [
    "## Model Parameters"
   ]
  },
  {
   "cell_type": "code",
   "execution_count": 11,
   "metadata": {},
   "outputs": [
    {
     "data": {
      "text/plain": [
       "<module 'models' from '/home/matt/w266_final_project/NBOW/models.py'>"
      ]
     },
     "execution_count": 11,
     "metadata": {},
     "output_type": "execute_result"
    }
   ],
   "source": [
    "import models; reload(models)"
   ]
  },
  {
   "cell_type": "code",
   "execution_count": 12,
   "metadata": {},
   "outputs": [],
   "source": [
    "# Specify model hyperparameters as used by model_fn\n",
    "model_params = dict(V=len(wordsList),\n",
    "                    embed_dim=50,\n",
    "                    hidden_dims=[25],\n",
    "                    num_classes=2,      # 2 for binary classifier\n",
    "                    encoder_type='bow',\n",
    "                    lr=0.1,\n",
    "                    optimizer='adagrad',\n",
    "                    beta=0.01,\n",
    "                    dropout_rate=0.1)  # fill this in"
   ]
  },
  {
   "cell_type": "markdown",
   "metadata": {},
   "source": [
    "## Training Parameters"
   ]
  },
  {
   "cell_type": "code",
   "execution_count": 13,
   "metadata": {},
   "outputs": [],
   "source": [
    "# Specify training schedule\n",
    "train_params = dict(batch_size=32,\n",
    "                    total_epochs=20,\n",
    "                    eval_every=2)  # fill this in"
   ]
  },
  {
   "cell_type": "code",
   "execution_count": 14,
   "metadata": {},
   "outputs": [],
   "source": [
    "checkpoint_dir = \"/tmp/tf_bow_sst_\" + datetime.datetime.now().strftime(\"%Y%m%d-%H%M\")\n",
    "\n",
    "if os.path.isdir(checkpoint_dir):\n",
    "    shutil.rmtree(checkpoint_dir)\n",
    "#ds.vocab.write_projector_config(checkpoint_dir, \"Encoder/Embedding_Layer/W_embed\")"
   ]
  },
  {
   "cell_type": "code",
   "execution_count": 15,
   "metadata": {},
   "outputs": [
    {
     "name": "stdout",
     "output_type": "stream",
     "text": [
      "INFO:tensorflow:Using default config.\n",
      "INFO:tensorflow:Using config: {'_log_step_count_steps': 100, '_task_type': 'worker', '_model_dir': '/tmp/tf_bow_sst_20180806-1117', '_train_distribute': None, '_evaluation_master': '', '_keep_checkpoint_every_n_hours': 10000, '_service': None, '_session_config': None, '_save_checkpoints_steps': None, '_task_id': 0, '_master': '', '_tf_random_seed': None, '_save_summary_steps': 100, '_num_ps_replicas': 0, '_keep_checkpoint_max': 5, '_cluster_spec': <tensorflow.python.training.server_lib.ClusterSpec object at 0x7f2b7e812898>, '_global_id_in_cluster': 0, '_num_worker_replicas': 1, '_save_checkpoints_secs': 600, '_is_chief': True}\n",
      "\n",
      "To view training (once it starts), run:\n",
      "\n",
      "    tensorboard --logdir='/tmp/tf_bow_sst_20180806-1117' --port 6006\n",
      "\n",
      "Then in your browser, open: http://localhost:6006\n",
      "\n"
     ]
    }
   ],
   "source": [
    "model = tf.estimator.Estimator(model_fn=models.classifier_model_fn,\n",
    "                               params=model_params,\n",
    "                               model_dir=checkpoint_dir)\n",
    "\n",
    "print(\"\\nTo view training (once it starts), run:\\n\")\n",
    "print(\"    tensorboard --logdir='{:s}' --port 6006\".format(checkpoint_dir))\n",
    "print(\"\\nThen in your browser, open: http://localhost:6006\\n\")"
   ]
  },
  {
   "cell_type": "code",
   "execution_count": 16,
   "metadata": {},
   "outputs": [],
   "source": [
    "train_input_fn = patched_numpy_io.numpy_input_fn(\n",
    "                    x={\"ids\": train_x, \"ns\": train_ns},\n",
    "                    y=train_y,\n",
    "                    batch_size=train_params['batch_size'], \n",
    "                    num_epochs=train_params['eval_every'],\n",
    "                    shuffle=True,\n",
    "                    seed=42)\n",
    "\n",
    "dev_input_fn = patched_numpy_io.numpy_input_fn(\n",
    "                    x={\"ids\": dev_x, \"ns\": dev_ns},\n",
    "                    y=dev_y,\n",
    "                    batch_size=128,\n",
    "                    num_epochs=1,\n",
    "                    shuffle=False)"
   ]
  },
  {
   "cell_type": "markdown",
   "metadata": {},
   "source": [
    "## Train"
   ]
  },
  {
   "cell_type": "code",
   "execution_count": 17,
   "metadata": {},
   "outputs": [
    {
     "name": "stdout",
     "output_type": "stream",
     "text": [
      "INFO:tensorflow:Calling model_fn.\n",
      "INFO:tensorflow:Done calling model_fn.\n",
      "INFO:tensorflow:Create CheckpointSaverHook.\n",
      "INFO:tensorflow:Graph was finalized.\n",
      "INFO:tensorflow:Running local_init_op.\n",
      "INFO:tensorflow:Done running local_init_op.\n",
      "INFO:tensorflow:Saving checkpoints for 1 into /tmp/tf_bow_sst_20180806-1117/model.ckpt.\n",
      "INFO:tensorflow:step = 1, loss = 1.0722867\n",
      "INFO:tensorflow:Saving checkpoints for 54 into /tmp/tf_bow_sst_20180806-1117/model.ckpt.\n",
      "INFO:tensorflow:Loss for final step: 1.2090951.\n",
      "INFO:tensorflow:Calling model_fn.\n",
      "INFO:tensorflow:Done calling model_fn.\n",
      "INFO:tensorflow:Starting evaluation at 2018-08-06-18:17:39\n",
      "INFO:tensorflow:Graph was finalized.\n",
      "INFO:tensorflow:Restoring parameters from /tmp/tf_bow_sst_20180806-1117/model.ckpt-54\n",
      "INFO:tensorflow:Running local_init_op.\n",
      "INFO:tensorflow:Done running local_init_op.\n",
      "INFO:tensorflow:Finished evaluation at 2018-08-06-18:17:40\n",
      "INFO:tensorflow:Saving dict for global step 54: accuracy = 0.625, cross_entropy_loss = 0.7171285, global_step = 54, loss = 1.213336\n",
      "INFO:tensorflow:Calling model_fn.\n",
      "INFO:tensorflow:Done calling model_fn.\n",
      "INFO:tensorflow:Create CheckpointSaverHook.\n",
      "INFO:tensorflow:Graph was finalized.\n",
      "INFO:tensorflow:Restoring parameters from /tmp/tf_bow_sst_20180806-1117/model.ckpt-54\n",
      "INFO:tensorflow:Running local_init_op.\n",
      "INFO:tensorflow:Done running local_init_op.\n",
      "INFO:tensorflow:Saving checkpoints for 55 into /tmp/tf_bow_sst_20180806-1117/model.ckpt.\n",
      "INFO:tensorflow:step = 55, loss = 0.9667165\n",
      "INFO:tensorflow:Saving checkpoints for 108 into /tmp/tf_bow_sst_20180806-1117/model.ckpt.\n",
      "INFO:tensorflow:Loss for final step: 0.5677929.\n",
      "INFO:tensorflow:Calling model_fn.\n",
      "INFO:tensorflow:Done calling model_fn.\n",
      "INFO:tensorflow:Starting evaluation at 2018-08-06-18:17:43\n",
      "INFO:tensorflow:Graph was finalized.\n",
      "INFO:tensorflow:Restoring parameters from /tmp/tf_bow_sst_20180806-1117/model.ckpt-108\n",
      "INFO:tensorflow:Running local_init_op.\n",
      "INFO:tensorflow:Done running local_init_op.\n",
      "INFO:tensorflow:Finished evaluation at 2018-08-06-18:17:43\n",
      "INFO:tensorflow:Saving dict for global step 108: accuracy = 0.6597222, cross_entropy_loss = 0.7837261, global_step = 108, loss = 1.1604884\n",
      "INFO:tensorflow:Calling model_fn.\n",
      "INFO:tensorflow:Done calling model_fn.\n",
      "INFO:tensorflow:Create CheckpointSaverHook.\n",
      "INFO:tensorflow:Graph was finalized.\n",
      "INFO:tensorflow:Restoring parameters from /tmp/tf_bow_sst_20180806-1117/model.ckpt-108\n",
      "INFO:tensorflow:Running local_init_op.\n",
      "INFO:tensorflow:Done running local_init_op.\n",
      "INFO:tensorflow:Saving checkpoints for 109 into /tmp/tf_bow_sst_20180806-1117/model.ckpt.\n",
      "INFO:tensorflow:step = 109, loss = 0.8085635\n",
      "INFO:tensorflow:Saving checkpoints for 162 into /tmp/tf_bow_sst_20180806-1117/model.ckpt.\n",
      "INFO:tensorflow:Loss for final step: 0.52075374.\n",
      "INFO:tensorflow:Calling model_fn.\n",
      "INFO:tensorflow:Done calling model_fn.\n",
      "INFO:tensorflow:Starting evaluation at 2018-08-06-18:17:54\n",
      "INFO:tensorflow:Graph was finalized.\n",
      "INFO:tensorflow:Restoring parameters from /tmp/tf_bow_sst_20180806-1117/model.ckpt-162\n",
      "INFO:tensorflow:Running local_init_op.\n",
      "INFO:tensorflow:Done running local_init_op.\n",
      "INFO:tensorflow:Finished evaluation at 2018-08-06-18:17:55\n",
      "INFO:tensorflow:Saving dict for global step 162: accuracy = 0.6388889, cross_entropy_loss = 0.81421435, global_step = 162, loss = 1.1392397\n",
      "INFO:tensorflow:Calling model_fn.\n",
      "INFO:tensorflow:Done calling model_fn.\n",
      "INFO:tensorflow:Create CheckpointSaverHook.\n",
      "INFO:tensorflow:Graph was finalized.\n",
      "INFO:tensorflow:Restoring parameters from /tmp/tf_bow_sst_20180806-1117/model.ckpt-162\n",
      "INFO:tensorflow:Running local_init_op.\n",
      "INFO:tensorflow:Done running local_init_op.\n",
      "INFO:tensorflow:Saving checkpoints for 163 into /tmp/tf_bow_sst_20180806-1117/model.ckpt.\n",
      "INFO:tensorflow:step = 163, loss = 0.6338779\n",
      "INFO:tensorflow:Saving checkpoints for 216 into /tmp/tf_bow_sst_20180806-1117/model.ckpt.\n",
      "INFO:tensorflow:Loss for final step: 0.4714694.\n",
      "INFO:tensorflow:Calling model_fn.\n",
      "INFO:tensorflow:Done calling model_fn.\n",
      "INFO:tensorflow:Starting evaluation at 2018-08-06-18:18:01\n",
      "INFO:tensorflow:Graph was finalized.\n",
      "INFO:tensorflow:Restoring parameters from /tmp/tf_bow_sst_20180806-1117/model.ckpt-216\n",
      "INFO:tensorflow:Running local_init_op.\n",
      "INFO:tensorflow:Done running local_init_op.\n",
      "INFO:tensorflow:Finished evaluation at 2018-08-06-18:18:02\n",
      "INFO:tensorflow:Saving dict for global step 216: accuracy = 0.6388889, cross_entropy_loss = 0.88755095, global_step = 216, loss = 1.1863346\n",
      "INFO:tensorflow:Calling model_fn.\n",
      "INFO:tensorflow:Done calling model_fn.\n",
      "INFO:tensorflow:Create CheckpointSaverHook.\n",
      "INFO:tensorflow:Graph was finalized.\n",
      "INFO:tensorflow:Restoring parameters from /tmp/tf_bow_sst_20180806-1117/model.ckpt-216\n",
      "INFO:tensorflow:Running local_init_op.\n",
      "INFO:tensorflow:Done running local_init_op.\n",
      "INFO:tensorflow:Saving checkpoints for 217 into /tmp/tf_bow_sst_20180806-1117/model.ckpt.\n",
      "INFO:tensorflow:step = 217, loss = 0.4391141\n",
      "INFO:tensorflow:Saving checkpoints for 270 into /tmp/tf_bow_sst_20180806-1117/model.ckpt.\n",
      "INFO:tensorflow:Loss for final step: 0.42789507.\n",
      "INFO:tensorflow:Calling model_fn.\n",
      "INFO:tensorflow:Done calling model_fn.\n",
      "INFO:tensorflow:Starting evaluation at 2018-08-06-18:18:12\n",
      "INFO:tensorflow:Graph was finalized.\n",
      "INFO:tensorflow:Restoring parameters from /tmp/tf_bow_sst_20180806-1117/model.ckpt-270\n",
      "INFO:tensorflow:Running local_init_op.\n",
      "INFO:tensorflow:Done running local_init_op.\n",
      "INFO:tensorflow:Finished evaluation at 2018-08-06-18:18:12\n",
      "INFO:tensorflow:Saving dict for global step 270: accuracy = 0.6527778, cross_entropy_loss = 0.88919556, global_step = 270, loss = 1.1660614\n",
      "INFO:tensorflow:Calling model_fn.\n",
      "INFO:tensorflow:Done calling model_fn.\n",
      "INFO:tensorflow:Create CheckpointSaverHook.\n",
      "INFO:tensorflow:Graph was finalized.\n",
      "INFO:tensorflow:Restoring parameters from /tmp/tf_bow_sst_20180806-1117/model.ckpt-270\n",
      "INFO:tensorflow:Running local_init_op.\n",
      "INFO:tensorflow:Done running local_init_op.\n",
      "INFO:tensorflow:Saving checkpoints for 271 into /tmp/tf_bow_sst_20180806-1117/model.ckpt.\n",
      "INFO:tensorflow:step = 271, loss = 0.7469026\n",
      "INFO:tensorflow:Saving checkpoints for 324 into /tmp/tf_bow_sst_20180806-1117/model.ckpt.\n",
      "INFO:tensorflow:Loss for final step: 0.4003957.\n",
      "INFO:tensorflow:Calling model_fn.\n",
      "INFO:tensorflow:Done calling model_fn.\n",
      "INFO:tensorflow:Starting evaluation at 2018-08-06-18:18:19\n",
      "INFO:tensorflow:Graph was finalized.\n",
      "INFO:tensorflow:Restoring parameters from /tmp/tf_bow_sst_20180806-1117/model.ckpt-324\n",
      "INFO:tensorflow:Running local_init_op.\n",
      "INFO:tensorflow:Done running local_init_op.\n",
      "INFO:tensorflow:Finished evaluation at 2018-08-06-18:18:20\n",
      "INFO:tensorflow:Saving dict for global step 324: accuracy = 0.6527778, cross_entropy_loss = 0.8773692, global_step = 324, loss = 1.1392025\n",
      "INFO:tensorflow:Calling model_fn.\n",
      "INFO:tensorflow:Done calling model_fn.\n",
      "INFO:tensorflow:Create CheckpointSaverHook.\n",
      "INFO:tensorflow:Graph was finalized.\n",
      "INFO:tensorflow:Restoring parameters from /tmp/tf_bow_sst_20180806-1117/model.ckpt-324\n",
      "INFO:tensorflow:Running local_init_op.\n",
      "INFO:tensorflow:Done running local_init_op.\n",
      "INFO:tensorflow:Saving checkpoints for 325 into /tmp/tf_bow_sst_20180806-1117/model.ckpt.\n",
      "INFO:tensorflow:step = 325, loss = 0.40153515\n",
      "INFO:tensorflow:Saving checkpoints for 378 into /tmp/tf_bow_sst_20180806-1117/model.ckpt.\n",
      "INFO:tensorflow:Loss for final step: 0.3735458.\n",
      "INFO:tensorflow:Calling model_fn.\n",
      "INFO:tensorflow:Done calling model_fn.\n",
      "INFO:tensorflow:Starting evaluation at 2018-08-06-18:18:24\n",
      "INFO:tensorflow:Graph was finalized.\n",
      "INFO:tensorflow:Restoring parameters from /tmp/tf_bow_sst_20180806-1117/model.ckpt-378\n",
      "INFO:tensorflow:Running local_init_op.\n",
      "INFO:tensorflow:Done running local_init_op.\n",
      "INFO:tensorflow:Finished evaluation at 2018-08-06-18:18:25\n",
      "INFO:tensorflow:Saving dict for global step 378: accuracy = 0.6458333, cross_entropy_loss = 0.88613594, global_step = 378, loss = 1.1340101\n",
      "INFO:tensorflow:Calling model_fn.\n",
      "INFO:tensorflow:Done calling model_fn.\n",
      "INFO:tensorflow:Create CheckpointSaverHook.\n",
      "INFO:tensorflow:Graph was finalized.\n",
      "INFO:tensorflow:Restoring parameters from /tmp/tf_bow_sst_20180806-1117/model.ckpt-378\n",
      "INFO:tensorflow:Running local_init_op.\n",
      "INFO:tensorflow:Done running local_init_op.\n",
      "INFO:tensorflow:Saving checkpoints for 379 into /tmp/tf_bow_sst_20180806-1117/model.ckpt.\n"
     ]
    },
    {
     "name": "stdout",
     "output_type": "stream",
     "text": [
      "INFO:tensorflow:step = 379, loss = 0.6438397\n",
      "INFO:tensorflow:Saving checkpoints for 432 into /tmp/tf_bow_sst_20180806-1117/model.ckpt.\n",
      "INFO:tensorflow:Loss for final step: 0.35499877.\n",
      "INFO:tensorflow:Calling model_fn.\n",
      "INFO:tensorflow:Done calling model_fn.\n",
      "INFO:tensorflow:Starting evaluation at 2018-08-06-18:18:30\n",
      "INFO:tensorflow:Graph was finalized.\n",
      "INFO:tensorflow:Restoring parameters from /tmp/tf_bow_sst_20180806-1117/model.ckpt-432\n",
      "INFO:tensorflow:Running local_init_op.\n",
      "INFO:tensorflow:Done running local_init_op.\n",
      "INFO:tensorflow:Finished evaluation at 2018-08-06-18:18:30\n",
      "INFO:tensorflow:Saving dict for global step 432: accuracy = 0.6388889, cross_entropy_loss = 0.8939107, global_step = 432, loss = 1.1287328\n",
      "INFO:tensorflow:Calling model_fn.\n",
      "INFO:tensorflow:Done calling model_fn.\n",
      "INFO:tensorflow:Create CheckpointSaverHook.\n",
      "INFO:tensorflow:Graph was finalized.\n",
      "INFO:tensorflow:Restoring parameters from /tmp/tf_bow_sst_20180806-1117/model.ckpt-432\n",
      "INFO:tensorflow:Running local_init_op.\n",
      "INFO:tensorflow:Done running local_init_op.\n",
      "INFO:tensorflow:Saving checkpoints for 433 into /tmp/tf_bow_sst_20180806-1117/model.ckpt.\n",
      "INFO:tensorflow:step = 433, loss = 0.36752194\n",
      "INFO:tensorflow:Saving checkpoints for 486 into /tmp/tf_bow_sst_20180806-1117/model.ckpt.\n",
      "INFO:tensorflow:Loss for final step: 0.33744085.\n",
      "INFO:tensorflow:Calling model_fn.\n",
      "INFO:tensorflow:Done calling model_fn.\n",
      "INFO:tensorflow:Starting evaluation at 2018-08-06-18:18:36\n",
      "INFO:tensorflow:Graph was finalized.\n",
      "INFO:tensorflow:Restoring parameters from /tmp/tf_bow_sst_20180806-1117/model.ckpt-486\n",
      "INFO:tensorflow:Running local_init_op.\n",
      "INFO:tensorflow:Done running local_init_op.\n",
      "INFO:tensorflow:Finished evaluation at 2018-08-06-18:18:36\n",
      "INFO:tensorflow:Saving dict for global step 486: accuracy = 0.6458333, cross_entropy_loss = 0.89232004, global_step = 486, loss = 1.1159517\n",
      "INFO:tensorflow:Calling model_fn.\n",
      "INFO:tensorflow:Done calling model_fn.\n",
      "INFO:tensorflow:Create CheckpointSaverHook.\n",
      "INFO:tensorflow:Graph was finalized.\n",
      "INFO:tensorflow:Restoring parameters from /tmp/tf_bow_sst_20180806-1117/model.ckpt-486\n",
      "INFO:tensorflow:Running local_init_op.\n",
      "INFO:tensorflow:Done running local_init_op.\n",
      "INFO:tensorflow:Saving checkpoints for 487 into /tmp/tf_bow_sst_20180806-1117/model.ckpt.\n",
      "INFO:tensorflow:step = 487, loss = 0.29207826\n",
      "INFO:tensorflow:Saving checkpoints for 540 into /tmp/tf_bow_sst_20180806-1117/model.ckpt.\n",
      "INFO:tensorflow:Loss for final step: 0.322043.\n",
      "INFO:tensorflow:Calling model_fn.\n",
      "INFO:tensorflow:Done calling model_fn.\n",
      "INFO:tensorflow:Starting evaluation at 2018-08-06-18:18:42\n",
      "INFO:tensorflow:Graph was finalized.\n",
      "INFO:tensorflow:Restoring parameters from /tmp/tf_bow_sst_20180806-1117/model.ckpt-540\n",
      "INFO:tensorflow:Running local_init_op.\n",
      "INFO:tensorflow:Done running local_init_op.\n",
      "INFO:tensorflow:Finished evaluation at 2018-08-06-18:18:42\n",
      "INFO:tensorflow:Saving dict for global step 540: accuracy = 0.6527778, cross_entropy_loss = 0.8940063, global_step = 540, loss = 1.1077691\n"
     ]
    }
   ],
   "source": [
    "for _ in range(train_params['total_epochs'] // train_params['eval_every']):\n",
    "    model.train(input_fn=train_input_fn)\n",
    "    model.evaluate(input_fn=dev_input_fn, name=\"dev\")"
   ]
  },
  {
   "cell_type": "markdown",
   "metadata": {},
   "source": [
    "## Test"
   ]
  },
  {
   "cell_type": "code",
   "execution_count": 18,
   "metadata": {},
   "outputs": [
    {
     "name": "stdout",
     "output_type": "stream",
     "text": [
      "INFO:tensorflow:Calling model_fn.\n",
      "INFO:tensorflow:Done calling model_fn.\n",
      "INFO:tensorflow:Starting evaluation at 2018-08-06-18:18:43\n",
      "INFO:tensorflow:Graph was finalized.\n",
      "INFO:tensorflow:Restoring parameters from /tmp/tf_bow_sst_20180806-1117/model.ckpt-540\n",
      "INFO:tensorflow:Running local_init_op.\n",
      "INFO:tensorflow:Done running local_init_op.\n",
      "INFO:tensorflow:Finished evaluation at 2018-08-06-18:18:43\n",
      "INFO:tensorflow:Saving dict for global step 540: accuracy = 0.76456875, cross_entropy_loss = 0.56276214, global_step = 540, loss = 0.8361317\n",
      "Accuracy on test set: 76.46%\n"
     ]
    }
   ],
   "source": [
    "test_input_fn = patched_numpy_io.numpy_input_fn(\n",
    "                    x={\"ids\": test_x, \"ns\": test_ns},\n",
    "                    y=test_y,\n",
    "                    batch_size=128,\n",
    "                    num_epochs=1,\n",
    "                    shuffle=False)\n",
    "\n",
    "eval_metrics = model.evaluate(input_fn=test_input_fn, name=\"test\")\n",
    "print(\"Accuracy on test set: {:.02%}\".format(eval_metrics['accuracy']))"
   ]
  }
 ],
 "metadata": {
  "kernelspec": {
   "display_name": "Python 3",
   "language": "python",
   "name": "python3"
  },
  "language_info": {
   "codemirror_mode": {
    "name": "ipython",
    "version": 3
   },
   "file_extension": ".py",
   "mimetype": "text/x-python",
   "name": "python",
   "nbconvert_exporter": "python",
   "pygments_lexer": "ipython3",
   "version": "3.5.5"
  }
 },
 "nbformat": 4,
 "nbformat_minor": 2
}
