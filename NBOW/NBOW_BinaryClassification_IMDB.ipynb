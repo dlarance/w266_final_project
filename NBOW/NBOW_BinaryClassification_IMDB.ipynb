{
 "cells": [
  {
   "cell_type": "markdown",
   "metadata": {},
   "source": [
    "# Neural Bag of Words for IMDB"
   ]
  },
  {
   "cell_type": "code",
   "execution_count": 37,
   "metadata": {},
   "outputs": [],
   "source": [
    "from __future__ import division\n",
    "import os, sys, re, json, time, datetime, shutil\n",
    "import itertools, collections\n",
    "from importlib import reload\n",
    "from IPython.display import display, HTML\n",
    "\n",
    "# NLTK for NLP utils and corpora\n",
    "import nltk\n",
    "\n",
    "# NumPy and TensorFlow\n",
    "import numpy as np\n",
    "import pandas as pd\n",
    "import tensorflow as tf\n",
    "assert(tf.__version__.startswith(\"1.8\"))\n",
    "\n",
    "# This creates a symbolic link on python in tmp directory\n",
    "\n",
    "# Helper libraries for 's instance\n",
    "from w266_common import utils, vocabulary, tf_embed_viz, treeviz\n",
    "from w266_common import patched_numpy_io\n",
    "\n",
    "# Code for this assignment\n",
    "\n",
    "import models\n",
    "\n",
    "import nltk\n",
    "from nltk.tokenize import word_tokenize"
   ]
  },
  {
   "cell_type": "markdown",
   "metadata": {},
   "source": [
    "## Word Vectors"
   ]
  },
  {
   "cell_type": "code",
   "execution_count": 38,
   "metadata": {},
   "outputs": [],
   "source": [
    "from pathlib import Path\n",
    "import os.path\n",
    "wordsList = np.load(os.path.join(str(Path.home()), '.kaggle/wordvectors/pretrained_glove/wordsList.npy'))\n",
    "wordsList = wordsList.tolist() #Originally loaded as numpy array\n",
    "wordsList = [word.decode('UTF-8') for word in wordsList] #Encode words as UTF-8\n",
    "wordVectors = np.load(os.path.join(str(Path.home()), '.kaggle/wordvectors/pretrained_glove/wordVectors.npy'))"
   ]
  },
  {
   "cell_type": "markdown",
   "metadata": {},
   "source": [
    "## Load Reviews"
   ]
  },
  {
   "cell_type": "code",
   "execution_count": 39,
   "metadata": {},
   "outputs": [],
   "source": [
    "review_df = pd.read_csv('../data_prep/imdb_1_5_v2.csv', encoding='utf8')"
   ]
  },
  {
   "cell_type": "markdown",
   "metadata": {},
   "source": [
    "## Tokenize"
   ]
  },
  {
   "cell_type": "code",
   "execution_count": 40,
   "metadata": {},
   "outputs": [],
   "source": [
    "review_df['Tokens'] = review_df['Text'].apply(lambda text: word_tokenize(text.lower()))"
   ]
  },
  {
   "cell_type": "markdown",
   "metadata": {},
   "source": [
    "## Train, Dev, Test data"
   ]
  },
  {
   "cell_type": "code",
   "execution_count": 41,
   "metadata": {},
   "outputs": [],
   "source": [
    "# Train with 60%, , Dev: 10%, Test: 30%\n",
    "train_percent = 0.6\n",
    "dev_percent = 0.1\n",
    "test_percent = 0.3\n",
    "\n",
    "# Get indicies of the rows in the dataframe for training and testing\n",
    "train_lower_index = 0\n",
    "train_upper_index = train_lower_index + round(len(review_df)*train_percent)\n",
    "dev_lower_index   = train_upper_index+1\n",
    "dev_upper_index   = dev_lower_index + round(len(review_df)*dev_percent)\n",
    "test_lower_index  = dev_upper_index+1\n",
    "test_upper_index  = len(review_df)-1"
   ]
  },
  {
   "cell_type": "code",
   "execution_count": 42,
   "metadata": {},
   "outputs": [],
   "source": [
    "maxSeqLength = 267  # Determined by EDA"
   ]
  },
  {
   "cell_type": "code",
   "execution_count": 43,
   "metadata": {},
   "outputs": [],
   "source": [
    "word_ids = np.zeros([review_df.shape[0], maxSeqLength], dtype=np.int32)\n",
    "word_ids_ns = np.zeros([review_df.shape[0]], dtype=np.int32)\n",
    "word_ids_labels = np.zeros([review_df.shape[0]], dtype=np.int32)"
   ]
  },
  {
   "cell_type": "code",
   "execution_count": 44,
   "metadata": {},
   "outputs": [],
   "source": [
    "for sentence_index, row in review_df.iterrows():\n",
    "    \n",
    "    word_index = 0\n",
    "    \n",
    "    for word in row['Tokens']:\n",
    "\n",
    "        try:\n",
    "            word_ids[sentence_index][word_index] = wordsList.index(word)\n",
    "        except ValueError:\n",
    "            word_ids[sentence_index][word_index] = 399999 #Vector for unkown words\n",
    "        \n",
    "        word_index = word_index + 1\n",
    "\n",
    "        if word_index == maxSeqLength:\n",
    "            break\n",
    "\n",
    "    word_ids_ns[sentence_index] = word_index\n",
    "\n",
    "    if row['Score'] > 3:\n",
    "        word_ids_labels[sentence_index] = 1\n",
    "    elif row['Score'] < 3:\n",
    "        word_ids_labels[sentence_index] = 0"
   ]
  },
  {
   "cell_type": "code",
   "execution_count": 45,
   "metadata": {},
   "outputs": [],
   "source": [
    "def Split(lower_idx, upper_idx):\n",
    "    return word_ids[lower_idx:upper_idx], word_ids_ns[lower_idx:upper_idx], word_ids_labels[lower_idx:upper_idx]"
   ]
  },
  {
   "cell_type": "code",
   "execution_count": 46,
   "metadata": {},
   "outputs": [],
   "source": [
    "train_x, train_ns, train_y = Split(train_lower_index, train_upper_index)\n",
    "dev_x,   dev_ns,   dev_y   = Split(dev_lower_index, dev_upper_index)\n",
    "test_x,  test_ns,  test_y  = Split(test_lower_index, test_upper_index)"
   ]
  },
  {
   "cell_type": "markdown",
   "metadata": {},
   "source": [
    "## Model Parameters"
   ]
  },
  {
   "cell_type": "code",
   "execution_count": 47,
   "metadata": {},
   "outputs": [
    {
     "data": {
      "text/plain": [
       "<module 'models' from '/home/matt/w266_final_project/NBOW/models.py'>"
      ]
     },
     "execution_count": 47,
     "metadata": {},
     "output_type": "execute_result"
    }
   ],
   "source": [
    "import models; reload(models)"
   ]
  },
  {
   "cell_type": "code",
   "execution_count": 48,
   "metadata": {},
   "outputs": [],
   "source": [
    "# Specify model hyperparameters as used by model_fn\n",
    "model_params = dict(V=len(wordsList),\n",
    "                    embed_dim=50,\n",
    "                    hidden_dims=[25],\n",
    "                    num_classes=2,      # 2 for binary classifier\n",
    "                    encoder_type='bow',\n",
    "                    lr=0.1,\n",
    "                    optimizer='adagrad',\n",
    "                    beta=0.01,\n",
    "                    dropout_rate=0.1)  # fill this in"
   ]
  },
  {
   "cell_type": "markdown",
   "metadata": {},
   "source": [
    "## Training Parameters"
   ]
  },
  {
   "cell_type": "code",
   "execution_count": 49,
   "metadata": {},
   "outputs": [],
   "source": [
    "# Specify training schedule\n",
    "train_params = dict(batch_size=32,\n",
    "                    total_epochs=20,\n",
    "                    eval_every=2)  # fill this in"
   ]
  },
  {
   "cell_type": "code",
   "execution_count": 50,
   "metadata": {},
   "outputs": [],
   "source": [
    "checkpoint_dir = \"/tmp/tf_bow_sst_\" + datetime.datetime.now().strftime(\"%Y%m%d-%H%M\")\n",
    "\n",
    "if os.path.isdir(checkpoint_dir):\n",
    "    shutil.rmtree(checkpoint_dir)\n",
    "#ds.vocab.write_projector_config(checkpoint_dir, \"Encoder/Embedding_Layer/W_embed\")"
   ]
  },
  {
   "cell_type": "code",
   "execution_count": 51,
   "metadata": {},
   "outputs": [
    {
     "name": "stdout",
     "output_type": "stream",
     "text": [
      "INFO:tensorflow:Using default config.\n",
      "INFO:tensorflow:Using config: {'_tf_random_seed': None, '_service': None, '_num_ps_replicas': 0, '_session_config': None, '_save_checkpoints_secs': 600, '_keep_checkpoint_every_n_hours': 10000, '_log_step_count_steps': 100, '_global_id_in_cluster': 0, '_master': '', '_num_worker_replicas': 1, '_evaluation_master': '', '_train_distribute': None, '_save_checkpoints_steps': None, '_task_id': 0, '_is_chief': True, '_keep_checkpoint_max': 5, '_cluster_spec': <tensorflow.python.training.server_lib.ClusterSpec object at 0x7f7458727eb8>, '_task_type': 'worker', '_save_summary_steps': 100, '_model_dir': '/tmp/tf_bow_sst_20180806-1124'}\n",
      "\n",
      "To view training (once it starts), run:\n",
      "\n",
      "    tensorboard --logdir='/tmp/tf_bow_sst_20180806-1124' --port 6006\n",
      "\n",
      "Then in your browser, open: http://localhost:6006\n",
      "\n"
     ]
    }
   ],
   "source": [
    "model = tf.estimator.Estimator(model_fn=models.classifier_model_fn,\n",
    "                               params=model_params,\n",
    "                               model_dir=checkpoint_dir)\n",
    "\n",
    "print(\"\\nTo view training (once it starts), run:\\n\")\n",
    "print(\"    tensorboard --logdir='{:s}' --port 6006\".format(checkpoint_dir))\n",
    "print(\"\\nThen in your browser, open: http://localhost:6006\\n\")"
   ]
  },
  {
   "cell_type": "code",
   "execution_count": 52,
   "metadata": {},
   "outputs": [],
   "source": [
    "train_input_fn = patched_numpy_io.numpy_input_fn(\n",
    "                    x={\"ids\": train_x, \"ns\": train_ns},\n",
    "                    y=train_y,\n",
    "                    batch_size=train_params['batch_size'], \n",
    "                    num_epochs=train_params['eval_every'],\n",
    "                    shuffle=True,\n",
    "                    seed=42)\n",
    "\n",
    "dev_input_fn = patched_numpy_io.numpy_input_fn(\n",
    "                    x={\"ids\": dev_x, \"ns\": dev_ns},\n",
    "                    y=dev_y,\n",
    "                    batch_size=128,\n",
    "                    num_epochs=1,\n",
    "                    shuffle=False)"
   ]
  },
  {
   "cell_type": "markdown",
   "metadata": {},
   "source": [
    "## Train"
   ]
  },
  {
   "cell_type": "code",
   "execution_count": 53,
   "metadata": {},
   "outputs": [
    {
     "name": "stdout",
     "output_type": "stream",
     "text": [
      "INFO:tensorflow:Calling model_fn.\n",
      "INFO:tensorflow:Done calling model_fn.\n",
      "INFO:tensorflow:Create CheckpointSaverHook.\n",
      "INFO:tensorflow:Graph was finalized.\n",
      "INFO:tensorflow:Running local_init_op.\n",
      "INFO:tensorflow:Done running local_init_op.\n",
      "INFO:tensorflow:Saving checkpoints for 1 into /tmp/tf_bow_sst_20180806-1124/model.ckpt.\n",
      "INFO:tensorflow:step = 1, loss = 1.1352223\n",
      "INFO:tensorflow:Saving checkpoints for 75 into /tmp/tf_bow_sst_20180806-1124/model.ckpt.\n",
      "INFO:tensorflow:Loss for final step: 1.6921148.\n",
      "INFO:tensorflow:Calling model_fn.\n",
      "INFO:tensorflow:Done calling model_fn.\n",
      "INFO:tensorflow:Starting evaluation at 2018-08-06-18:24:48\n",
      "INFO:tensorflow:Graph was finalized.\n",
      "INFO:tensorflow:Restoring parameters from /tmp/tf_bow_sst_20180806-1124/model.ckpt-75\n",
      "INFO:tensorflow:Running local_init_op.\n",
      "INFO:tensorflow:Done running local_init_op.\n",
      "INFO:tensorflow:Finished evaluation at 2018-08-06-18:24:48\n",
      "INFO:tensorflow:Saving dict for global step 75: accuracy = 0.0, cross_entropy_loss = 3.1401286, global_step = 75, loss = 4.285694\n",
      "INFO:tensorflow:Calling model_fn.\n",
      "INFO:tensorflow:Done calling model_fn.\n",
      "INFO:tensorflow:Create CheckpointSaverHook.\n",
      "INFO:tensorflow:Graph was finalized.\n",
      "INFO:tensorflow:Restoring parameters from /tmp/tf_bow_sst_20180806-1124/model.ckpt-75\n",
      "INFO:tensorflow:Running local_init_op.\n",
      "INFO:tensorflow:Done running local_init_op.\n",
      "INFO:tensorflow:Saving checkpoints for 76 into /tmp/tf_bow_sst_20180806-1124/model.ckpt.\n",
      "INFO:tensorflow:step = 76, loss = 2.438748\n",
      "INFO:tensorflow:Saving checkpoints for 150 into /tmp/tf_bow_sst_20180806-1124/model.ckpt.\n",
      "INFO:tensorflow:Loss for final step: 0.84212446.\n",
      "INFO:tensorflow:Calling model_fn.\n",
      "INFO:tensorflow:Done calling model_fn.\n",
      "INFO:tensorflow:Starting evaluation at 2018-08-06-18:24:53\n",
      "INFO:tensorflow:Graph was finalized.\n",
      "INFO:tensorflow:Restoring parameters from /tmp/tf_bow_sst_20180806-1124/model.ckpt-150\n",
      "INFO:tensorflow:Running local_init_op.\n",
      "INFO:tensorflow:Done running local_init_op.\n",
      "INFO:tensorflow:Finished evaluation at 2018-08-06-18:24:53\n",
      "INFO:tensorflow:Saving dict for global step 150: accuracy = 0.0, cross_entropy_loss = 1.6776152, global_step = 150, loss = 2.2243354\n",
      "INFO:tensorflow:Calling model_fn.\n",
      "INFO:tensorflow:Done calling model_fn.\n",
      "INFO:tensorflow:Create CheckpointSaverHook.\n",
      "INFO:tensorflow:Graph was finalized.\n",
      "INFO:tensorflow:Restoring parameters from /tmp/tf_bow_sst_20180806-1124/model.ckpt-150\n",
      "INFO:tensorflow:Running local_init_op.\n",
      "INFO:tensorflow:Done running local_init_op.\n",
      "INFO:tensorflow:Saving checkpoints for 151 into /tmp/tf_bow_sst_20180806-1124/model.ckpt.\n",
      "INFO:tensorflow:step = 151, loss = 0.67358077\n",
      "INFO:tensorflow:Saving checkpoints for 225 into /tmp/tf_bow_sst_20180806-1124/model.ckpt.\n",
      "INFO:tensorflow:Loss for final step: 0.6082978.\n",
      "INFO:tensorflow:Calling model_fn.\n",
      "INFO:tensorflow:Done calling model_fn.\n",
      "INFO:tensorflow:Starting evaluation at 2018-08-06-18:24:58\n",
      "INFO:tensorflow:Graph was finalized.\n",
      "INFO:tensorflow:Restoring parameters from /tmp/tf_bow_sst_20180806-1124/model.ckpt-225\n",
      "INFO:tensorflow:Running local_init_op.\n",
      "INFO:tensorflow:Done running local_init_op.\n",
      "INFO:tensorflow:Finished evaluation at 2018-08-06-18:24:58\n",
      "INFO:tensorflow:Saving dict for global step 225: accuracy = 0.0, cross_entropy_loss = 1.7056515, global_step = 225, loss = 2.15484\n",
      "INFO:tensorflow:Calling model_fn.\n",
      "INFO:tensorflow:Done calling model_fn.\n",
      "INFO:tensorflow:Create CheckpointSaverHook.\n",
      "INFO:tensorflow:Graph was finalized.\n",
      "INFO:tensorflow:Restoring parameters from /tmp/tf_bow_sst_20180806-1124/model.ckpt-225\n",
      "INFO:tensorflow:Running local_init_op.\n",
      "INFO:tensorflow:Done running local_init_op.\n",
      "INFO:tensorflow:Saving checkpoints for 226 into /tmp/tf_bow_sst_20180806-1124/model.ckpt.\n",
      "INFO:tensorflow:step = 226, loss = 0.4394625\n",
      "INFO:tensorflow:Saving checkpoints for 300 into /tmp/tf_bow_sst_20180806-1124/model.ckpt.\n",
      "INFO:tensorflow:Loss for final step: 0.36179343.\n",
      "INFO:tensorflow:Calling model_fn.\n",
      "INFO:tensorflow:Done calling model_fn.\n",
      "INFO:tensorflow:Starting evaluation at 2018-08-06-18:25:03\n",
      "INFO:tensorflow:Graph was finalized.\n",
      "INFO:tensorflow:Restoring parameters from /tmp/tf_bow_sst_20180806-1124/model.ckpt-300\n",
      "INFO:tensorflow:Running local_init_op.\n",
      "INFO:tensorflow:Done running local_init_op.\n",
      "INFO:tensorflow:Finished evaluation at 2018-08-06-18:25:03\n",
      "INFO:tensorflow:Saving dict for global step 300: accuracy = 0.01, cross_entropy_loss = 2.5323086, global_step = 300, loss = 2.9523149\n",
      "INFO:tensorflow:Calling model_fn.\n",
      "INFO:tensorflow:Done calling model_fn.\n",
      "INFO:tensorflow:Create CheckpointSaverHook.\n",
      "INFO:tensorflow:Graph was finalized.\n",
      "INFO:tensorflow:Restoring parameters from /tmp/tf_bow_sst_20180806-1124/model.ckpt-300\n",
      "INFO:tensorflow:Running local_init_op.\n",
      "INFO:tensorflow:Done running local_init_op.\n",
      "INFO:tensorflow:Saving checkpoints for 301 into /tmp/tf_bow_sst_20180806-1124/model.ckpt.\n",
      "INFO:tensorflow:step = 301, loss = 0.31016347\n",
      "INFO:tensorflow:Saving checkpoints for 375 into /tmp/tf_bow_sst_20180806-1124/model.ckpt.\n",
      "INFO:tensorflow:Loss for final step: 0.31966293.\n",
      "INFO:tensorflow:Calling model_fn.\n",
      "INFO:tensorflow:Done calling model_fn.\n",
      "INFO:tensorflow:Starting evaluation at 2018-08-06-18:25:08\n",
      "INFO:tensorflow:Graph was finalized.\n",
      "INFO:tensorflow:Restoring parameters from /tmp/tf_bow_sst_20180806-1124/model.ckpt-375\n",
      "INFO:tensorflow:Running local_init_op.\n",
      "INFO:tensorflow:Done running local_init_op.\n",
      "INFO:tensorflow:Finished evaluation at 2018-08-06-18:25:08\n",
      "INFO:tensorflow:Saving dict for global step 375: accuracy = 0.035, cross_entropy_loss = 2.3768559, global_step = 375, loss = 2.7846978\n",
      "INFO:tensorflow:Calling model_fn.\n",
      "INFO:tensorflow:Done calling model_fn.\n",
      "INFO:tensorflow:Create CheckpointSaverHook.\n",
      "INFO:tensorflow:Graph was finalized.\n",
      "INFO:tensorflow:Restoring parameters from /tmp/tf_bow_sst_20180806-1124/model.ckpt-375\n",
      "INFO:tensorflow:Running local_init_op.\n",
      "INFO:tensorflow:Done running local_init_op.\n",
      "INFO:tensorflow:Saving checkpoints for 376 into /tmp/tf_bow_sst_20180806-1124/model.ckpt.\n",
      "INFO:tensorflow:step = 376, loss = 0.28152543\n",
      "INFO:tensorflow:Saving checkpoints for 450 into /tmp/tf_bow_sst_20180806-1124/model.ckpt.\n",
      "INFO:tensorflow:Loss for final step: 0.26850998.\n",
      "INFO:tensorflow:Calling model_fn.\n",
      "INFO:tensorflow:Done calling model_fn.\n",
      "INFO:tensorflow:Starting evaluation at 2018-08-06-18:25:13\n",
      "INFO:tensorflow:Graph was finalized.\n",
      "INFO:tensorflow:Restoring parameters from /tmp/tf_bow_sst_20180806-1124/model.ckpt-450\n",
      "INFO:tensorflow:Running local_init_op.\n",
      "INFO:tensorflow:Done running local_init_op.\n",
      "INFO:tensorflow:Finished evaluation at 2018-08-06-18:25:14\n",
      "INFO:tensorflow:Saving dict for global step 450: accuracy = 0.01, cross_entropy_loss = 3.2464235, global_step = 450, loss = 3.5812795\n",
      "INFO:tensorflow:Calling model_fn.\n",
      "INFO:tensorflow:Done calling model_fn.\n",
      "INFO:tensorflow:Create CheckpointSaverHook.\n",
      "INFO:tensorflow:Graph was finalized.\n",
      "INFO:tensorflow:Restoring parameters from /tmp/tf_bow_sst_20180806-1124/model.ckpt-450\n",
      "INFO:tensorflow:Running local_init_op.\n",
      "INFO:tensorflow:Done running local_init_op.\n",
      "INFO:tensorflow:Saving checkpoints for 451 into /tmp/tf_bow_sst_20180806-1124/model.ckpt.\n",
      "INFO:tensorflow:step = 451, loss = 0.23685536\n",
      "INFO:tensorflow:Saving checkpoints for 525 into /tmp/tf_bow_sst_20180806-1124/model.ckpt.\n",
      "INFO:tensorflow:Loss for final step: 0.22371307.\n",
      "INFO:tensorflow:Calling model_fn.\n",
      "INFO:tensorflow:Done calling model_fn.\n",
      "INFO:tensorflow:Starting evaluation at 2018-08-06-18:25:19\n",
      "INFO:tensorflow:Graph was finalized.\n",
      "INFO:tensorflow:Restoring parameters from /tmp/tf_bow_sst_20180806-1124/model.ckpt-525\n",
      "INFO:tensorflow:Running local_init_op.\n",
      "INFO:tensorflow:Done running local_init_op.\n",
      "INFO:tensorflow:Finished evaluation at 2018-08-06-18:25:20\n",
      "INFO:tensorflow:Saving dict for global step 525: accuracy = 0.005, cross_entropy_loss = 3.6471937, global_step = 525, loss = 3.9163933\n",
      "INFO:tensorflow:Calling model_fn.\n",
      "INFO:tensorflow:Done calling model_fn.\n",
      "INFO:tensorflow:Create CheckpointSaverHook.\n",
      "INFO:tensorflow:Graph was finalized.\n",
      "INFO:tensorflow:Restoring parameters from /tmp/tf_bow_sst_20180806-1124/model.ckpt-525\n",
      "INFO:tensorflow:Running local_init_op.\n",
      "INFO:tensorflow:Done running local_init_op.\n",
      "INFO:tensorflow:Saving checkpoints for 526 into /tmp/tf_bow_sst_20180806-1124/model.ckpt.\n"
     ]
    },
    {
     "name": "stdout",
     "output_type": "stream",
     "text": [
      "INFO:tensorflow:step = 526, loss = 0.55274737\n",
      "INFO:tensorflow:Saving checkpoints for 600 into /tmp/tf_bow_sst_20180806-1124/model.ckpt.\n",
      "INFO:tensorflow:Loss for final step: 0.20039369.\n",
      "INFO:tensorflow:Calling model_fn.\n",
      "INFO:tensorflow:Done calling model_fn.\n",
      "INFO:tensorflow:Starting evaluation at 2018-08-06-18:25:24\n",
      "INFO:tensorflow:Graph was finalized.\n",
      "INFO:tensorflow:Restoring parameters from /tmp/tf_bow_sst_20180806-1124/model.ckpt-600\n",
      "INFO:tensorflow:Running local_init_op.\n",
      "INFO:tensorflow:Done running local_init_op.\n",
      "INFO:tensorflow:Finished evaluation at 2018-08-06-18:25:25\n",
      "INFO:tensorflow:Saving dict for global step 600: accuracy = 0.005, cross_entropy_loss = 3.8428016, global_step = 600, loss = 4.0795345\n",
      "INFO:tensorflow:Calling model_fn.\n",
      "INFO:tensorflow:Done calling model_fn.\n",
      "INFO:tensorflow:Create CheckpointSaverHook.\n",
      "INFO:tensorflow:Graph was finalized.\n",
      "INFO:tensorflow:Restoring parameters from /tmp/tf_bow_sst_20180806-1124/model.ckpt-600\n",
      "INFO:tensorflow:Running local_init_op.\n",
      "INFO:tensorflow:Done running local_init_op.\n",
      "INFO:tensorflow:Saving checkpoints for 601 into /tmp/tf_bow_sst_20180806-1124/model.ckpt.\n",
      "INFO:tensorflow:step = 601, loss = 0.18593165\n",
      "INFO:tensorflow:Saving checkpoints for 675 into /tmp/tf_bow_sst_20180806-1124/model.ckpt.\n",
      "INFO:tensorflow:Loss for final step: 0.24912995.\n",
      "INFO:tensorflow:Calling model_fn.\n",
      "INFO:tensorflow:Done calling model_fn.\n",
      "INFO:tensorflow:Starting evaluation at 2018-08-06-18:25:29\n",
      "INFO:tensorflow:Graph was finalized.\n",
      "INFO:tensorflow:Restoring parameters from /tmp/tf_bow_sst_20180806-1124/model.ckpt-675\n",
      "INFO:tensorflow:Running local_init_op.\n",
      "INFO:tensorflow:Done running local_init_op.\n",
      "INFO:tensorflow:Finished evaluation at 2018-08-06-18:25:30\n",
      "INFO:tensorflow:Saving dict for global step 675: accuracy = 0.005, cross_entropy_loss = 3.0252447, global_step = 675, loss = 3.345654\n",
      "INFO:tensorflow:Calling model_fn.\n",
      "INFO:tensorflow:Done calling model_fn.\n",
      "INFO:tensorflow:Create CheckpointSaverHook.\n",
      "INFO:tensorflow:Graph was finalized.\n",
      "INFO:tensorflow:Restoring parameters from /tmp/tf_bow_sst_20180806-1124/model.ckpt-675\n",
      "INFO:tensorflow:Running local_init_op.\n",
      "INFO:tensorflow:Done running local_init_op.\n",
      "INFO:tensorflow:Saving checkpoints for 676 into /tmp/tf_bow_sst_20180806-1124/model.ckpt.\n",
      "INFO:tensorflow:step = 676, loss = 0.23206364\n",
      "INFO:tensorflow:Saving checkpoints for 750 into /tmp/tf_bow_sst_20180806-1124/model.ckpt.\n",
      "INFO:tensorflow:Loss for final step: 0.19951883.\n",
      "INFO:tensorflow:Calling model_fn.\n",
      "INFO:tensorflow:Done calling model_fn.\n",
      "INFO:tensorflow:Starting evaluation at 2018-08-06-18:25:36\n",
      "INFO:tensorflow:Graph was finalized.\n",
      "INFO:tensorflow:Restoring parameters from /tmp/tf_bow_sst_20180806-1124/model.ckpt-750\n",
      "INFO:tensorflow:Running local_init_op.\n",
      "INFO:tensorflow:Done running local_init_op.\n",
      "INFO:tensorflow:Finished evaluation at 2018-08-06-18:25:36\n",
      "INFO:tensorflow:Saving dict for global step 750: accuracy = 0.01, cross_entropy_loss = 3.4293468, global_step = 750, loss = 3.6707616\n"
     ]
    }
   ],
   "source": [
    "for _ in range(train_params['total_epochs'] // train_params['eval_every']):\n",
    "    model.train(input_fn=train_input_fn)\n",
    "    model.evaluate(input_fn=dev_input_fn, name=\"dev\")"
   ]
  },
  {
   "cell_type": "markdown",
   "metadata": {},
   "source": [
    "## Test"
   ]
  },
  {
   "cell_type": "code",
   "execution_count": 54,
   "metadata": {},
   "outputs": [
    {
     "name": "stdout",
     "output_type": "stream",
     "text": [
      "INFO:tensorflow:Calling model_fn.\n",
      "INFO:tensorflow:Done calling model_fn.\n",
      "INFO:tensorflow:Starting evaluation at 2018-08-06-18:25:37\n",
      "INFO:tensorflow:Graph was finalized.\n",
      "INFO:tensorflow:Restoring parameters from /tmp/tf_bow_sst_20180806-1124/model.ckpt-750\n",
      "INFO:tensorflow:Running local_init_op.\n",
      "INFO:tensorflow:Done running local_init_op.\n",
      "INFO:tensorflow:Finished evaluation at 2018-08-06-18:25:37\n",
      "INFO:tensorflow:Saving dict for global step 750: accuracy = 0.013400335, cross_entropy_loss = 3.437101, global_step = 750, loss = 3.7066135\n",
      "Accuracy on test set: 1.34%\n"
     ]
    }
   ],
   "source": [
    "test_input_fn = patched_numpy_io.numpy_input_fn(\n",
    "                    x={\"ids\": test_x, \"ns\": test_ns},\n",
    "                    y=test_y,\n",
    "                    batch_size=128,\n",
    "                    num_epochs=1,\n",
    "                    shuffle=False)\n",
    "\n",
    "eval_metrics = model.evaluate(input_fn=test_input_fn, name=\"test\")\n",
    "print(\"Accuracy on test set: {:.02%}\".format(eval_metrics['accuracy']))"
   ]
  }
 ],
 "metadata": {
  "kernelspec": {
   "display_name": "Python 3",
   "language": "python",
   "name": "python3"
  },
  "language_info": {
   "codemirror_mode": {
    "name": "ipython",
    "version": 3
   },
   "file_extension": ".py",
   "mimetype": "text/x-python",
   "name": "python",
   "nbconvert_exporter": "python",
   "pygments_lexer": "ipython3",
   "version": "3.5.5"
  }
 },
 "nbformat": 4,
 "nbformat_minor": 2
}
