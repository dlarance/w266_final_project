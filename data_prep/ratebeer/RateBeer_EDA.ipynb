{
 "cells": [
  {
   "cell_type": "code",
   "execution_count": 1,
   "metadata": {
    "collapsed": true
   },
   "outputs": [],
   "source": [
    "# The following script will load one file containing reviews and build a .csv file\n",
    "# The data consists of ratebeer beer reviews \n",
    "# Download: https://data.world/petergensler/ratebeer-reviews\n",
    "\n",
    "# Import the necessary packages\n",
    "from os import listdir\n",
    "import pandas as pd\n",
    "from itertools import islice"
   ]
  },
  {
   "cell_type": "code",
   "execution_count": 7,
   "metadata": {
    "collapsed": false
   },
   "outputs": [],
   "source": [
    "# Define processing functions\n",
    "review = []\n",
    "ID = []\n",
    "score = []\n",
    "n = 1000000\n",
    "\n",
    "# Define function for loading each review, one at a time\n",
    "def load_doc(path):\n",
    "    # open the file as read only\n",
    "    file = open(path, encoding='utf8', errors='ignore')\n",
    "    index = 1\n",
    "    for text in islice(file,n):\n",
    "\n",
    "        #Capture score of review\n",
    "        if text[:14] == 'review/overall':\n",
    "            score1 = text[16:18]\n",
    "            if score1[1] == \"/\":\n",
    "                score1 = score1[0]\n",
    "            score1 = int(score1) / 20               \n",
    "            score.append(score1)\n",
    "        \n",
    "        #Capture text\n",
    "        if text[:11] == 'review/text':\n",
    "            review_text = text[13:]\n",
    "            review.append(review_text)\n",
    "        \n",
    "#         ID.append(index)\n",
    "#         index += 1\n",
    "            \n",
    "    # read all text, add to review list\n",
    "    \n",
    "    # define the name of the entry, add to name list\n",
    "    \n",
    "    # define the sentiment\n",
    "    \n",
    "    # close the file\n",
    "    file.close()"
   ]
  },
  {
   "cell_type": "code",
   "execution_count": 8,
   "metadata": {
    "collapsed": false
   },
   "outputs": [],
   "source": [
    "# Clear cache from last run\n",
    "review[:] = []\n",
    "# ID[:] = []\n",
    "score[:] = []\n",
    "\n",
    "# Define directories where each review is located\n",
    "path = '/Users/davidlarance/Documents/w266/Ratebeer.txt'\n",
    "\n",
    "# Loop through the process and then load scripts to compile three lists: review, name, sentiment\n",
    "load_doc(path)\n",
    "\n",
    "# Build a pandas dataframe of the lists\n",
    "df = pd.DataFrame()\n",
    "# df['id'] = ID\n",
    "df['Text'] = review\n",
    "df['Score'] = score\n",
    "\n",
    "# Save the .csv file\n",
    "df.to_csv('rate_beer_medium.csv', index=True)"
   ]
  }
 ],
 "metadata": {
  "kernelspec": {
   "display_name": "Python [Root]",
   "language": "python",
   "name": "Python [Root]"
  },
  "language_info": {
   "codemirror_mode": {
    "name": "ipython",
    "version": 3
   },
   "file_extension": ".py",
   "mimetype": "text/x-python",
   "name": "python",
   "nbconvert_exporter": "python",
   "pygments_lexer": "ipython3",
   "version": "3.5.2"
  }
 },
 "nbformat": 4,
 "nbformat_minor": 0
}
