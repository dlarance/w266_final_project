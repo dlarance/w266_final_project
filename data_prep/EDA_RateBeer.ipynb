{
 "cells": [
  {
   "cell_type": "markdown",
   "metadata": {},
   "source": [
    "# EDA of RateBeer Reviews"
   ]
  },
  {
   "cell_type": "code",
   "execution_count": 37,
   "metadata": {},
   "outputs": [],
   "source": [
    "import numpy as np\n",
    "import pandas as pd"
   ]
  },
  {
   "cell_type": "code",
   "execution_count": 38,
   "metadata": {},
   "outputs": [],
   "source": [
    "import nltk"
   ]
  },
  {
   "cell_type": "code",
   "execution_count": 39,
   "metadata": {},
   "outputs": [],
   "source": [
    "# Read from Dave's file directory\n",
    "df = pd.read_csv('/home/dal7p/w266_final_project/data_prep/rate_beer_medium.csv', encoding='utf8')"
   ]
  },
  {
   "cell_type": "code",
   "execution_count": 40,
   "metadata": {},
   "outputs": [],
   "source": [
    "from nltk.tokenize import word_tokenize"
   ]
  },
  {
   "cell_type": "code",
   "execution_count": 41,
   "metadata": {},
   "outputs": [],
   "source": [
    "# Tokenize\n",
    "df['Tokens'] = df['Text'].apply(lambda text: word_tokenize(text))\n",
    "df['Tokens_Len'] = df['Tokens'].apply(lambda tokens: len(tokens))"
   ]
  },
  {
   "cell_type": "code",
   "execution_count": 42,
   "metadata": {},
   "outputs": [],
   "source": [
    "import matplotlib as plt\n",
    "%matplotlib inline"
   ]
  },
  {
   "cell_type": "markdown",
   "metadata": {},
   "source": [
    "### Statistics"
   ]
  },
  {
   "cell_type": "markdown",
   "metadata": {},
   "source": [
    "Number of reviews:"
   ]
  },
  {
   "cell_type": "code",
   "execution_count": 43,
   "metadata": {},
   "outputs": [
    {
     "data": {
      "text/plain": [
       "71428"
      ]
     },
     "execution_count": 43,
     "metadata": {},
     "output_type": "execute_result"
    }
   ],
   "source": [
    "# Number of entries\n",
    "df.shape[0]"
   ]
  },
  {
   "cell_type": "code",
   "execution_count": 44,
   "metadata": {},
   "outputs": [
    {
     "data": {
      "text/plain": [
       "count    71428.000000\n",
       "mean         0.676320\n",
       "std          0.150506\n",
       "min          0.050000\n",
       "25%          0.600000\n",
       "50%          0.700000\n",
       "75%          0.800000\n",
       "max          1.000000\n",
       "Name: Score, dtype: float64"
      ]
     },
     "execution_count": 44,
     "metadata": {},
     "output_type": "execute_result"
    }
   ],
   "source": [
    "# Description statistics of score column\n",
    "df.Score.describe()"
   ]
  },
  {
   "cell_type": "markdown",
   "metadata": {},
   "source": [
    "Number of reviews for each score:"
   ]
  },
  {
   "cell_type": "code",
   "execution_count": 45,
   "metadata": {},
   "outputs": [
    {
     "data": {
      "text/html": [
       "<div>\n",
       "<style scoped>\n",
       "    .dataframe tbody tr th:only-of-type {\n",
       "        vertical-align: middle;\n",
       "    }\n",
       "\n",
       "    .dataframe tbody tr th {\n",
       "        vertical-align: top;\n",
       "    }\n",
       "\n",
       "    .dataframe thead th {\n",
       "        text-align: right;\n",
       "    }\n",
       "</style>\n",
       "<table border=\"1\" class=\"dataframe\">\n",
       "  <thead>\n",
       "    <tr style=\"text-align: right;\">\n",
       "      <th></th>\n",
       "      <th>Unnamed: 0</th>\n",
       "      <th>Text</th>\n",
       "      <th>Tokens</th>\n",
       "      <th>Tokens_Len</th>\n",
       "    </tr>\n",
       "    <tr>\n",
       "      <th>Score</th>\n",
       "      <th></th>\n",
       "      <th></th>\n",
       "      <th></th>\n",
       "      <th></th>\n",
       "    </tr>\n",
       "  </thead>\n",
       "  <tbody>\n",
       "    <tr>\n",
       "      <th>0.05</th>\n",
       "      <td>145</td>\n",
       "      <td>145</td>\n",
       "      <td>145</td>\n",
       "      <td>145</td>\n",
       "    </tr>\n",
       "    <tr>\n",
       "      <th>0.10</th>\n",
       "      <td>185</td>\n",
       "      <td>185</td>\n",
       "      <td>185</td>\n",
       "      <td>185</td>\n",
       "    </tr>\n",
       "    <tr>\n",
       "      <th>0.15</th>\n",
       "      <td>275</td>\n",
       "      <td>275</td>\n",
       "      <td>275</td>\n",
       "      <td>275</td>\n",
       "    </tr>\n",
       "    <tr>\n",
       "      <th>0.20</th>\n",
       "      <td>376</td>\n",
       "      <td>376</td>\n",
       "      <td>376</td>\n",
       "      <td>376</td>\n",
       "    </tr>\n",
       "    <tr>\n",
       "      <th>0.25</th>\n",
       "      <td>546</td>\n",
       "      <td>546</td>\n",
       "      <td>546</td>\n",
       "      <td>546</td>\n",
       "    </tr>\n",
       "    <tr>\n",
       "      <th>0.30</th>\n",
       "      <td>718</td>\n",
       "      <td>718</td>\n",
       "      <td>718</td>\n",
       "      <td>718</td>\n",
       "    </tr>\n",
       "    <tr>\n",
       "      <th>0.35</th>\n",
       "      <td>987</td>\n",
       "      <td>987</td>\n",
       "      <td>987</td>\n",
       "      <td>987</td>\n",
       "    </tr>\n",
       "    <tr>\n",
       "      <th>0.40</th>\n",
       "      <td>1497</td>\n",
       "      <td>1497</td>\n",
       "      <td>1497</td>\n",
       "      <td>1497</td>\n",
       "    </tr>\n",
       "    <tr>\n",
       "      <th>0.45</th>\n",
       "      <td>1819</td>\n",
       "      <td>1819</td>\n",
       "      <td>1819</td>\n",
       "      <td>1819</td>\n",
       "    </tr>\n",
       "    <tr>\n",
       "      <th>0.50</th>\n",
       "      <td>3420</td>\n",
       "      <td>3420</td>\n",
       "      <td>3420</td>\n",
       "      <td>3420</td>\n",
       "    </tr>\n",
       "    <tr>\n",
       "      <th>0.55</th>\n",
       "      <td>4145</td>\n",
       "      <td>4145</td>\n",
       "      <td>4145</td>\n",
       "      <td>4145</td>\n",
       "    </tr>\n",
       "    <tr>\n",
       "      <th>0.60</th>\n",
       "      <td>7409</td>\n",
       "      <td>7409</td>\n",
       "      <td>7409</td>\n",
       "      <td>7409</td>\n",
       "    </tr>\n",
       "    <tr>\n",
       "      <th>0.65</th>\n",
       "      <td>9036</td>\n",
       "      <td>9036</td>\n",
       "      <td>9036</td>\n",
       "      <td>9036</td>\n",
       "    </tr>\n",
       "    <tr>\n",
       "      <th>0.70</th>\n",
       "      <td>11283</td>\n",
       "      <td>11283</td>\n",
       "      <td>11283</td>\n",
       "      <td>11283</td>\n",
       "    </tr>\n",
       "    <tr>\n",
       "      <th>0.75</th>\n",
       "      <td>11272</td>\n",
       "      <td>11272</td>\n",
       "      <td>11272</td>\n",
       "      <td>11272</td>\n",
       "    </tr>\n",
       "    <tr>\n",
       "      <th>0.80</th>\n",
       "      <td>8844</td>\n",
       "      <td>8844</td>\n",
       "      <td>8844</td>\n",
       "      <td>8844</td>\n",
       "    </tr>\n",
       "    <tr>\n",
       "      <th>0.85</th>\n",
       "      <td>5632</td>\n",
       "      <td>5632</td>\n",
       "      <td>5632</td>\n",
       "      <td>5632</td>\n",
       "    </tr>\n",
       "    <tr>\n",
       "      <th>0.90</th>\n",
       "      <td>2709</td>\n",
       "      <td>2709</td>\n",
       "      <td>2709</td>\n",
       "      <td>2709</td>\n",
       "    </tr>\n",
       "    <tr>\n",
       "      <th>0.95</th>\n",
       "      <td>798</td>\n",
       "      <td>798</td>\n",
       "      <td>798</td>\n",
       "      <td>798</td>\n",
       "    </tr>\n",
       "    <tr>\n",
       "      <th>1.00</th>\n",
       "      <td>332</td>\n",
       "      <td>332</td>\n",
       "      <td>332</td>\n",
       "      <td>332</td>\n",
       "    </tr>\n",
       "  </tbody>\n",
       "</table>\n",
       "</div>"
      ],
      "text/plain": [
       "       Unnamed: 0   Text  Tokens  Tokens_Len\n",
       "Score                                       \n",
       "0.05          145    145     145         145\n",
       "0.10          185    185     185         185\n",
       "0.15          275    275     275         275\n",
       "0.20          376    376     376         376\n",
       "0.25          546    546     546         546\n",
       "0.30          718    718     718         718\n",
       "0.35          987    987     987         987\n",
       "0.40         1497   1497    1497        1497\n",
       "0.45         1819   1819    1819        1819\n",
       "0.50         3420   3420    3420        3420\n",
       "0.55         4145   4145    4145        4145\n",
       "0.60         7409   7409    7409        7409\n",
       "0.65         9036   9036    9036        9036\n",
       "0.70        11283  11283   11283       11283\n",
       "0.75        11272  11272   11272       11272\n",
       "0.80         8844   8844    8844        8844\n",
       "0.85         5632   5632    5632        5632\n",
       "0.90         2709   2709    2709        2709\n",
       "0.95          798    798     798         798\n",
       "1.00          332    332     332         332"
      ]
     },
     "execution_count": 45,
     "metadata": {},
     "output_type": "execute_result"
    }
   ],
   "source": [
    "counts_df = df.groupby(['Score']).agg('count')\n",
    "counts_df"
   ]
  },
  {
   "cell_type": "code",
   "execution_count": 48,
   "metadata": {},
   "outputs": [
    {
     "data": {
      "text/plain": [
       "array([[<matplotlib.axes._subplots.AxesSubplot object at 0x7f47433d0ba8>]],\n",
       "      dtype=object)"
      ]
     },
     "execution_count": 48,
     "metadata": {},
     "output_type": "execute_result"
    },
    {
     "data": {
      "image/png": "[encoded data removed]",
      "text/plain": [
       "<matplotlib.figure.Figure at 0x7f47433c1550>"
      ]
     },
     "metadata": {},
     "output_type": "display_data"
    }
   ],
   "source": [
    "df.hist(column='Score', bins=20)"
   ]
  },
  {
   "cell_type": "markdown",
   "metadata": {},
   "source": [
    "This chart shows that there is an imbalance in the number of reviews written for ratings that are  given a 5."
   ]
  },
  {
   "cell_type": "markdown",
   "metadata": {},
   "source": [
    "### Show Histogram of Review Lengths"
   ]
  },
  {
   "cell_type": "code",
   "execution_count": 52,
   "metadata": {},
   "outputs": [
    {
     "data": {
      "text/plain": [
       "array([[<matplotlib.axes._subplots.AxesSubplot object at 0x7f474280ef98>]],\n",
       "      dtype=object)"
      ]
     },
     "execution_count": 52,
     "metadata": {},
     "output_type": "execute_result"
    },
    {
     "data": {
      "image/png": "[encoded data removed]",
      "text/plain": [
       "<matplotlib.figure.Figure at 0x7f474281fa58>"
      ]
     },
     "metadata": {},
     "output_type": "display_data"
    }
   ],
   "source": [
    "df.hist(column='Tokens_Len', bins=100)"
   ]
  },
  {
   "cell_type": "markdown",
   "metadata": {},
   "source": [
    "This chart shows that the length of reviews follows the power law (Zipf's Law)."
   ]
  },
  {
   "cell_type": "markdown",
   "metadata": {},
   "source": [
    "### Find Largest Review"
   ]
  },
  {
   "cell_type": "code",
   "execution_count": 53,
   "metadata": {},
   "outputs": [
    {
     "data": {
      "text/plain": [
       "1314"
      ]
     },
     "execution_count": 53,
     "metadata": {},
     "output_type": "execute_result"
    }
   ],
   "source": [
    "largest_review = df['Tokens_Len'].max()\n",
    "largest_review"
   ]
  },
  {
   "cell_type": "markdown",
   "metadata": {},
   "source": [
    "View Text of Largest Review"
   ]
  },
  {
   "cell_type": "code",
   "execution_count": 54,
   "metadata": {},
   "outputs": [
    {
     "name": "stdout",
     "output_type": "stream",
     "text": [
      "UPDATED: OCT 10, 2010 Anderson Valley Brewing Company--Winter Solstice Select Ale--6.9% ABV.\t\t1997-8 22 oz. Bottle.  (4.5 / 5.0)  Wow!  Smooth, rich ruby color.  Big, but easy.  Hoppy and flavorful.  Balanced and not sweet, just flavorful and rich.  Spicy notes are from interaction of malt and hops, not added.  Sampled 11/14/2008.\t\t1999 22 oz. Bottle.  (4.5 / 5.0)  Clear amber red color.  Big floral front. Sweet smooth lager like body.  Sampled 11/28/1999.\t\t2000 12 oz. Bottle.  (4.5 / 5.0)  Big Head.  Clear rich dark black cherry red color.  Rich floral hoppy aroma with light Belgian notes and unique spiciness.  Fully fermented rich complex smooth toasted fruit body.  Ends chalky clean and dry.  Sampled 11/13/2000.\t\t2001 12 oz. Bottle.  (4.5 / 5.0)  Clear thin blood red color.  Roasted spice floral hop front.  Mixed body of creamy flavors.  Rich roasted caramel cherry fruit body with spice accents and dry sweetness.  Nut hints mix with spice hop end.  Sampled 11/30/2001.\t\t2001 22 oz. Bottle.  (4.25 / 5.0)  Clear light bronze color.  Red hints.  Light head.  Mild cinnamon toasted malt mild hop front.  Dry crisp clean toasted body with piney Anchor notes.  Toast and mild spice rule.  Spicy cinnamon hop toasted end.  Sampled 12/15/2001.\t\t2002 22 oz. Bottle.  (4.25 / 5.0)  Clear rich bright amber red color.  Medium lacy head.  Unique spice note to malty floral mild hop front.  Rich sweet malty body with mild candy flavor.  Clean end with lingering raisin sweetbread hop spice.  Sampled 10/13/2002.\t\t2003 22 oz. Bottle.  (4.0 / 5.0)  Clear bright dark amber color.  Rich lacy head.  Subtle spice floral malty hop front.  Smooth rich toasted doughy biscuit caramel mild sweet English creamy cherry fruit body.  Mild hop spice end.  Buttery.  Odd.  Sampled 11/1/2003.\t\tAnderson Valley Brewing Company--Winter Solstice Seasonal Ale--6.9% ABV--35 IBUs?\t\t2002 12 oz. Bottle.  (4.25 / 5.0)  Clear rich ruby red color.  Mild white light lace head.  Mild winter spice floral vanilla hop front.  Smooth doughy sweet cherry creamy butterscotch English Pale Ale body.  Mild malt hop spice end.  Vanilla?!  Sampled 12/15/2002.\t\t2003 12 oz. Bottle.  (4.0 / 5.0)  Clear bright dark deep amber red color.  Light mild lace head.  Floral malt mellow spice hop front.  Creamy smooth odd spice mild roasted rich doughy caramel cherry body.  Sweet malty spiced mild hop end.  Nice.  Sampled 10/29/2003.\t\t2003 22 oz. Bottle.  (4.25 / 5.0)  Slightly hazy rich dark amber red color.  Mild lacy head.  Mild fruit hop toasted mild spice front.  Clean smooth rich light nut toasted sweet tangy doughy caramel fruit body.  Dry sweet clean mild citrus end.  Sampled 11/21/2003.\t\t2004 12 oz. Bottle.  (4.0 / 5.0)  Mild lace head.  Clear rich dark black cherry red color.  Toasted malt spice mild nutmeg hop front.  Creamy malty doughy English toasted caramel biscuit rich mild sweet body.  Clean mild nutmeg hop finish.  Sampled 12/13/2004.\t\t2004 22 oz. Bottle.  (4.0 / 5.0)  Rich mild lace head.  Clear pretty dark ruby color.  Mild toasted malt spice hop front.  Doughy English rich toasted black cherry caramel biscuit body.  Spicy mild nutmeg hop end.  Smooth malty sweet spiciness.  Sampled 12/4/2004.\t\t2005 22 oz. Bottle.  (4.0 / 5.0)  Mild lacy head.  Cloudy rich bright amber orange color.  Earthy herbal vanilla hop malt front.  Tangy creamy smooth mild nutmeg dry sweet toasted caramel biscuit English body.  Mild hot Winter Spice hop end.  Sampled 11/17/2005.\t\t2005 12 oz. Bottle.  (4.25 / 5.0)  Mild lace head.  Hazy rich dark amber red color.  Malty English mild floral hop coriander spice front.  Creamy sweet smooth malty English biscuit cherry toffee fruit nutmeg body.  Spicy wheat hop clean end.  Sampled 5/13/2006.\t\t2006 22 oz. Bottle.  (4.5 /5.0)  Foamy lacy head.  Slightly hazy bright cherry amber color.  Mellow spicy English hop coriander front.  Rich cherry biscuit English malty body.  Clean mild hop spice malty very tasty end.  Sampled 11/15/2006.\t\t2006 12 oz. Bottle.  (4.25 / 5.0)  Foamy lacy head.  Clear bright cherry amber color.  Vanilla hop front.  Smooth cloying mild butter caramel vanilla breadfruit body.  English smooth cloying smooth mild hop spice creamy mellow end.  Sampled 2/19/2007.\tVersion\tSize\tSampled\tABV\tIBUs\tRating\t 22 oz. Bottle.  (4.25 / 5.0)  $3.99 Each.  Foamy lacy off white head.  Clear ruby amber color.  Malty toffee cherry mild hop front.  Mild creamy sweet buttery biscuit vanilla toffee mild cherry ester malty body.  Smooth mild hop cloying malt end.  Sampled 10/24/2007.\t\t2007 12 oz. Bottle.  (4.25 / 5.0)  6-Pack $9.99.  Tight rich lacy off white head.  Clear thin dark amber red color.  Rich toasted toffee cherry mild hop malt spice front.  Cloying mild creamy sweet toffee biscuit English body.  Malt spice mild hop end.  Sampled 10/26/2007.\t\tWinter Solstice Seasonal Ale--2008 12 oz. Bottle.  6.90%\t ABV--35 IBUs?  (4.25 / 5.0)   Winter Ale--English\t.  Rich lacy off white tan head.  Clear ruby red color.  Malty toffee English hop front.  Malty mild sweet toasted toffee doughy biscuit chewy malt spice body.  Smooth easy toffee mild hop spice lingering malt spice end.  Sampled 3/27/2009.  6-Pack-$11.99.\t\tWinter Solstice Seasonal Ale--Ale Brewed With Natural Flavors--2008 22 oz. Bottle.  6.90% ABV--35 IBUs?  (4.25 / 5.0)  Winter Ale--English.  Lacy off white head.  Clear rich dark ruby color.  Mild hop vanilla toasted caramel fruit front.  Mild creamy English toffee biscuit malty body.  Smooth mild hop toasted Winter spice hint end.  Tasty when warm.  Smooth.  Sampled 11/16/2008.  $4.99 Each.\t\t\tWinter Solstice Seasonal Ale--2009 12 oz. Bottle.  6.90% ABV--6 IBUs.  (4.25 / 5.0)  Winter Ale--English.  Big thin rich mild lace head.  Clear thin bright amber red color.  Malty vanilla mild hop front.  Creamy smooth malty mild toffee caramel mild Winter spice vanilla body.  Rich lingering malt mild hop spice end.  Mellow sentimental Winter favorite.  Stated IBUs on Web Page seem low.  Sampled 10/23/2009 & 12/25/2009.  $10.99 / 6-Pack.\t\t2010--22 oz. Bottle.  6.90% ABV.  6 IBUs.  (3.75 / 5.0)  Rich dense lacy off white head.  Clear bright dark ruby rich red color.  Soft toffee black cherry mild hop front.  Malty doughy creamy mild sweet soft toffee sweetbread English malt body without the stank.  Cloying smooth mild hop soft malt spice end.  Malty English-Style Winter Ale.  Sampled 10/10/1910.  Purchased for $3.99 @ Kens Market--Phinney Ridge, Seattle, WA USA on 10/6/2010.\n",
      "\n",
      "0.75\n"
     ]
    }
   ],
   "source": [
    "df_largest_reviews = df.loc[df['Tokens_Len']==largest_review]\n",
    "df_largest_reviews = df_largest_reviews.reset_index(drop=True)\n",
    "print(df_largest_reviews.loc[0,'Text'])\n",
    "print(df_largest_reviews.loc[0,'Score'])\n"
   ]
  },
  {
   "cell_type": "markdown",
   "metadata": {},
   "source": [
    "### Find Average Review"
   ]
  },
  {
   "cell_type": "code",
   "execution_count": 55,
   "metadata": {},
   "outputs": [
    {
     "data": {
      "text/plain": [
       "62"
      ]
     },
     "execution_count": 55,
     "metadata": {},
     "output_type": "execute_result"
    }
   ],
   "source": [
    "round(df['Tokens_Len'].mean())"
   ]
  },
  {
   "cell_type": "markdown",
   "metadata": {},
   "source": [
    "### Find Token Count of 95% of Reviews"
   ]
  },
  {
   "cell_type": "code",
   "execution_count": 56,
   "metadata": {},
   "outputs": [],
   "source": [
    "# Group by token length and create a column for the count\n",
    "df2 = df.groupby('Tokens_Len').size().reset_index(name='counts')\n",
    "\n",
    "# Normalize by the total count\n",
    "total_counts = df2['counts'].sum()\n",
    "\n",
    "# Sort by token length\n",
    "df2 = df2.sort_values('Tokens_Len', ascending=True)"
   ]
  },
  {
   "cell_type": "code",
   "execution_count": 57,
   "metadata": {},
   "outputs": [],
   "source": [
    "from __future__ import division\n",
    "df2['percentage'] = df2['counts'].apply(lambda count: count/total_counts)"
   ]
  },
  {
   "cell_type": "code",
   "execution_count": 58,
   "metadata": {},
   "outputs": [
    {
     "name": "stdout",
     "output_type": "stream",
     "text": [
      "The token length for 95% is: 135.0\n"
     ]
    }
   ],
   "source": [
    "total_percentage = 0.0\n",
    "review_limit = 0\n",
    "\n",
    "for index, row in df2.iterrows():\n",
    "    total_percentage = total_percentage + row['percentage']\n",
    "    if total_percentage >= 0.95:\n",
    "        print('The token length for 95% is: {}'.format(row['Tokens_Len']))\n",
    "        review_limit = row['Tokens_Len']\n",
    "        break"
   ]
  },
  {
   "cell_type": "markdown",
   "metadata": {},
   "source": [
    "### Remove Reviews Longer than 95% of Reviews"
   ]
  },
  {
   "cell_type": "code",
   "execution_count": 59,
   "metadata": {},
   "outputs": [],
   "source": [
    "df = df[df['Tokens_Len']<= review_limit]"
   ]
  },
  {
   "cell_type": "code",
   "execution_count": 60,
   "metadata": {},
   "outputs": [
    {
     "data": {
      "text/plain": [
       "array([[<matplotlib.axes._subplots.AxesSubplot object at 0x7f4742699898>]],\n",
       "      dtype=object)"
      ]
     },
     "execution_count": 60,
     "metadata": {},
     "output_type": "execute_result"
    },
    {
     "data": {
      "image/png": "[encoded data removed]",
      "text/plain": [
       "<matplotlib.figure.Figure at 0x7f47426fba58>"
      ]
     },
     "metadata": {},
     "output_type": "display_data"
    }
   ],
   "source": [
    "df.hist(column='Tokens_Len', bins=1000)"
   ]
  }
 ],
 "metadata": {
  "kernelspec": {
   "display_name": "Python 3",
   "language": "python",
   "name": "python3"
  },
  "language_info": {
   "codemirror_mode": {
    "name": "ipython",
    "version": 3
   },
   "file_extension": ".py",
   "mimetype": "text/x-python",
   "name": "python",
   "nbconvert_exporter": "python",
   "pygments_lexer": "ipython3",
   "version": "3.6.4"
  },
  "toc": {
   "base_numbering": 1,
   "nav_menu": {},
   "number_sections": true,
   "sideBar": true,
   "skip_h1_title": true,
   "title_cell": "Table of Contents",
   "title_sidebar": "Contents",
   "toc_cell": false,
   "toc_position": {},
   "toc_section_display": true,
   "toc_window_display": false
  }
 },
 "nbformat": 4,
 "nbformat_minor": 2
}
