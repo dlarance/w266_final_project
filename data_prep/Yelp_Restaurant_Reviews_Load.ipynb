{
 "cells": [
  {
   "cell_type": "code",
   "execution_count": 13,
   "metadata": {
    "collapsed": true
   },
   "outputs": [],
   "source": [
    "# The following script will load a raw .txt file and build a .csv file\n",
    "# The data consists of restuarant reviews grouped in two classifications (pos/neg)\n",
    "# Positive sentiment is labeled as a 1 and negative as 0\n",
    "# Download: https://github.com/Nir0303/SentimentAnalysisOfRestaurantsData\n",
    "\n",
    "# Import the necessary packages\n",
    "from os import listdir\n",
    "import pandas as pd"
   ]
  },
  {
   "cell_type": "code",
   "execution_count": 16,
   "metadata": {},
   "outputs": [],
   "source": [
    "# Define processing functions\n",
    "review = []\n",
    "ID = []\n",
    "sentiment = []\n",
    "\n",
    "def load_doc(path):\n",
    "    \n",
    "    index = 1\n",
    "    # Open the file with read only permit\n",
    "    f = open(path)\n",
    "    # use readline() to read the first line \n",
    "    line = f.readline()\n",
    "    while line:\n",
    "        \n",
    "        # Capture the reviews text\n",
    "        text = line[:-10]\n",
    "        review.append(text)\n",
    "        \n",
    "        # If the line contains ~positive or `negative, define sentiment\n",
    "        if \"~positive\" in line:\n",
    "            score = 5\n",
    "        else:\n",
    "            score = 1\n",
    "        sentiment.append(score)\n",
    "        \n",
    "        # Set an index number for testing/troubleshooting\n",
    "        ID.append(index)\n",
    "        index = index + 1\n",
    "        \n",
    "        # use realine() to read next line\n",
    "        line = f.readline()\n",
    "    f.close()"
   ]
  },
  {
   "cell_type": "code",
   "execution_count": 17,
   "metadata": {},
   "outputs": [],
   "source": [
    "# Clear cache from last run\n",
    "review[:] = []\n",
    "sentiment[:] = []\n",
    "ID[:] = []\n",
    "\n",
    "# Define directories where each review is located\n",
    "directory = '/Users/davidlarance/Downloads/train_restaurant_data.txt'\n",
    "\n",
    "# Loop through the process and then load scripts to compile three lists: review, name, sentiment\n",
    "load_doc(directory)\n",
    "\n",
    "# Build a pandas dataframe of the lists\n",
    "df = pd.DataFrame()\n",
    "df['id'] = ID\n",
    "df['Text'] = review\n",
    "df['Score'] = sentiment\n",
    "\n",
    "# Save the .csv file\n",
    "df.to_csv('yelp_1_5.csv', index=False)"
   ]
  }
 ],
 "metadata": {
  "anaconda-cloud": {},
  "kernelspec": {
   "display_name": "Python 3",
   "language": "python",
   "name": "python3"
  },
  "language_info": {
   "codemirror_mode": {
    "name": "ipython",
    "version": 3
   },
   "file_extension": ".py",
   "mimetype": "text/x-python",
   "name": "python",
   "nbconvert_exporter": "python",
   "pygments_lexer": "ipython3",
   "version": "3.6.4"
  }
 },
 "nbformat": 4,
 "nbformat_minor": 1
}
