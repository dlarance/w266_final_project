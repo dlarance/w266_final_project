{
 "cells": [
  {
   "cell_type": "code",
   "execution_count": 52,
   "metadata": {
    "collapsed": true
   },
   "outputs": [],
   "source": [
    "# The following script will load individual text files and build a .csv file\n",
    "# The data consists of IMDB movie reviews grouped in two folders\n",
    "# Positive sentiment is labeled as a 1 and negative as 0\n",
    "# Download: http://www.cs.cornell.edu/people/pabo/movie-review-data/review_polarity.tar.gz\n",
    "\n",
    "# Import the necessary packages\n",
    "from os import listdir\n",
    "import pandas as pd\n"
   ]
  },
  {
   "cell_type": "code",
   "execution_count": 58,
   "metadata": {
    "collapsed": false
   },
   "outputs": [],
   "source": [
    "# Define processing functions\n",
    "review = []\n",
    "name = []\n",
    "sentiment = []\n",
    "\n",
    "# Define function for loading each review, one at a time\n",
    "def load_doc(path, filename):\n",
    "    # open the file as read only\n",
    "    file = open(path, 'r')\n",
    "    \n",
    "    # read all text, add to review list\n",
    "    text = file.read()\n",
    "    review.append(text)\n",
    "    \n",
    "    # define the name of the entry, add to name list\n",
    "    filename = filename[:-4]\n",
    "    name.append(filename)\n",
    "    \n",
    "    # define the sentiment\n",
    "    if \"pos\" in path:\n",
    "        score = 5\n",
    "    else:\n",
    "        score = 1\n",
    "    sentiment.append(score)\n",
    "    \n",
    "    # close the file\n",
    "    file.close()\n",
    "\n",
    "def process_docs(directory):\n",
    "    # walk through all files in the folder\n",
    "    for filename in listdir(directory):\n",
    "        # skip files that do not have the right extension\n",
    "        if not filename.endswith(\".txt\"):\n",
    "            continue\n",
    "        # create the full path of the file to open\n",
    "        path = directory + '/' + filename\n",
    "        # load document\n",
    "        load_doc(path, filename)"
   ]
  },
  {
   "cell_type": "code",
   "execution_count": 59,
   "metadata": {
    "collapsed": false
   },
   "outputs": [],
   "source": [
    "# Clear cache from last run\n",
    "review[:] = []\n",
    "name[:] = []\n",
    "sentiment[:] = []\n",
    "\n",
    "# Define directories where each review is located\n",
    "neg_directory = '/Users/davidlarance/Downloads/review_polarity/txt_sentoken/neg'\n",
    "pos_directory = '/Users/davidlarance/Downloads/review_polarity/txt_sentoken/pos'\n",
    "\n",
    "# Loop through the process and then load scripts to compile three lists: review, name, sentiment\n",
    "process_docs(neg_directory)\n",
    "process_docs(pos_directory)\n",
    "\n",
    "# Build a pandas dataframe of the lists\n",
    "df = pd.DataFrame()\n",
    "df['id'] = name\n",
    "df['review'] = review\n",
    "df['sentiment'] = sentiment\n",
    "\n",
    "# Save the .csv file\n",
    "df.to_csv('imdb_1_5.csv', index=False)\n"
   ]
  },
  {
   "cell_type": "code",
   "execution_count": 55,
   "metadata": {
    "collapsed": false
   },
   "outputs": [],
   "source": [
    "# # f1 = '/Users/davidlarance/Downloads/review_polarity/txt_sentoken/neg/cv000_29416.txt'\n",
    "# # load_doc(f1)\n",
    "\n",
    "# print(sentiment)\n",
    "# print(len(review))\n",
    "# print(type(review))\n",
    "# print(review[4])"
   ]
  }
 ],
 "metadata": {
  "anaconda-cloud": {},
  "kernelspec": {
   "display_name": "Python [Root]",
   "language": "python",
   "name": "Python [Root]"
  },
  "language_info": {
   "codemirror_mode": {
    "name": "ipython",
    "version": 3
   },
   "file_extension": ".py",
   "mimetype": "text/x-python",
   "name": "python",
   "nbconvert_exporter": "python",
   "pygments_lexer": "ipython3",
   "version": "3.5.2"
  }
 },
 "nbformat": 4,
 "nbformat_minor": 0
}
