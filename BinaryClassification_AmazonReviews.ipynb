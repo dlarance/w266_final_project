{
 "cells": [
  {
   "cell_type": "markdown",
   "metadata": {},
   "source": [
    "# Binary Sentiment Classification of Amazon Food Reviews"
   ]
  },
  {
   "cell_type": "code",
   "execution_count": 1,
   "metadata": {},
   "outputs": [],
   "source": [
    "import numpy as np\n",
    "import pandas as pd"
   ]
  },
  {
   "cell_type": "markdown",
   "metadata": {},
   "source": [
    "RNN Model Parameters"
   ]
  },
  {
   "cell_type": "code",
   "execution_count": 2,
   "metadata": {},
   "outputs": [],
   "source": [
    "batchSize = 24\n",
    "numClasses = 2  # Binary classification\n",
    "hiddenSize = 50\n",
    "\n",
    "assert(batchSize % numClasses == 0)"
   ]
  },
  {
   "cell_type": "markdown",
   "metadata": {},
   "source": [
    "## Word Vectors"
   ]
  },
  {
   "cell_type": "code",
   "execution_count": 3,
   "metadata": {},
   "outputs": [],
   "source": [
    "from pathlib import Path\n",
    "import os.path\n",
    "wordsList = np.load(os.path.join(str(Path.home()), '.kaggle/wordvectors/pretrained_glove/wordsList.npy'))\n",
    "wordsList = wordsList.tolist() #Originally loaded as numpy array\n",
    "wordsList = [word.decode('UTF-8') for word in wordsList] #Encode words as UTF-8\n",
    "wordVectors = np.load(os.path.join(str(Path.home()), '.kaggle/wordvectors/pretrained_glove/wordVectors.npy'))"
   ]
  },
  {
   "cell_type": "markdown",
   "metadata": {},
   "source": [
    "Word Vectors have dimension 50"
   ]
  },
  {
   "cell_type": "code",
   "execution_count": 4,
   "metadata": {},
   "outputs": [],
   "source": [
    "embedding_dimension = 50"
   ]
  },
  {
   "cell_type": "markdown",
   "metadata": {},
   "source": [
    "## Reviews"
   ]
  },
  {
   "cell_type": "markdown",
   "metadata": {},
   "source": [
    "Load the Reviews"
   ]
  },
  {
   "cell_type": "code",
   "execution_count": 5,
   "metadata": {},
   "outputs": [
    {
     "name": "stdout",
     "output_type": "stream",
     "text": [
      "[nltk_data] Downloading package punkt to /home/mprout/nltk_data...\n",
      "[nltk_data]   Package punkt is already up-to-date!\n"
     ]
    }
   ],
   "source": [
    "import nltk\n",
    "nltk.download('punkt')\n",
    "from nltk.tokenize import word_tokenize"
   ]
  },
  {
   "cell_type": "code",
   "execution_count": 6,
   "metadata": {},
   "outputs": [],
   "source": [
    "review_df = pd.read_csv('~/.kaggle/datasets/snap/amazon-fine-food-reviews/Reviews.csv', encoding='utf8')\n",
    "review_df = review_df.drop(['ProductId', 'UserId', 'ProfileName', 'HelpfulnessNumerator', 'HelpfulnessDenominator', 'Time', 'Summary'], axis=1)"
   ]
  },
  {
   "cell_type": "markdown",
   "metadata": {},
   "source": [
    "Use the one and five star reviews"
   ]
  },
  {
   "cell_type": "code",
   "execution_count": 7,
   "metadata": {},
   "outputs": [],
   "source": [
    "one_df = review_df[review_df.Score == 1]\n",
    "one_df.reset_index(inplace=True)\n",
    "\n",
    "two_df = review_df[review_df.Score == 2]\n",
    "two_df.reset_index(inplace=True)\n",
    "\n",
    "four_df = review_df[review_df.Score == 4]\n",
    "four_df.reset_index(inplace=True)\n",
    "\n",
    "five_df = review_df[review_df.Score == 5]\n",
    "five_df.reset_index(inplace=True)"
   ]
  },
  {
   "cell_type": "markdown",
   "metadata": {},
   "source": [
    "Limit number of ratings for development"
   ]
  },
  {
   "cell_type": "code",
   "execution_count": 8,
   "metadata": {},
   "outputs": [],
   "source": [
    "max_num_ratings = 12500\n",
    "one_df = one_df[0:max_num_ratings]\n",
    "two_df = two_df[0:max_num_ratings]\n",
    "four_df = four_df[0:max_num_ratings]\n",
    "five_df = five_df[0:max_num_ratings]"
   ]
  },
  {
   "cell_type": "markdown",
   "metadata": {},
   "source": [
    "Define the size of the train, dev, and test datasets"
   ]
  },
  {
   "cell_type": "code",
   "execution_count": 9,
   "metadata": {},
   "outputs": [],
   "source": [
    "import math\n",
    "\n",
    "# Train with 60%, , Dev: 10%, Test: 30%\n",
    "train_percent = 0.6\n",
    "dev_percent = 0.1\n",
    "test_percent = 0.3\n",
    "\n",
    "# Get indicies of the rows in the dataframe for training and testing\n",
    "train_lower_index = 0\n",
    "dev_lower_index   = math.floor(train_percent*max_num_ratings)\n",
    "test_lower_index  = math.floor( (train_percent+dev_percent)*max_num_ratings )\n",
    "\n",
    "train_size = dev_lower_index - train_lower_index\n",
    "dev_size   = test_lower_index - dev_lower_index\n",
    "test_size  = max_num_ratings - test_lower_index"
   ]
  },
  {
   "cell_type": "markdown",
   "metadata": {},
   "source": [
    "Remove punctuation, lowercase, and then tokenize the reviews.  The tokens need to be lowercase for the embedding lookup."
   ]
  },
  {
   "cell_type": "code",
   "execution_count": 10,
   "metadata": {},
   "outputs": [],
   "source": [
    "import re\n",
    "\n",
    "strip_special_chars = re.compile(\"[^A-Za-z0-9 ]+\")\n",
    "\n",
    "def cleanSentences(string):\n",
    "    return word_tokenize(re.sub(strip_special_chars, \" \", string.lower()))\n",
    "\n",
    "one_df['Tokens'] = one_df['Text'].apply(lambda text: cleanSentences(text))\n",
    "two_df['Tokens'] = two_df['Text'].apply(lambda text: cleanSentences(text))\n",
    "four_df['Tokens'] = four_df['Text'].apply(lambda text: cleanSentences(text))\n",
    "five_df['Tokens'] = five_df['Text'].apply(lambda text: cleanSentences(text))"
   ]
  },
  {
   "cell_type": "markdown",
   "metadata": {},
   "source": [
    "Create the array of input sentences converted to word IDs. \n",
    "One extra integer to store the review ID"
   ]
  },
  {
   "cell_type": "code",
   "execution_count": 11,
   "metadata": {},
   "outputs": [],
   "source": [
    "maxSeqLength = 267 # From EDA"
   ]
  },
  {
   "cell_type": "code",
   "execution_count": 12,
   "metadata": {},
   "outputs": [],
   "source": [
    "word_ids = np.zeros((4*max_num_ratings, maxSeqLength+1), dtype='int32')"
   ]
  },
  {
   "cell_type": "markdown",
   "metadata": {},
   "source": [
    "Convert words to word IDs and store in word_ids"
   ]
  },
  {
   "cell_type": "code",
   "execution_count": 13,
   "metadata": {},
   "outputs": [],
   "source": [
    "sentence_index = 0\n",
    "\n",
    "for df in [one_df, two_df, four_df, five_df]:\n",
    "    \n",
    "    for _, row in df.iterrows():\n",
    "\n",
    "        # Store the review Id for identifying misclassified reviews in testing\n",
    "        word_index = 0\n",
    "        word_ids[sentence_index][word_index] = row['Id']\n",
    "        word_index = word_index + 1\n",
    "\n",
    "        for word in row['Tokens']:\n",
    "\n",
    "            try:\n",
    "                word_ids[sentence_index][word_index] = wordsList.index(word)\n",
    "            except ValueError:\n",
    "                word_ids[sentence_index][word_index] = 399999 #Vector for unkown words\n",
    "\n",
    "            word_index = word_index + 1\n",
    "\n",
    "            if word_index == maxSeqLength:\n",
    "                break\n",
    "\n",
    "        sentence_index = sentence_index + 1\n"
   ]
  },
  {
   "cell_type": "markdown",
   "metadata": {},
   "source": [
    "Create functions to get the train and test batches"
   ]
  },
  {
   "cell_type": "code",
   "execution_count": 14,
   "metadata": {},
   "outputs": [],
   "source": [
    "from random import randint\n",
    "\n",
    "def getBalancedReviews(sectionOffset, sectionSize):\n",
    "    labels = []\n",
    "    arr = np.zeros([batchSize, maxSeqLength])\n",
    "    ids = np.zeros(batchSize)\n",
    "    \n",
    "    for i in range(batchSize):\n",
    "        \n",
    "        rating = i % 4\n",
    "        \n",
    "        if (rating == 0): \n",
    "            num = randint(0,sectionSize-1)\n",
    "            labels.append([1, 0])\n",
    "        elif (rating == 1): \n",
    "            num = randint(1*sectionSize,2*sectionSize-1)\n",
    "            labels.append([1, 0])\n",
    "        elif (rating == 2): \n",
    "            num = randint(2*sectionSize,3*sectionSize-1)\n",
    "            labels.append([0, 1])\n",
    "        elif (rating == 3): \n",
    "            num = randint(3*sectionSize,4*sectionSize-1)\n",
    "            labels.append([0, 1])\n",
    "        \n",
    "        num = num + sectionOffset\n",
    "        arr[i] = word_ids[num, 1:]\n",
    "        ids[i] = word_ids[num, 0]\n",
    "        \n",
    "    return arr, labels, ids\n",
    "\n",
    "def getRandomReviews(sectionOffset, sectionSize):\n",
    "    labels = []\n",
    "    arr = np.zeros([batchSize, maxSeqLength])\n",
    "    ids = np.zeros(batchSize)\n",
    "    \n",
    "    for i in range(batchSize):\n",
    "        \n",
    "        num = randint(0, 4*sectionSize-1)\n",
    "        \n",
    "        if (num < 2*sectionSize): \n",
    "            labels.append([1, 0])\n",
    "        else: \n",
    "            labels.append([0, 1])\n",
    "        \n",
    "        num = num + sectionOffset\n",
    "        arr[i] = word_ids[num, 1:]\n",
    "        ids[i] = word_ids[num, 0]\n",
    "        \n",
    "    return arr, labels, ids\n",
    "\n",
    "def getTrainBatch():\n",
    "    return getBalancedReviews(train_lower_index, train_size)\n",
    "\n",
    "def getDevBatch():\n",
    "    return getRandomReviews(dev_lower_index, dev_size)\n",
    "\n",
    "def getTestBatch():\n",
    "    return getRandomReviews(test_lower_index, test_size)"
   ]
  },
  {
   "cell_type": "markdown",
   "metadata": {},
   "source": [
    "## Tensorflow Model"
   ]
  },
  {
   "cell_type": "markdown",
   "metadata": {},
   "source": [
    "Hyper Parameters"
   ]
  },
  {
   "cell_type": "code",
   "execution_count": 15,
   "metadata": {},
   "outputs": [],
   "source": [
    "learning_rate =  0.001\n",
    "dropout_keep_prob = 0.75"
   ]
  },
  {
   "cell_type": "markdown",
   "metadata": {},
   "source": [
    "Model"
   ]
  },
  {
   "cell_type": "code",
   "execution_count": 16,
   "metadata": {},
   "outputs": [
    {
     "name": "stdout",
     "output_type": "stream",
     "text": [
      "WARNING:tensorflow:From <ipython-input-16-62f659ee654a>:30: softmax_cross_entropy_with_logits (from tensorflow.python.ops.nn_ops) is deprecated and will be removed in a future version.\n",
      "Instructions for updating:\n",
      "\n",
      "Future major versions of TensorFlow will allow gradients to flow\n",
      "into the labels input on backprop by default.\n",
      "\n",
      "See @{tf.nn.softmax_cross_entropy_with_logits_v2}.\n",
      "\n"
     ]
    }
   ],
   "source": [
    "import tensorflow as tf\n",
    "tf.reset_default_graph()\n",
    "\n",
    "labels = tf.placeholder(tf.float32, [batchSize, numClasses])\n",
    "input_data = tf.placeholder(tf.int32, [batchSize, maxSeqLength])\n",
    "\n",
    "data = tf.Variable(tf.zeros([batchSize, maxSeqLength, embedding_dimension]), dtype=tf.float32)\n",
    "data = tf.nn.embedding_lookup(wordVectors, input_data)\n",
    "\n",
    "lstmCell = tf.contrib.rnn.BasicLSTMCell(hiddenSize)\n",
    "lstmCell = tf.contrib.rnn.DropoutWrapper(cell=lstmCell, output_keep_prob=dropout_keep_prob)\n",
    "rnn_out, _ = tf.nn.dynamic_rnn(lstmCell, data, dtype=tf.float32)\n",
    "\n",
    "W_out = tf.Variable(tf.truncated_normal([hiddenSize, numClasses]), dtype=tf.float32)\n",
    "b_out = tf.Variable(tf.constant(0.1, shape=[numClasses]), dtype=tf.float32)\n",
    "\n",
    "# Get the output of the last RNN cell\n",
    "rnn_out = tf.transpose(rnn_out, [1, 0, 2])\n",
    "last_cell_out = tf.gather(rnn_out, int(rnn_out.get_shape()[0]) - 1)\n",
    "\n",
    "# Calculate logits\n",
    "logits = (tf.matmul(last_cell_out, W_out) + b_out)\n",
    "\n",
    "# Calculate prediction and accuracy\n",
    "prediction = tf.argmax(logits,1)\n",
    "correctPred = tf.equal(prediction, tf.argmax(labels,1))\n",
    "accuracy = tf.reduce_mean(tf.cast(correctPred, tf.float32))\n",
    "\n",
    "# Loss function and optimizer\n",
    "loss = tf.reduce_mean(tf.nn.softmax_cross_entropy_with_logits(logits=logits, labels=labels))\n",
    "optimizer = tf.train.AdamOptimizer(learning_rate=learning_rate).minimize(loss)"
   ]
  },
  {
   "cell_type": "markdown",
   "metadata": {},
   "source": [
    "## Train Model"
   ]
  },
  {
   "cell_type": "code",
   "execution_count": 17,
   "metadata": {},
   "outputs": [],
   "source": [
    "import datetime\n",
    "\n",
    "def TrainModel(session, writer):\n",
    "    \n",
    "    start_time = datetime.datetime.now()\n",
    "    \n",
    "    i = 0  # Must stay outside the loops\n",
    "    \n",
    "    for epoch in range(260000):\n",
    "        \n",
    "        # Next Batch of reviews\n",
    "        nextBatch, nextBatchLabels, reviewIds = getTrainBatch()\n",
    "\n",
    "        feed_dict_ = {\n",
    "            input_data: nextBatch,\n",
    "            labels: nextBatchLabels\n",
    "        }\n",
    "\n",
    "        loss_, _ = session.run([loss, optimizer], feed_dict=feed_dict_)\n",
    "\n",
    "        #Write summary to Tensorboard\n",
    "        if (i % 10 == 0):\n",
    "            summary = session.run(merged, {input_data: nextBatch, labels: nextBatchLabels})\n",
    "            writer.add_summary(summary, i)\n",
    "\n",
    "        if (i % 1000 == 0):\n",
    "            print(\"Loss is: \", loss_, \", \", (datetime.datetime.now() - start_time).seconds, \" seconds\")\n",
    "\n",
    "        i = i + 1"
   ]
  },
  {
   "cell_type": "markdown",
   "metadata": {},
   "source": [
    "## Test Model"
   ]
  },
  {
   "cell_type": "code",
   "execution_count": 18,
   "metadata": {},
   "outputs": [],
   "source": [
    "def TestModel(session):\n",
    "    \n",
    "    csv = open('Mispredicted_AmazonBinaryClassification.csv', 'w')\n",
    "    csv.write(\"Id\\n\")\n",
    "    \n",
    "    accuracy_measurements = []\n",
    "    loss_measurements = []\n",
    "    \n",
    "    for epoch in range(20):\n",
    "    \n",
    "        nextBatch, nextBatchLabels, reviewIds = getTestBatch()\n",
    "\n",
    "        feed_dict = {\n",
    "            input_data: nextBatch,\n",
    "            labels: nextBatchLabels\n",
    "        }\n",
    "\n",
    "        accuracy_, loss_ = sess.run([accuracy, loss], feed_dict)\n",
    "        \n",
    "        accuracy_measurements.append(accuracy_)\n",
    "        loss_measurements.append(loss_)\n",
    "\n",
    "        if accuracy_ < 1.0:\n",
    "\n",
    "            predictions_ = sess.run(prediction, feed_dict)\n",
    "            \n",
    "            for index in range(len(predictions_)):\n",
    "\n",
    "                if predictions_[index] != np.argmax(nextBatchLabels[index]):\n",
    "                    csv.write(str(int(reviewIds[index])) + \"\\n\")\n",
    "                    \n",
    "    print('Testing Results:')\n",
    "    print('The average accuracy is: ', np.mean(accuracy_measurements))\n",
    "    print('The average loss is: ', np.mean(loss_measurements))"
   ]
  },
  {
   "cell_type": "markdown",
   "metadata": {},
   "source": [
    "## Train and Test"
   ]
  },
  {
   "cell_type": "markdown",
   "metadata": {},
   "source": [
    "Use the following:\n",
    "tensorboard --logdir=tensorboard"
   ]
  },
  {
   "cell_type": "code",
   "execution_count": 19,
   "metadata": {},
   "outputs": [
    {
     "name": "stdout",
     "output_type": "stream",
     "text": [
      "Loss is:  0.691156 ,  1  seconds\n",
      "Loss is:  0.693606 ,  226  seconds\n",
      "Loss is:  0.660645 ,  450  seconds\n",
      "Loss is:  0.688019 ,  673  seconds\n",
      "Loss is:  0.684117 ,  804  seconds\n",
      "Loss is:  0.706919 ,  920  seconds\n",
      "Loss is:  0.674572 ,  1035  seconds\n",
      "Loss is:  0.695485 ,  1151  seconds\n",
      "Loss is:  0.695464 ,  1267  seconds\n",
      "Loss is:  0.698458 ,  1382  seconds\n",
      "Loss is:  0.683549 ,  1497  seconds\n",
      "Loss is:  0.691485 ,  1612  seconds\n",
      "Loss is:  0.67309 ,  1729  seconds\n",
      "Loss is:  0.72179 ,  1845  seconds\n",
      "Loss is:  0.750071 ,  1961  seconds\n",
      "Loss is:  0.704254 ,  2076  seconds\n",
      "Loss is:  0.706589 ,  2192  seconds\n",
      "Loss is:  0.655658 ,  2308  seconds\n",
      "Loss is:  0.687527 ,  2425  seconds\n",
      "Loss is:  0.664242 ,  2541  seconds\n",
      "Loss is:  0.604972 ,  2657  seconds\n",
      "Loss is:  0.655624 ,  2773  seconds\n",
      "Loss is:  0.661902 ,  2889  seconds\n",
      "Loss is:  0.690561 ,  3005  seconds\n",
      "Loss is:  0.651645 ,  3121  seconds\n",
      "Loss is:  0.620551 ,  3236  seconds\n",
      "Loss is:  0.670532 ,  3352  seconds\n",
      "Loss is:  0.642177 ,  3468  seconds\n",
      "Loss is:  0.689473 ,  3584  seconds\n",
      "Loss is:  0.705645 ,  3699  seconds\n",
      "Loss is:  0.670324 ,  3815  seconds\n",
      "Loss is:  0.66875 ,  3931  seconds\n",
      "Loss is:  0.733335 ,  4047  seconds\n",
      "Loss is:  0.682948 ,  4163  seconds\n",
      "Loss is:  0.680625 ,  4280  seconds\n",
      "Loss is:  0.833268 ,  4396  seconds\n",
      "Loss is:  0.61265 ,  4512  seconds\n",
      "Loss is:  0.685936 ,  4628  seconds\n",
      "Loss is:  0.673294 ,  4744  seconds\n",
      "Loss is:  0.613918 ,  4859  seconds\n",
      "Loss is:  0.671916 ,  4975  seconds\n",
      "Loss is:  0.585057 ,  5090  seconds\n",
      "Loss is:  0.645457 ,  5206  seconds\n",
      "Loss is:  0.70749 ,  5321  seconds\n",
      "Loss is:  0.696142 ,  5436  seconds\n",
      "Loss is:  0.690903 ,  5552  seconds\n",
      "Loss is:  0.65256 ,  5666  seconds\n",
      "Loss is:  0.693808 ,  5781  seconds\n",
      "Loss is:  0.638811 ,  5897  seconds\n",
      "Loss is:  0.645222 ,  6012  seconds\n",
      "Loss is:  0.623836 ,  6127  seconds\n",
      "Loss is:  0.664874 ,  6242  seconds\n",
      "Loss is:  0.677038 ,  6357  seconds\n",
      "Loss is:  0.580809 ,  6472  seconds\n",
      "Loss is:  0.628275 ,  6587  seconds\n",
      "Loss is:  0.606436 ,  6703  seconds\n",
      "Loss is:  0.609017 ,  6818  seconds\n",
      "Loss is:  0.634775 ,  6933  seconds\n",
      "Loss is:  0.637708 ,  7048  seconds\n",
      "Loss is:  0.686517 ,  7164  seconds\n",
      "Loss is:  0.667264 ,  7279  seconds\n",
      "Loss is:  0.638664 ,  7394  seconds\n",
      "Loss is:  0.653893 ,  7510  seconds\n",
      "Loss is:  0.66758 ,  7625  seconds\n",
      "Loss is:  0.623883 ,  7740  seconds\n",
      "Loss is:  0.65576 ,  7855  seconds\n",
      "Loss is:  0.565541 ,  7970  seconds\n",
      "Loss is:  0.691244 ,  8085  seconds\n",
      "Loss is:  0.59388 ,  8201  seconds\n",
      "Loss is:  0.644285 ,  8316  seconds\n",
      "Loss is:  0.637855 ,  8431  seconds\n",
      "Loss is:  0.706137 ,  8547  seconds\n",
      "Loss is:  0.675547 ,  8662  seconds\n",
      "Loss is:  0.604382 ,  8777  seconds\n",
      "Loss is:  0.62696 ,  8892  seconds\n",
      "Loss is:  0.660399 ,  9007  seconds\n",
      "Loss is:  0.671446 ,  9122  seconds\n",
      "Loss is:  0.583009 ,  9237  seconds\n",
      "Loss is:  0.585385 ,  9352  seconds\n",
      "Loss is:  0.640844 ,  9468  seconds\n",
      "Loss is:  0.667221 ,  9582  seconds\n",
      "Loss is:  0.56963 ,  9697  seconds\n",
      "Loss is:  0.540655 ,  9813  seconds\n",
      "Loss is:  0.640815 ,  9928  seconds\n",
      "Loss is:  0.647925 ,  10043  seconds\n",
      "Loss is:  0.635064 ,  10158  seconds\n",
      "Loss is:  0.582345 ,  10273  seconds\n",
      "Loss is:  0.628366 ,  10390  seconds\n",
      "Loss is:  0.658205 ,  10505  seconds\n",
      "Loss is:  0.63815 ,  10621  seconds\n",
      "Loss is:  0.57846 ,  10736  seconds\n",
      "Loss is:  0.531751 ,  10851  seconds\n",
      "Loss is:  0.566961 ,  10966  seconds\n",
      "Loss is:  0.599477 ,  11082  seconds\n",
      "Loss is:  0.596172 ,  11198  seconds\n",
      "Loss is:  0.620363 ,  11313  seconds\n",
      "Loss is:  0.674728 ,  11429  seconds\n",
      "Loss is:  0.57946 ,  11544  seconds\n",
      "Loss is:  0.6721 ,  11660  seconds\n",
      "Loss is:  0.532029 ,  11775  seconds\n",
      "Loss is:  0.645334 ,  11890  seconds\n",
      "Loss is:  0.610699 ,  12006  seconds\n",
      "Loss is:  0.643124 ,  12121  seconds\n",
      "Loss is:  0.523871 ,  12236  seconds\n",
      "Loss is:  0.678707 ,  12351  seconds\n",
      "Loss is:  0.482339 ,  12468  seconds\n",
      "Loss is:  0.675425 ,  12584  seconds\n",
      "Loss is:  0.643549 ,  12700  seconds\n",
      "Loss is:  0.644513 ,  12816  seconds\n",
      "Loss is:  0.624149 ,  12932  seconds\n",
      "Loss is:  0.63769 ,  13048  seconds\n",
      "Loss is:  0.568737 ,  13164  seconds\n",
      "Loss is:  0.634984 ,  13280  seconds\n",
      "Loss is:  0.751434 ,  13395  seconds\n",
      "Loss is:  0.565408 ,  13512  seconds\n",
      "Loss is:  0.576324 ,  13627  seconds\n",
      "Loss is:  0.487511 ,  13743  seconds\n",
      "Loss is:  0.626508 ,  13859  seconds\n",
      "Loss is:  0.704897 ,  13975  seconds\n",
      "Loss is:  0.50502 ,  14091  seconds\n",
      "Loss is:  0.491252 ,  14207  seconds\n",
      "Loss is:  0.72115 ,  14326  seconds\n",
      "Loss is:  0.541927 ,  14441  seconds\n",
      "Loss is:  0.471594 ,  14558  seconds\n",
      "Loss is:  0.607407 ,  14673  seconds\n",
      "Loss is:  0.64619 ,  14789  seconds\n",
      "Loss is:  0.472831 ,  14905  seconds\n",
      "Loss is:  0.530365 ,  15021  seconds\n",
      "Loss is:  0.663375 ,  15137  seconds\n",
      "Loss is:  0.451328 ,  15253  seconds\n",
      "Loss is:  0.653198 ,  15370  seconds\n",
      "Loss is:  0.368419 ,  15486  seconds\n",
      "Loss is:  0.413249 ,  15602  seconds\n",
      "Loss is:  0.483788 ,  15718  seconds\n",
      "Loss is:  0.546349 ,  15833  seconds\n",
      "Loss is:  0.318537 ,  15949  seconds\n",
      "Loss is:  0.501026 ,  16065  seconds\n",
      "Loss is:  0.619248 ,  16181  seconds\n",
      "Loss is:  0.601341 ,  16297  seconds\n",
      "Loss is:  0.541998 ,  16413  seconds\n",
      "Loss is:  0.592514 ,  16528  seconds\n",
      "Loss is:  0.66643 ,  16645  seconds\n",
      "Loss is:  0.324936 ,  16760  seconds\n",
      "Loss is:  0.292061 ,  16876  seconds\n",
      "Loss is:  0.422229 ,  16992  seconds\n",
      "Loss is:  0.519904 ,  17108  seconds\n",
      "Loss is:  0.616691 ,  17224  seconds\n",
      "Loss is:  0.415232 ,  17340  seconds\n",
      "Loss is:  0.446182 ,  17456  seconds\n",
      "Loss is:  0.349153 ,  17572  seconds\n",
      "Loss is:  0.707211 ,  17688  seconds\n",
      "Loss is:  0.306674 ,  17803  seconds\n",
      "Loss is:  0.395978 ,  17919  seconds\n",
      "Loss is:  0.425607 ,  18035  seconds\n",
      "Loss is:  0.44927 ,  18150  seconds\n",
      "Loss is:  0.460754 ,  18266  seconds\n",
      "Loss is:  0.244736 ,  18383  seconds\n",
      "Loss is:  0.278337 ,  18499  seconds\n",
      "Loss is:  0.355708 ,  18615  seconds\n",
      "Loss is:  0.401028 ,  18731  seconds\n",
      "Loss is:  0.395828 ,  18847  seconds\n",
      "Loss is:  0.736321 ,  18963  seconds\n",
      "Loss is:  0.433912 ,  19080  seconds\n",
      "Loss is:  0.223347 ,  19196  seconds\n",
      "Loss is:  0.195948 ,  19312  seconds\n",
      "Loss is:  0.346528 ,  19428  seconds\n",
      "Loss is:  0.248709 ,  19544  seconds\n",
      "Loss is:  0.28293 ,  19660  seconds\n",
      "Loss is:  0.390283 ,  19776  seconds\n",
      "Loss is:  0.324654 ,  19892  seconds\n",
      "Loss is:  0.431489 ,  20008  seconds\n",
      "Loss is:  0.275764 ,  20124  seconds\n",
      "Loss is:  0.553669 ,  20241  seconds\n",
      "Loss is:  0.720915 ,  20357  seconds\n",
      "Loss is:  0.421913 ,  20473  seconds\n",
      "Loss is:  0.348013 ,  20589  seconds\n",
      "Loss is:  0.39306 ,  20705  seconds\n",
      "Loss is:  0.261032 ,  20822  seconds\n",
      "Loss is:  0.202658 ,  20938  seconds\n",
      "Loss is:  0.488668 ,  21054  seconds\n",
      "Loss is:  0.349463 ,  21170  seconds\n",
      "Loss is:  0.325859 ,  21287  seconds\n",
      "Loss is:  0.25569 ,  21403  seconds\n",
      "Loss is:  0.404931 ,  21519  seconds\n",
      "Loss is:  0.25279 ,  21635  seconds\n",
      "Loss is:  0.461024 ,  21751  seconds\n",
      "Loss is:  0.384084 ,  21867  seconds\n",
      "Loss is:  0.32658 ,  21984  seconds\n",
      "Loss is:  0.182701 ,  22100  seconds\n",
      "Loss is:  0.510171 ,  22217  seconds\n",
      "Loss is:  0.344219 ,  22334  seconds\n",
      "Loss is:  0.252397 ,  22451  seconds\n",
      "Loss is:  0.302318 ,  22567  seconds\n",
      "Loss is:  0.460246 ,  22683  seconds\n",
      "Loss is:  0.259696 ,  22799  seconds\n",
      "Loss is:  0.276754 ,  22915  seconds\n",
      "Loss is:  0.205794 ,  23030  seconds\n",
      "Loss is:  0.384271 ,  23146  seconds\n",
      "Loss is:  0.289874 ,  23262  seconds\n",
      "Loss is:  0.184395 ,  23378  seconds\n",
      "Loss is:  0.23679 ,  23493  seconds\n",
      "Loss is:  0.314547 ,  23609  seconds\n",
      "Loss is:  0.172281 ,  23725  seconds\n",
      "Loss is:  0.44799 ,  23841  seconds\n",
      "Loss is:  0.255683 ,  23958  seconds\n",
      "Loss is:  0.543514 ,  24074  seconds\n",
      "Loss is:  0.550628 ,  24190  seconds\n",
      "Loss is:  0.261543 ,  24306  seconds\n",
      "Loss is:  0.203329 ,  24422  seconds\n",
      "Loss is:  0.144095 ,  24538  seconds\n",
      "Loss is:  0.231127 ,  24654  seconds\n",
      "Loss is:  0.315369 ,  24770  seconds\n",
      "Loss is:  0.164961 ,  24885  seconds\n",
      "Loss is:  0.4376 ,  25001  seconds\n",
      "Loss is:  0.344439 ,  25118  seconds\n",
      "Loss is:  0.207301 ,  25234  seconds\n",
      "Loss is:  0.3115 ,  25350  seconds\n",
      "Loss is:  0.426343 ,  25466  seconds\n",
      "Loss is:  0.207596 ,  25582  seconds\n",
      "Loss is:  0.500546 ,  25699  seconds\n",
      "Loss is:  0.252368 ,  25815  seconds\n",
      "Loss is:  0.199338 ,  25931  seconds\n",
      "Loss is:  0.233544 ,  26047  seconds\n",
      "Loss is:  0.47105 ,  26164  seconds\n",
      "Loss is:  0.461205 ,  26280  seconds\n"
     ]
    },
    {
     "name": "stdout",
     "output_type": "stream",
     "text": [
      "Loss is:  0.397257 ,  26396  seconds\n",
      "Loss is:  0.168147 ,  26512  seconds\n",
      "Loss is:  0.0679485 ,  26628  seconds\n",
      "Loss is:  0.129056 ,  26745  seconds\n",
      "Loss is:  0.343421 ,  26861  seconds\n",
      "Loss is:  0.352545 ,  26977  seconds\n",
      "Loss is:  0.45172 ,  27093  seconds\n",
      "Loss is:  0.199107 ,  27210  seconds\n",
      "Loss is:  0.581389 ,  27326  seconds\n",
      "Loss is:  0.273102 ,  27442  seconds\n",
      "Loss is:  0.257325 ,  27559  seconds\n",
      "Loss is:  0.409929 ,  27675  seconds\n",
      "Loss is:  0.241559 ,  27792  seconds\n",
      "Loss is:  0.212319 ,  27908  seconds\n",
      "Loss is:  0.203805 ,  28024  seconds\n",
      "Loss is:  0.151152 ,  28140  seconds\n",
      "Loss is:  0.241127 ,  28256  seconds\n",
      "Loss is:  0.619059 ,  28372  seconds\n",
      "Loss is:  0.299013 ,  28488  seconds\n",
      "Loss is:  0.194496 ,  28605  seconds\n",
      "Loss is:  0.226682 ,  28721  seconds\n",
      "Loss is:  0.394552 ,  28838  seconds\n",
      "Loss is:  0.262626 ,  28955  seconds\n",
      "Loss is:  0.367318 ,  29072  seconds\n",
      "Loss is:  0.327194 ,  29189  seconds\n",
      "Loss is:  0.175168 ,  29305  seconds\n",
      "Loss is:  0.479147 ,  29421  seconds\n",
      "Loss is:  0.264559 ,  29537  seconds\n",
      "Loss is:  0.162516 ,  29653  seconds\n",
      "Loss is:  0.427984 ,  29769  seconds\n",
      "Loss is:  0.578766 ,  29885  seconds\n",
      "Loss is:  0.159119 ,  30001  seconds\n",
      "Loss is:  0.3764 ,  30117  seconds\n",
      "Loss is:  0.279569 ,  30232  seconds\n",
      "Loss is:  0.296738 ,  30348  seconds\n",
      "Testing Results:\n",
      "The average accuracy is:  0.841667\n",
      "The average loss is:  0.463059\n"
     ]
    }
   ],
   "source": [
    "import datetime\n",
    "\n",
    "with tf.Session() as sess:\n",
    "    #saver = tf.train.Saver()\n",
    "    sess.run(tf.global_variables_initializer())\n",
    "    \n",
    "    tf.summary.scalar('Loss', loss)\n",
    "    tf.summary.scalar('Accuracy', accuracy)\n",
    "    merged = tf.summary.merge_all()\n",
    "    logdir = \"tensorboard/\" + datetime.datetime.now().strftime(\"%Y%m%d-%H%M%S\") + \"/\"\n",
    "    writer = tf.summary.FileWriter(logdir, sess.graph)\n",
    "        \n",
    "    # Train model\n",
    "    TrainModel(sess, writer)\n",
    "    \n",
    "    # Test model\n",
    "    TestModel(sess)\n",
    "    \n",
    "    writer.close()"
   ]
  }
 ],
 "metadata": {
  "kernelspec": {
   "display_name": "Python 3",
   "language": "python",
   "name": "python3"
  },
  "language_info": {
   "codemirror_mode": {
    "name": "ipython",
    "version": 3
   },
   "file_extension": ".py",
   "mimetype": "text/x-python",
   "name": "python",
   "nbconvert_exporter": "python",
   "pygments_lexer": "ipython3",
   "version": "3.6.4"
  },
  "toc": {
   "base_numbering": 1,
   "nav_menu": {},
   "number_sections": true,
   "sideBar": true,
   "skip_h1_title": true,
   "title_cell": "Table of Contents",
   "title_sidebar": "Contents",
   "toc_cell": false,
   "toc_position": {},
   "toc_section_display": true,
   "toc_window_display": false
  }
 },
 "nbformat": 4,
 "nbformat_minor": 2
}
