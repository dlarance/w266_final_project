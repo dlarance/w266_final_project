{
 "cells": [
  {
   "cell_type": "markdown",
   "metadata": {},
   "source": [
    "# Binary Sentiment Classification of Amazon Food Reviews"
   ]
  },
  {
   "cell_type": "code",
   "execution_count": 90,
   "metadata": {},
   "outputs": [],
   "source": [
    "import numpy as np\n",
    "import pandas as pd"
   ]
  },
  {
   "cell_type": "markdown",
   "metadata": {},
   "source": [
    "RNN Model Parameters"
   ]
  },
  {
   "cell_type": "code",
   "execution_count": 91,
   "metadata": {},
   "outputs": [],
   "source": [
    "batchSize = 24\n",
    "numClasses = 2  # Binary classification\n",
    "hiddenSize = 50\n",
    "\n",
    "assert(batchSize % numClasses == 0)"
   ]
  },
  {
   "cell_type": "markdown",
   "metadata": {},
   "source": [
    "## Word Vectors"
   ]
  },
  {
   "cell_type": "code",
   "execution_count": 92,
   "metadata": {},
   "outputs": [],
   "source": [
    "from pathlib import Path\n",
    "import os.path\n",
    "wordsList = np.load(os.path.join(str(Path.home()), '.kaggle/wordvectors/pretrained_glove/wordsList.npy'))\n",
    "wordsList = wordsList.tolist() #Originally loaded as numpy array\n",
    "wordsList = [word.decode('UTF-8') for word in wordsList] #Encode words as UTF-8\n",
    "wordVectors = np.load(os.path.join(str(Path.home()), '.kaggle/wordvectors/pretrained_glove/wordVectors.npy'))"
   ]
  },
  {
   "cell_type": "markdown",
   "metadata": {},
   "source": [
    "Word Vectors have dimension 50"
   ]
  },
  {
   "cell_type": "code",
   "execution_count": 93,
   "metadata": {},
   "outputs": [],
   "source": [
    "embedding_dimension = 50"
   ]
  },
  {
   "cell_type": "markdown",
   "metadata": {},
   "source": [
    "## Reviews"
   ]
  },
  {
   "cell_type": "markdown",
   "metadata": {},
   "source": [
    "Load the Reviews"
   ]
  },
  {
   "cell_type": "code",
   "execution_count": 94,
   "metadata": {},
   "outputs": [],
   "source": [
    "import nltk\n",
    "from nltk.tokenize import word_tokenize"
   ]
  },
  {
   "cell_type": "code",
   "execution_count": 95,
   "metadata": {},
   "outputs": [],
   "source": [
    "review_df = pd.read_csv('~/.kaggle/datasets/snap/amazon-fine-food-reviews/Reviews.csv', encoding='utf8')\n",
    "review_df = review_df.drop(['ProductId', 'UserId', 'ProfileName', 'HelpfulnessNumerator', 'HelpfulnessDenominator', 'Time', 'Summary'], axis=1)"
   ]
  },
  {
   "cell_type": "markdown",
   "metadata": {},
   "source": [
    "Use the one and five star reviews"
   ]
  },
  {
   "cell_type": "code",
   "execution_count": 96,
   "metadata": {},
   "outputs": [],
   "source": [
    "one_df = review_df[review_df.Score == 1]\n",
    "one_df.reset_index(inplace=True)\n",
    "\n",
    "five_df = review_df[review_df.Score == 5]\n",
    "five_df.reset_index(inplace=True)"
   ]
  },
  {
   "cell_type": "markdown",
   "metadata": {},
   "source": [
    "Limit number of ratings for development"
   ]
  },
  {
   "cell_type": "code",
   "execution_count": 97,
   "metadata": {},
   "outputs": [],
   "source": [
    "max_num_ratings = 12500\n",
    "one_df = one_df[0:max_num_ratings]\n",
    "five_df = five_df[0:max_num_ratings]"
   ]
  },
  {
   "cell_type": "markdown",
   "metadata": {},
   "source": [
    "Define the size of the train, dev, and test datasets"
   ]
  },
  {
   "cell_type": "code",
   "execution_count": 98,
   "metadata": {},
   "outputs": [],
   "source": [
    "import math\n",
    "\n",
    "# Train with 60%, , Dev: 10%, Test: 30%\n",
    "train_percent = 0.6\n",
    "dev_percent = 0.1\n",
    "test_percent = 0.3\n",
    "\n",
    "# Get indicies of the rows in the dataframe for training and testing\n",
    "train_lower_index = 0\n",
    "dev_lower_index   = math.floor(train_percent*max_num_ratings)\n",
    "test_lower_index  = math.floor( (train_percent+dev_percent)*max_num_ratings )\n",
    "\n",
    "train_size = dev_lower_index - train_lower_index\n",
    "dev_size   = test_lower_index - dev_lower_index\n",
    "test_size  = max_num_ratings - test_lower_index"
   ]
  },
  {
   "cell_type": "markdown",
   "metadata": {},
   "source": [
    "Remove punctuation, lowercase, and then tokenize the reviews.  The tokens need to be lowercase for the embedding lookup."
   ]
  },
  {
   "cell_type": "code",
   "execution_count": 99,
   "metadata": {},
   "outputs": [],
   "source": [
    "import re\n",
    "\n",
    "strip_special_chars = re.compile(\"[^A-Za-z0-9 ]+\")\n",
    "\n",
    "def cleanSentences(string):\n",
    "    return word_tokenize(re.sub(strip_special_chars, \" \", string.lower()))\n",
    "\n",
    "one_df['Tokens'] = one_df['Text'].apply(lambda text: cleanSentences(text))\n",
    "five_df['Tokens'] = five_df['Text'].apply(lambda text: cleanSentences(text))"
   ]
  },
  {
   "cell_type": "markdown",
   "metadata": {},
   "source": [
    "Create the array of input sentences converted to word IDs. \n",
    "One extra integer to store the review ID"
   ]
  },
  {
   "cell_type": "code",
   "execution_count": 100,
   "metadata": {},
   "outputs": [],
   "source": [
    "maxSeqLength = 267 # From EDA"
   ]
  },
  {
   "cell_type": "code",
   "execution_count": 101,
   "metadata": {},
   "outputs": [],
   "source": [
    "word_ids = np.zeros((2*max_num_ratings, maxSeqLength+1), dtype='int32')"
   ]
  },
  {
   "cell_type": "markdown",
   "metadata": {},
   "source": [
    "Convert words to word IDs and store in word_ids"
   ]
  },
  {
   "cell_type": "code",
   "execution_count": 102,
   "metadata": {},
   "outputs": [],
   "source": [
    "sentence_index = 0\n",
    "\n",
    "for df in [one_df, five_df]:\n",
    "    \n",
    "    for _, row in df.iterrows():\n",
    "\n",
    "        # Store the review Id for identifying misclassified reviews in testing\n",
    "        word_index = 0\n",
    "        word_ids[sentence_index][word_index] = row['Id']\n",
    "        word_index = word_index + 1\n",
    "\n",
    "        for word in row['Tokens']:\n",
    "\n",
    "            try:\n",
    "                word_ids[sentence_index][word_index] = wordsList.index(word)\n",
    "            except ValueError:\n",
    "                word_ids[sentence_index][word_index] = 399999 #Vector for unkown words\n",
    "\n",
    "            word_index = word_index + 1\n",
    "\n",
    "            if word_index == maxSeqLength:\n",
    "                break\n",
    "\n",
    "        sentence_index = sentence_index + 1\n"
   ]
  },
  {
   "cell_type": "markdown",
   "metadata": {},
   "source": [
    "Create functions to get the train and test batches"
   ]
  },
  {
   "cell_type": "code",
   "execution_count": 103,
   "metadata": {},
   "outputs": [],
   "source": [
    "from random import randint\n",
    "\n",
    "def getBalancedReviews(sectionOffset, sectionSize):\n",
    "    labels = []\n",
    "    arr = np.zeros([batchSize, maxSeqLength])\n",
    "    ids = np.zeros(batchSize)\n",
    "    \n",
    "    for i in range(batchSize):\n",
    "        \n",
    "        rating = i % 2\n",
    "        \n",
    "        if (rating == 0): \n",
    "            num = randint(0,sectionSize-1)\n",
    "            labels.append([1, 0])\n",
    "        elif (rating == 1): \n",
    "            num = randint(1*sectionSize,2*sectionSize-1)\n",
    "            labels.append([0, 1])\n",
    "        \n",
    "        num = num + sectionOffset\n",
    "        arr[i] = word_ids[num, 1:]\n",
    "        ids[i] = word_ids[num, 0]\n",
    "        \n",
    "    return arr, labels, ids\n",
    "\n",
    "def getRandomReviews(sectionOffset, sectionSize):\n",
    "    labels = []\n",
    "    arr = np.zeros([batchSize, maxSeqLength])\n",
    "    ids = np.zeros(batchSize)\n",
    "    \n",
    "    for i in range(batchSize):\n",
    "        \n",
    "        num = randint(0, 2*sectionSize-1)\n",
    "        \n",
    "        if (num < sectionSize): \n",
    "            labels.append([1, 0])\n",
    "        elif (num < 2*sectionSize): \n",
    "            labels.append([0, 1])\n",
    "        \n",
    "        num = num + sectionOffset\n",
    "        arr[i] = word_ids[num, 1:]\n",
    "        ids[i] = word_ids[num, 0]\n",
    "        \n",
    "    return arr, labels, ids\n",
    "\n",
    "def getTrainBatch():\n",
    "    return getBalancedReviews(train_lower_index, train_size)\n",
    "\n",
    "def getDevBatch():\n",
    "    return getRandomReviews(dev_lower_index, dev_size)\n",
    "\n",
    "def getTestBatch():\n",
    "    return getRandomReviews(test_lower_index, test_size)"
   ]
  },
  {
   "cell_type": "markdown",
   "metadata": {},
   "source": [
    "## Tensorflow Model"
   ]
  },
  {
   "cell_type": "markdown",
   "metadata": {},
   "source": [
    "Hyper Parameters"
   ]
  },
  {
   "cell_type": "code",
   "execution_count": 104,
   "metadata": {},
   "outputs": [],
   "source": [
    "learning_rate =  0.001\n",
    "dropout_keep_prob = 0.75"
   ]
  },
  {
   "cell_type": "markdown",
   "metadata": {},
   "source": [
    "Model"
   ]
  },
  {
   "cell_type": "code",
   "execution_count": 105,
   "metadata": {},
   "outputs": [],
   "source": [
    "import tensorflow as tf\n",
    "tf.reset_default_graph()\n",
    "\n",
    "labels = tf.placeholder(tf.float32, [batchSize, numClasses])\n",
    "input_data = tf.placeholder(tf.int32, [batchSize, maxSeqLength])\n",
    "\n",
    "data = tf.Variable(tf.zeros([batchSize, maxSeqLength, embedding_dimension]), dtype=tf.float32)\n",
    "data = tf.nn.embedding_lookup(wordVectors, input_data)\n",
    "\n",
    "lstmCell = tf.contrib.rnn.BasicLSTMCell(hiddenSize)\n",
    "lstmCell = tf.contrib.rnn.DropoutWrapper(cell=lstmCell, output_keep_prob=dropout_keep_prob)\n",
    "rnn_out, _ = tf.nn.dynamic_rnn(lstmCell, data, dtype=tf.float32)\n",
    "\n",
    "W_out = tf.Variable(tf.truncated_normal([hiddenSize, numClasses]), dtype=tf.float32)\n",
    "b_out = tf.Variable(tf.constant(0.1, shape=[numClasses]), dtype=tf.float32)\n",
    "\n",
    "# Get the output of the last RNN cell\n",
    "rnn_out = tf.transpose(rnn_out, [1, 0, 2])\n",
    "last_cell_out = tf.gather(rnn_out, int(rnn_out.get_shape()[0]) - 1)\n",
    "\n",
    "# Calculate logits\n",
    "logits = (tf.matmul(last_cell_out, W_out) + b_out)\n",
    "\n",
    "# Calculate prediction and accuracy\n",
    "prediction = tf.argmax(logits,1)\n",
    "correctPred = tf.equal(prediction, tf.argmax(labels,1))\n",
    "accuracy = tf.reduce_mean(tf.cast(correctPred, tf.float32))\n",
    "\n",
    "# Loss function and optimizer\n",
    "loss = tf.reduce_mean(tf.nn.softmax_cross_entropy_with_logits(logits=logits, labels=labels))\n",
    "optimizer = tf.train.AdamOptimizer(learning_rate=learning_rate).minimize(loss)"
   ]
  },
  {
   "cell_type": "markdown",
   "metadata": {},
   "source": [
    "## Train Model"
   ]
  },
  {
   "cell_type": "code",
   "execution_count": 106,
   "metadata": {},
   "outputs": [],
   "source": [
    "import datetime\n",
    "\n",
    "def TrainModel(session, writer):\n",
    "    \n",
    "    start_time = datetime.datetime.now()\n",
    "    \n",
    "    i = 0  # Must stay outside the loops\n",
    "    \n",
    "    for epoch in range(500000):\n",
    "        \n",
    "        # Next Batch of reviews\n",
    "        nextBatch, nextBatchLabels, reviewIds = getTrainBatch()\n",
    "\n",
    "        feed_dict_ = {\n",
    "            input_data: nextBatch,\n",
    "            labels: nextBatchLabels\n",
    "        }\n",
    "\n",
    "        loss_, _ = session.run([loss, optimizer], feed_dict=feed_dict_)\n",
    "\n",
    "        #Write summary to Tensorboard\n",
    "        if (i % 10 == 0):\n",
    "            summary = session.run(merged, {input_data: nextBatch, labels: nextBatchLabels})\n",
    "            writer.add_summary(summary, i)\n",
    "\n",
    "        if (i % 500 == 0):\n",
    "            print(\"Loss is: \", loss_, \", \", (datetime.datetime.now() - start_time).seconds, \" seconds\")\n",
    "\n",
    "        i = i + 1"
   ]
  },
  {
   "cell_type": "markdown",
   "metadata": {},
   "source": [
    "## Test Model"
   ]
  },
  {
   "cell_type": "code",
   "execution_count": 107,
   "metadata": {},
   "outputs": [],
   "source": [
    "def TestModel(session):\n",
    "    \n",
    "    csv = open('Mispredicted_AmazonBinaryClassification.csv', 'w')\n",
    "    csv.write(\"Id\\n\")\n",
    "    \n",
    "    for epoch in range(20):\n",
    "    \n",
    "        nextBatch, nextBatchLabels, reviewIds = getTestBatch()\n",
    "\n",
    "        feed_dict = {\n",
    "            input_data: nextBatch,\n",
    "            labels: nextBatchLabels\n",
    "        }\n",
    "\n",
    "        accuracy_, loss_ = sess.run([accuracy, loss], feed_dict)\n",
    "\n",
    "        if accuracy_ < 1.0:\n",
    "            #print(\"Accuracy for this batch: \", accuracy_ * 100)\n",
    "            \n",
    "            predictions_ = sess.run(prediction, feed_dict)\n",
    "            \n",
    "            for index in range(len(predictions_)):\n",
    "\n",
    "                if predictions_[index] != np.argmax(nextBatchLabels[index]):\n",
    "                    csv.write(str(reviewIds[index]) + \"\\n\")\n"
   ]
  },
  {
   "cell_type": "markdown",
   "metadata": {},
   "source": [
    "## Train and Test"
   ]
  },
  {
   "cell_type": "markdown",
   "metadata": {},
   "source": [
    "Use the following:\n",
    "tensorboard --logdir=tensorboard"
   ]
  },
  {
   "cell_type": "code",
   "execution_count": 108,
   "metadata": {},
   "outputs": [
    {
     "name": "stdout",
     "output_type": "stream",
     "text": [
      "Loss is:  0.72258425 ,  2  seconds\n",
      "Loss is:  0.7123161 ,  32  seconds\n",
      "Loss is:  0.69969684 ,  61  seconds\n",
      "Loss is:  0.6710457 ,  90  seconds\n",
      "Loss is:  0.6939872 ,  119  seconds\n",
      "Loss is:  0.69266003 ,  148  seconds\n",
      "Loss is:  0.6911041 ,  178  seconds\n",
      "Loss is:  0.697511 ,  207  seconds\n",
      "Loss is:  0.683413 ,  237  seconds\n",
      "Loss is:  0.6926566 ,  266  seconds\n",
      "Loss is:  0.6479017 ,  295  seconds\n",
      "Loss is:  0.6767521 ,  324  seconds\n",
      "Loss is:  0.68794566 ,  353  seconds\n",
      "Loss is:  0.6932008 ,  382  seconds\n",
      "Loss is:  0.6994125 ,  411  seconds\n",
      "Loss is:  0.6939947 ,  440  seconds\n",
      "Loss is:  0.6805227 ,  469  seconds\n",
      "Loss is:  0.6710515 ,  499  seconds\n",
      "Loss is:  0.68880343 ,  529  seconds\n",
      "Loss is:  0.63386387 ,  558  seconds\n",
      "Loss is:  0.69727534 ,  588  seconds\n",
      "Loss is:  0.64367485 ,  617  seconds\n",
      "Loss is:  0.67635554 ,  646  seconds\n",
      "Loss is:  0.647926 ,  676  seconds\n",
      "Loss is:  0.67787486 ,  705  seconds\n",
      "Loss is:  0.66235536 ,  734  seconds\n",
      "Loss is:  0.69567555 ,  764  seconds\n",
      "Loss is:  0.6671702 ,  793  seconds\n",
      "Loss is:  0.69084483 ,  822  seconds\n",
      "Loss is:  0.69156986 ,  852  seconds\n",
      "Loss is:  0.6857992 ,  881  seconds\n",
      "Loss is:  0.66953665 ,  910  seconds\n",
      "Loss is:  0.67525834 ,  941  seconds\n",
      "Loss is:  0.6791048 ,  970  seconds\n",
      "Loss is:  0.631057 ,  998  seconds\n",
      "Loss is:  0.63221353 ,  1027  seconds\n",
      "Loss is:  0.68435365 ,  1056  seconds\n",
      "Loss is:  0.69349 ,  1085  seconds\n",
      "Loss is:  0.64738506 ,  1115  seconds\n",
      "Loss is:  0.63733625 ,  1144  seconds\n",
      "Loss is:  0.6321903 ,  1174  seconds\n",
      "Loss is:  0.7521704 ,  1203  seconds\n",
      "Loss is:  0.6887906 ,  1232  seconds\n",
      "Loss is:  0.6422267 ,  1261  seconds\n",
      "Loss is:  0.68659955 ,  1290  seconds\n",
      "Loss is:  0.64049596 ,  1319  seconds\n",
      "Loss is:  0.68049794 ,  1348  seconds\n",
      "Loss is:  0.6683627 ,  1377  seconds\n",
      "Loss is:  0.6612992 ,  1406  seconds\n",
      "Loss is:  0.6871975 ,  1435  seconds\n",
      "Loss is:  0.6784752 ,  1464  seconds\n",
      "Loss is:  0.63757277 ,  1493  seconds\n",
      "Loss is:  0.6695576 ,  1523  seconds\n",
      "Loss is:  0.7385931 ,  1554  seconds\n",
      "Loss is:  0.6146733 ,  1583  seconds\n",
      "Loss is:  0.6752003 ,  1612  seconds\n",
      "Loss is:  0.6104979 ,  1641  seconds\n",
      "Loss is:  0.63617194 ,  1670  seconds\n",
      "Loss is:  0.6272077 ,  1699  seconds\n",
      "Loss is:  0.6617692 ,  1729  seconds\n",
      "Loss is:  0.6287162 ,  1760  seconds\n",
      "Loss is:  0.64422476 ,  1789  seconds\n",
      "Loss is:  0.6419905 ,  1818  seconds\n",
      "Loss is:  0.64902896 ,  1847  seconds\n",
      "Loss is:  0.6844158 ,  1876  seconds\n",
      "Loss is:  0.64357156 ,  1904  seconds\n",
      "Loss is:  0.66387874 ,  1933  seconds\n",
      "Loss is:  0.64748555 ,  1962  seconds\n",
      "Loss is:  0.6446649 ,  1990  seconds\n",
      "Loss is:  0.6374338 ,  2019  seconds\n",
      "Loss is:  0.6543583 ,  2048  seconds\n",
      "Loss is:  0.61922693 ,  2077  seconds\n",
      "Loss is:  0.7012827 ,  2105  seconds\n",
      "Loss is:  0.6198011 ,  2134  seconds\n",
      "Loss is:  0.64931923 ,  2163  seconds\n",
      "Loss is:  0.5997068 ,  2191  seconds\n",
      "Loss is:  0.67988414 ,  2220  seconds\n",
      "Loss is:  0.6609363 ,  2249  seconds\n",
      "Loss is:  0.6522896 ,  2278  seconds\n",
      "Loss is:  0.6848841 ,  2306  seconds\n",
      "Loss is:  0.70347244 ,  2335  seconds\n",
      "Loss is:  0.66413516 ,  2364  seconds\n",
      "Loss is:  0.63496315 ,  2393  seconds\n",
      "Loss is:  0.6373523 ,  2430  seconds\n",
      "Loss is:  0.66591245 ,  2466  seconds\n",
      "Loss is:  0.64495414 ,  2503  seconds\n",
      "Loss is:  0.65262383 ,  2540  seconds\n",
      "Loss is:  0.69505984 ,  2576  seconds\n",
      "Loss is:  0.60561496 ,  2613  seconds\n",
      "Loss is:  0.6752061 ,  2650  seconds\n",
      "Loss is:  0.61992925 ,  2686  seconds\n",
      "Loss is:  0.62537485 ,  2723  seconds\n",
      "Loss is:  0.6751601 ,  2760  seconds\n",
      "Loss is:  0.6036613 ,  2796  seconds\n",
      "Loss is:  0.732001 ,  2833  seconds\n",
      "Loss is:  0.65185004 ,  2870  seconds\n",
      "Loss is:  0.589108 ,  2906  seconds\n",
      "Loss is:  0.60300595 ,  2943  seconds\n",
      "Loss is:  0.5856888 ,  2980  seconds\n",
      "Loss is:  0.62059253 ,  3016  seconds\n"
     ]
    }
   ],
   "source": [
    "import datetime\n",
    "\n",
    "with tf.Session() as sess:\n",
    "    #saver = tf.train.Saver()\n",
    "    sess.run(tf.global_variables_initializer())\n",
    "    \n",
    "    tf.summary.scalar('Loss', loss)\n",
    "    tf.summary.scalar('Accuracy', accuracy)\n",
    "    merged = tf.summary.merge_all()\n",
    "    logdir = \"tensorboard/\" + datetime.datetime.now().strftime(\"%Y%m%d-%H%M%S\") + \"/\"\n",
    "    writer = tf.summary.FileWriter(logdir, sess.graph)\n",
    "        \n",
    "    # Train model\n",
    "    TrainModel(sess, writer)\n",
    "    \n",
    "    # Test model\n",
    "    TestModel(sess)\n",
    "    \n",
    "    writer.close()"
   ]
  }
 ],
 "metadata": {
  "kernelspec": {
   "display_name": "Python 3",
   "language": "python",
   "name": "python3"
  },
  "language_info": {
   "codemirror_mode": {
    "name": "ipython",
    "version": 3
   },
   "file_extension": ".py",
   "mimetype": "text/x-python",
   "name": "python",
   "nbconvert_exporter": "python",
   "pygments_lexer": "ipython3",
   "version": "3.5.5"
  },
  "toc": {
   "base_numbering": 1,
   "nav_menu": {},
   "number_sections": true,
   "sideBar": true,
   "skip_h1_title": true,
   "title_cell": "Table of Contents",
   "title_sidebar": "Contents",
   "toc_cell": false,
   "toc_position": {},
   "toc_section_display": true,
   "toc_window_display": false
  }
 },
 "nbformat": 4,
 "nbformat_minor": 2
}
